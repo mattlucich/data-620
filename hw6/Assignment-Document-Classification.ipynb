{
 "cells": [
  {
   "cell_type": "code",
   "execution_count": 161,
   "id": "e0f95c52",
   "metadata": {},
   "outputs": [],
   "source": [
    "import pandas as pd\n",
    "import numpy as np\n",
    "import re\n",
    "import nltk\n",
    "import datasets\n",
    "from transformers import AutoModelForSequenceClassification, AutoTokenizer\n",
    "from transformers import DataCollatorWithPadding, TrainingArguments, Trainer\n",
    "from sentence_transformers import SentenceTransformer\n",
    "from datasets import load_metric\n",
    "from sklearn.metrics import precision_recall_fscore_support, accuracy_score"
   ]
  },
  {
   "cell_type": "code",
   "execution_count": 162,
   "id": "54ff56ca",
   "metadata": {},
   "outputs": [],
   "source": [
    "df_polusa = pd.read_csv(\"polusa_2019_5k.csv\")"
   ]
  },
  {
   "cell_type": "code",
   "execution_count": 163,
   "id": "431aa0f9",
   "metadata": {},
   "outputs": [
    {
     "data": {
      "text/plain": [
       "(5000, 12)"
      ]
     },
     "execution_count": 163,
     "metadata": {},
     "output_type": "execute_result"
    }
   ],
   "source": [
    "df_polusa.shape"
   ]
  },
  {
   "cell_type": "code",
   "execution_count": 164,
   "id": "91eeec64",
   "metadata": {},
   "outputs": [
    {
     "data": {
      "text/plain": [
       "{'ABC News',\n",
       " 'Breitbart',\n",
       " 'CBS News',\n",
       " 'Fox News',\n",
       " 'HuffPost',\n",
       " 'Los Angeles Times',\n",
       " 'NBC News',\n",
       " 'NPR',\n",
       " 'National Review',\n",
       " 'PBS',\n",
       " 'Reuters',\n",
       " 'Slate',\n",
       " 'The Daily Caller',\n",
       " 'The Guardian',\n",
       " 'The Nation',\n",
       " 'The New York Times',\n",
       " 'The State',\n",
       " 'Townhall',\n",
       " 'USA Today',\n",
       " 'Yahoo! News'}"
      ]
     },
     "execution_count": 164,
     "metadata": {},
     "output_type": "execute_result"
    }
   ],
   "source": [
    "set(df_polusa[\"outlet\"])"
   ]
  },
  {
   "cell_type": "code",
   "execution_count": 165,
   "id": "ef7e421f",
   "metadata": {},
   "outputs": [
    {
     "data": {
      "text/plain": [
       "{'CENTER', 'LEFT', 'RIGHT'}"
      ]
     },
     "execution_count": 165,
     "metadata": {},
     "output_type": "execute_result"
    }
   ],
   "source": [
    "set(df_polusa[\"political_leaning\"])"
   ]
  },
  {
   "cell_type": "code",
   "execution_count": 166,
   "id": "0c9f2ae2",
   "metadata": {},
   "outputs": [
    {
     "data": {
      "text/plain": [
       "CENTER    0.5688\n",
       "LEFT      0.2624\n",
       "RIGHT     0.1688\n",
       "Name: political_leaning, dtype: float64"
      ]
     },
     "execution_count": 166,
     "metadata": {},
     "output_type": "execute_result"
    }
   ],
   "source": [
    "df_polusa['political_leaning'].value_counts() / len(df_polusa)"
   ]
  },
  {
   "cell_type": "code",
   "execution_count": 169,
   "id": "96dbe372",
   "metadata": {},
   "outputs": [
    {
     "data": {
      "text/html": [
       "<div>\n",
       "<style scoped>\n",
       "    .dataframe tbody tr th:only-of-type {\n",
       "        vertical-align: middle;\n",
       "    }\n",
       "\n",
       "    .dataframe tbody tr th {\n",
       "        vertical-align: top;\n",
       "    }\n",
       "\n",
       "    .dataframe thead th {\n",
       "        text-align: right;\n",
       "    }\n",
       "</style>\n",
       "<table border=\"1\" class=\"dataframe\">\n",
       "  <thead>\n",
       "    <tr style=\"text-align: right;\">\n",
       "      <th></th>\n",
       "      <th>id</th>\n",
       "      <th>date_publish</th>\n",
       "      <th>outlet</th>\n",
       "      <th>headline</th>\n",
       "      <th>lead</th>\n",
       "      <th>body</th>\n",
       "      <th>authors</th>\n",
       "      <th>domain</th>\n",
       "      <th>url</th>\n",
       "      <th>political_leaning</th>\n",
       "      <th>head_lead_body</th>\n",
       "    </tr>\n",
       "  </thead>\n",
       "  <tbody>\n",
       "    <tr>\n",
       "      <th>0</th>\n",
       "      <td>54579766</td>\n",
       "      <td>2019-08-26 17:10:59</td>\n",
       "      <td>National Review</td>\n",
       "      <td>Kevin Williamson &amp; Bill Maher: Author Talks Mo...</td>\n",
       "      <td>Kevin Williamson &amp; Bill Maher: Author Talks Mo...</td>\n",
       "      <td>Kevin Williamson &amp; Bill Maher: Author Talks Mo...</td>\n",
       "      <td>Kyle Smith;Philip Magness;Robert Bryce;Dan Mcl...</td>\n",
       "      <td>www.nationalreview.com</td>\n",
       "      <td>https://www.nationalreview.com/corner/kevin-im...</td>\n",
       "      <td>RIGHT</td>\n",
       "      <td>Kevin Williamson &amp; Bill Maher: Author Talks Mo...</td>\n",
       "    </tr>\n",
       "    <tr>\n",
       "      <th>1</th>\n",
       "      <td>54581007</td>\n",
       "      <td>2019-08-26 17:11:30</td>\n",
       "      <td>National Review</td>\n",
       "      <td>Federal Prosecutors to Seek Death Penalty for ...</td>\n",
       "      <td>Federal Prosecutors to Seek Death Penalty for ...</td>\n",
       "      <td>Federal Prosecutors to Seek Death Penalty for ...</td>\n",
       "      <td>Mairead Mcardle;Kyle Smith;Philip Magness;Dan ...</td>\n",
       "      <td>www.nationalreview.com</td>\n",
       "      <td>https://www.nationalreview.com/news/federal-pr...</td>\n",
       "      <td>RIGHT</td>\n",
       "      <td>Federal Prosecutors to Seek Death Penalty for ...</td>\n",
       "    </tr>\n",
       "  </tbody>\n",
       "</table>\n",
       "</div>"
      ],
      "text/plain": [
       "         id         date_publish           outlet  \\\n",
       "0  54579766  2019-08-26 17:10:59  National Review   \n",
       "1  54581007  2019-08-26 17:11:30  National Review   \n",
       "\n",
       "                                            headline  \\\n",
       "0  Kevin Williamson & Bill Maher: Author Talks Mo...   \n",
       "1  Federal Prosecutors to Seek Death Penalty for ...   \n",
       "\n",
       "                                                lead  \\\n",
       "0  Kevin Williamson & Bill Maher: Author Talks Mo...   \n",
       "1  Federal Prosecutors to Seek Death Penalty for ...   \n",
       "\n",
       "                                                body  \\\n",
       "0  Kevin Williamson & Bill Maher: Author Talks Mo...   \n",
       "1  Federal Prosecutors to Seek Death Penalty for ...   \n",
       "\n",
       "                                             authors                  domain  \\\n",
       "0  Kyle Smith;Philip Magness;Robert Bryce;Dan Mcl...  www.nationalreview.com   \n",
       "1  Mairead Mcardle;Kyle Smith;Philip Magness;Dan ...  www.nationalreview.com   \n",
       "\n",
       "                                                 url political_leaning  \\\n",
       "0  https://www.nationalreview.com/corner/kevin-im...             RIGHT   \n",
       "1  https://www.nationalreview.com/news/federal-pr...             RIGHT   \n",
       "\n",
       "                                      head_lead_body  \n",
       "0  Kevin Williamson & Bill Maher: Author Talks Mo...  \n",
       "1  Federal Prosecutors to Seek Death Penalty for ...  "
      ]
     },
     "execution_count": 169,
     "metadata": {},
     "output_type": "execute_result"
    }
   ],
   "source": [
    "df_polusa = df_polusa.drop(columns={\"Unnamed: 0\"})\n",
    "df_polusa.head(2)"
   ]
  },
  {
   "cell_type": "markdown",
   "id": "1f0e66fc",
   "metadata": {},
   "source": [
    "### Preprocess Dataset"
   ]
  },
  {
   "cell_type": "code",
   "execution_count": 170,
   "id": "87551431",
   "metadata": {},
   "outputs": [],
   "source": [
    "df_transformer_format = df_polusa[[\"head_lead_body\", \"political_leaning\"]]\n",
    "convert_to_num = {\"LEFT\": 0, \"CENTER\": 1, \"RIGHT\": 2}\n",
    "df_transformer_format = df_transformer_format.replace({\"political_leaning\": convert_to_num})\n",
    "df_transformer_format = df_transformer_format.rename(columns={\"head_lead_body\":\"text\", \"political_leaning\":\"label\"})"
   ]
  },
  {
   "cell_type": "code",
   "execution_count": 171,
   "id": "7f2c4332",
   "metadata": {},
   "outputs": [],
   "source": [
    "df_train = df_transformer_format[:4000]\n",
    "df_dev_test = df_transformer_format[-1000:-500]\n",
    "df_test = df_transformer_format[-500:]"
   ]
  },
  {
   "cell_type": "code",
   "execution_count": 172,
   "id": "96301540",
   "metadata": {},
   "outputs": [
    {
     "name": "stdout",
     "output_type": "stream",
     "text": [
      "4000\n",
      "500\n",
      "500\n"
     ]
    }
   ],
   "source": [
    "print(len(df_train))\n",
    "print(len(df_dev_test))\n",
    "print(len(df_test))"
   ]
  },
  {
   "cell_type": "code",
   "execution_count": 173,
   "id": "ef8f4a3a",
   "metadata": {},
   "outputs": [],
   "source": [
    "train_dataset = datasets.Dataset.from_dict(df_train)\n",
    "dev_test_dataset = datasets.Dataset.from_dict(df_dev_test)\n",
    "test_dataset = datasets.Dataset.from_dict(df_test)"
   ]
  },
  {
   "cell_type": "code",
   "execution_count": 218,
   "id": "11253b09",
   "metadata": {},
   "outputs": [
    {
     "data": {
      "text/plain": [
       "'Disputed Ellis Avenue residential-commercial project to return to Huntington Beach council###Disputed Ellis Avenue residential-commercial project to return to Huntington Beach council###Disputed Ellis Avenue residential-commercial project to return to Huntington Beach council'"
      ]
     },
     "execution_count": 218,
     "metadata": {},
     "output_type": "execute_result"
    }
   ],
   "source": [
    "test_dataset[\"text\"][1]"
   ]
  },
  {
   "cell_type": "code",
   "execution_count": 175,
   "id": "959a1712",
   "metadata": {},
   "outputs": [],
   "source": [
    "def preprocess_function(examples):\n",
    "    return tokenizer(examples[\"text\"], padding=True, truncation=True)"
   ]
  },
  {
   "cell_type": "code",
   "execution_count": 180,
   "id": "04ae6bce",
   "metadata": {},
   "outputs": [
    {
     "name": "stderr",
     "output_type": "stream",
     "text": [
      "loading configuration file https://huggingface.co/distilbert-base-uncased/resolve/main/config.json from cache at /Users/matthewlucich/.cache/huggingface/transformers/23454919702d26495337f3da04d1655c7ee010d5ec9d77bdb9e399e00302c0a1.91b885ab15d631bf9cee9dc9d25ece0afd932f2f5130eba28f2055b2220c0333\n",
      "Model config DistilBertConfig {\n",
      "  \"_name_or_path\": \"distilbert-base-uncased\",\n",
      "  \"activation\": \"gelu\",\n",
      "  \"architectures\": [\n",
      "    \"DistilBertForMaskedLM\"\n",
      "  ],\n",
      "  \"attention_dropout\": 0.1,\n",
      "  \"dim\": 768,\n",
      "  \"dropout\": 0.1,\n",
      "  \"hidden_dim\": 3072,\n",
      "  \"initializer_range\": 0.02,\n",
      "  \"max_position_embeddings\": 512,\n",
      "  \"model_type\": \"distilbert\",\n",
      "  \"n_heads\": 12,\n",
      "  \"n_layers\": 6,\n",
      "  \"pad_token_id\": 0,\n",
      "  \"qa_dropout\": 0.1,\n",
      "  \"seq_classif_dropout\": 0.2,\n",
      "  \"sinusoidal_pos_embds\": false,\n",
      "  \"tie_weights_\": true,\n",
      "  \"transformers_version\": \"4.17.0\",\n",
      "  \"vocab_size\": 30522\n",
      "}\n",
      "\n",
      "loading file https://huggingface.co/distilbert-base-uncased/resolve/main/vocab.txt from cache at /Users/matthewlucich/.cache/huggingface/transformers/0e1bbfda7f63a99bb52e3915dcf10c3c92122b827d92eb2d34ce94ee79ba486c.d789d64ebfe299b0e416afc4a169632f903f693095b4629a7ea271d5a0cf2c99\n",
      "loading file https://huggingface.co/distilbert-base-uncased/resolve/main/tokenizer.json from cache at /Users/matthewlucich/.cache/huggingface/transformers/75abb59d7a06f4f640158a9bfcde005264e59e8d566781ab1415b139d2e4c603.7f2721073f19841be16f41b0a70b600ca6b880c8f3df6f3535cbc704371bdfa4\n",
      "loading file https://huggingface.co/distilbert-base-uncased/resolve/main/added_tokens.json from cache at None\n",
      "loading file https://huggingface.co/distilbert-base-uncased/resolve/main/special_tokens_map.json from cache at None\n",
      "loading file https://huggingface.co/distilbert-base-uncased/resolve/main/tokenizer_config.json from cache at /Users/matthewlucich/.cache/huggingface/transformers/8c8624b8ac8aa99c60c912161f8332de003484428c47906d7ff7eb7f73eecdbb.20430bd8e10ef77a7d2977accefe796051e01bc2fc4aa146bc862997a1a15e79\n",
      "loading configuration file https://huggingface.co/distilbert-base-uncased/resolve/main/config.json from cache at /Users/matthewlucich/.cache/huggingface/transformers/23454919702d26495337f3da04d1655c7ee010d5ec9d77bdb9e399e00302c0a1.91b885ab15d631bf9cee9dc9d25ece0afd932f2f5130eba28f2055b2220c0333\n",
      "Model config DistilBertConfig {\n",
      "  \"_name_or_path\": \"distilbert-base-uncased\",\n",
      "  \"activation\": \"gelu\",\n",
      "  \"architectures\": [\n",
      "    \"DistilBertForMaskedLM\"\n",
      "  ],\n",
      "  \"attention_dropout\": 0.1,\n",
      "  \"dim\": 768,\n",
      "  \"dropout\": 0.1,\n",
      "  \"hidden_dim\": 3072,\n",
      "  \"initializer_range\": 0.02,\n",
      "  \"max_position_embeddings\": 512,\n",
      "  \"model_type\": \"distilbert\",\n",
      "  \"n_heads\": 12,\n",
      "  \"n_layers\": 6,\n",
      "  \"pad_token_id\": 0,\n",
      "  \"qa_dropout\": 0.1,\n",
      "  \"seq_classif_dropout\": 0.2,\n",
      "  \"sinusoidal_pos_embds\": false,\n",
      "  \"tie_weights_\": true,\n",
      "  \"transformers_version\": \"4.17.0\",\n",
      "  \"vocab_size\": 30522\n",
      "}\n",
      "\n"
     ]
    }
   ],
   "source": [
    "tokenizer = AutoTokenizer.from_pretrained(\"distilbert-base-uncased\")"
   ]
  },
  {
   "cell_type": "code",
   "execution_count": 219,
   "id": "68a7ce92",
   "metadata": {},
   "outputs": [
    {
     "data": {
      "application/vnd.jupyter.widget-view+json": {
       "model_id": "42f63f7542a747cf8e3a418c64283bb8",
       "version_major": 2,
       "version_minor": 0
      },
      "text/plain": [
       "  0%|          | 0/4 [00:00<?, ?ba/s]"
      ]
     },
     "metadata": {},
     "output_type": "display_data"
    },
    {
     "data": {
      "application/vnd.jupyter.widget-view+json": {
       "model_id": "3db57d9a731e46a2af9646226a488f32",
       "version_major": 2,
       "version_minor": 0
      },
      "text/plain": [
       "  0%|          | 0/1 [00:00<?, ?ba/s]"
      ]
     },
     "metadata": {},
     "output_type": "display_data"
    },
    {
     "data": {
      "application/vnd.jupyter.widget-view+json": {
       "model_id": "51621cc364ab4899adad41ca71a9b43a",
       "version_major": 2,
       "version_minor": 0
      },
      "text/plain": [
       "  0%|          | 0/1 [00:00<?, ?ba/s]"
      ]
     },
     "metadata": {},
     "output_type": "display_data"
    }
   ],
   "source": [
    "tokenized_train = train_dataset.map(preprocess_function, batched=True)\n",
    "tokenized_dev_test = dev_test_dataset.map(preprocess_function, batched=True)\n",
    "tokenized_test = test_dataset.map(preprocess_function, batched=True)"
   ]
  },
  {
   "cell_type": "code",
   "execution_count": 220,
   "id": "da6fa438",
   "metadata": {},
   "outputs": [],
   "source": [
    "tokenized_train = tokenized_train.remove_columns(['text'])\n",
    "tokenized_dev_test = tokenized_dev_test.remove_columns(['text'])\n",
    "tokenized_test = tokenized_test.remove_columns(['text'])"
   ]
  },
  {
   "cell_type": "markdown",
   "id": "613bd1e2",
   "metadata": {},
   "source": [
    "### Classification Model: distilbert-base-uncased (transformer)"
   ]
  },
  {
   "cell_type": "code",
   "execution_count": 186,
   "id": "ccadafb5",
   "metadata": {},
   "outputs": [
    {
     "name": "stderr",
     "output_type": "stream",
     "text": [
      "loading configuration file https://huggingface.co/distilbert-base-uncased/resolve/main/config.json from cache at /Users/matthewlucich/.cache/huggingface/transformers/23454919702d26495337f3da04d1655c7ee010d5ec9d77bdb9e399e00302c0a1.91b885ab15d631bf9cee9dc9d25ece0afd932f2f5130eba28f2055b2220c0333\n",
      "Model config DistilBertConfig {\n",
      "  \"_name_or_path\": \"distilbert-base-uncased\",\n",
      "  \"activation\": \"gelu\",\n",
      "  \"architectures\": [\n",
      "    \"DistilBertForMaskedLM\"\n",
      "  ],\n",
      "  \"attention_dropout\": 0.1,\n",
      "  \"dim\": 768,\n",
      "  \"dropout\": 0.1,\n",
      "  \"hidden_dim\": 3072,\n",
      "  \"id2label\": {\n",
      "    \"0\": \"LABEL_0\",\n",
      "    \"1\": \"LABEL_1\",\n",
      "    \"2\": \"LABEL_2\"\n",
      "  },\n",
      "  \"initializer_range\": 0.02,\n",
      "  \"label2id\": {\n",
      "    \"LABEL_0\": 0,\n",
      "    \"LABEL_1\": 1,\n",
      "    \"LABEL_2\": 2\n",
      "  },\n",
      "  \"max_position_embeddings\": 512,\n",
      "  \"model_type\": \"distilbert\",\n",
      "  \"n_heads\": 12,\n",
      "  \"n_layers\": 6,\n",
      "  \"pad_token_id\": 0,\n",
      "  \"qa_dropout\": 0.1,\n",
      "  \"seq_classif_dropout\": 0.2,\n",
      "  \"sinusoidal_pos_embds\": false,\n",
      "  \"tie_weights_\": true,\n",
      "  \"transformers_version\": \"4.17.0\",\n",
      "  \"vocab_size\": 30522\n",
      "}\n",
      "\n",
      "loading weights file https://huggingface.co/distilbert-base-uncased/resolve/main/pytorch_model.bin from cache at /Users/matthewlucich/.cache/huggingface/transformers/9c169103d7e5a73936dd2b627e42851bec0831212b677c637033ee4bce9ab5ee.126183e36667471617ae2f0835fab707baa54b731f991507ebbb55ea85adb12a\n",
      "Some weights of the model checkpoint at distilbert-base-uncased were not used when initializing DistilBertForSequenceClassification: ['vocab_transform.bias', 'vocab_layer_norm.weight', 'vocab_projector.weight', 'vocab_layer_norm.bias', 'vocab_projector.bias', 'vocab_transform.weight']\n",
      "- This IS expected if you are initializing DistilBertForSequenceClassification from the checkpoint of a model trained on another task or with another architecture (e.g. initializing a BertForSequenceClassification model from a BertForPreTraining model).\n",
      "- This IS NOT expected if you are initializing DistilBertForSequenceClassification from the checkpoint of a model that you expect to be exactly identical (initializing a BertForSequenceClassification model from a BertForSequenceClassification model).\n",
      "Some weights of DistilBertForSequenceClassification were not initialized from the model checkpoint at distilbert-base-uncased and are newly initialized: ['pre_classifier.bias', 'pre_classifier.weight', 'classifier.weight', 'classifier.bias']\n",
      "You should probably TRAIN this model on a down-stream task to be able to use it for predictions and inference.\n"
     ]
    }
   ],
   "source": [
    "model = AutoModelForSequenceClassification.from_pretrained(\"distilbert-base-uncased\", num_labels=3)"
   ]
  },
  {
   "cell_type": "code",
   "execution_count": 190,
   "id": "cc816f9e",
   "metadata": {},
   "outputs": [],
   "source": [
    "def compute_metrics(pred):\n",
    "    \"\"\"Sourced from: https://huggingface.co/transformers/v3.0.2/training.html\"\"\"\n",
    "    labels = pred.label_ids\n",
    "    preds = pred.predictions.argmax(-1)\n",
    "    precision, recall, f1, _ = precision_recall_fscore_support(labels, preds, labels=[0, 1, 2])\n",
    "    acc = accuracy_score(labels, preds)\n",
    "    return {\n",
    "        'accuracy': acc,\n",
    "        'f1': f1,\n",
    "        'precision': precision,\n",
    "        'recall': recall\n",
    "    }"
   ]
  },
  {
   "cell_type": "code",
   "execution_count": 191,
   "id": "afdec7d9",
   "metadata": {},
   "outputs": [],
   "source": [
    "data_collator = DataCollatorWithPadding(tokenizer=tokenizer)"
   ]
  },
  {
   "cell_type": "code",
   "execution_count": 195,
   "id": "c83db04a",
   "metadata": {},
   "outputs": [
    {
     "name": "stderr",
     "output_type": "stream",
     "text": [
      "No `TrainingArguments` passed, using `output_dir=tmp_trainer`.\n",
      "PyTorch: setting up devices\n",
      "The default value for the training argument `--report_to` will change in v5 (from all installed integrations to none). In v5, you will need to use `--report_to all` to get the same behavior as now. You should start updating your code and make this info disappear :-).\n"
     ]
    }
   ],
   "source": [
    "trainer = Trainer(\n",
    "    model=model,\n",
    "    train_dataset=tokenized_train,\n",
    "    eval_dataset=tokenized_dev_test,\n",
    "    tokenizer=tokenizer,\n",
    "    data_collator=data_collator,\n",
    "    compute_metrics=compute_metrics\n",
    ")"
   ]
  },
  {
   "cell_type": "code",
   "execution_count": 196,
   "id": "dd958203",
   "metadata": {},
   "outputs": [
    {
     "name": "stderr",
     "output_type": "stream",
     "text": [
      "***** Running training *****\n",
      "  Num examples = 4000\n",
      "  Num Epochs = 3\n",
      "  Instantaneous batch size per device = 8\n",
      "  Total train batch size (w. parallel, distributed & accumulation) = 8\n",
      "  Gradient Accumulation steps = 1\n",
      "  Total optimization steps = 1500\n"
     ]
    },
    {
     "data": {
      "text/html": [
       "\n",
       "    <div>\n",
       "      \n",
       "      <progress value='1500' max='1500' style='width:300px; height:20px; vertical-align: middle;'></progress>\n",
       "      [1500/1500 1:34:12, Epoch 3/3]\n",
       "    </div>\n",
       "    <table border=\"1\" class=\"dataframe\">\n",
       "  <thead>\n",
       " <tr style=\"text-align: left;\">\n",
       "      <th>Step</th>\n",
       "      <th>Training Loss</th>\n",
       "    </tr>\n",
       "  </thead>\n",
       "  <tbody>\n",
       "    <tr>\n",
       "      <td>500</td>\n",
       "      <td>0.787100</td>\n",
       "    </tr>\n",
       "    <tr>\n",
       "      <td>1000</td>\n",
       "      <td>0.470500</td>\n",
       "    </tr>\n",
       "    <tr>\n",
       "      <td>1500</td>\n",
       "      <td>0.198900</td>\n",
       "    </tr>\n",
       "  </tbody>\n",
       "</table><p>"
      ],
      "text/plain": [
       "<IPython.core.display.HTML object>"
      ]
     },
     "metadata": {},
     "output_type": "display_data"
    },
    {
     "name": "stderr",
     "output_type": "stream",
     "text": [
      "Saving model checkpoint to tmp_trainer/checkpoint-500\n",
      "Configuration saved in tmp_trainer/checkpoint-500/config.json\n",
      "Model weights saved in tmp_trainer/checkpoint-500/pytorch_model.bin\n",
      "tokenizer config file saved in tmp_trainer/checkpoint-500/tokenizer_config.json\n",
      "Special tokens file saved in tmp_trainer/checkpoint-500/special_tokens_map.json\n",
      "Saving model checkpoint to tmp_trainer/checkpoint-1000\n",
      "Configuration saved in tmp_trainer/checkpoint-1000/config.json\n",
      "Model weights saved in tmp_trainer/checkpoint-1000/pytorch_model.bin\n",
      "tokenizer config file saved in tmp_trainer/checkpoint-1000/tokenizer_config.json\n",
      "Special tokens file saved in tmp_trainer/checkpoint-1000/special_tokens_map.json\n",
      "Saving model checkpoint to tmp_trainer/checkpoint-1500\n",
      "Configuration saved in tmp_trainer/checkpoint-1500/config.json\n",
      "Model weights saved in tmp_trainer/checkpoint-1500/pytorch_model.bin\n",
      "tokenizer config file saved in tmp_trainer/checkpoint-1500/tokenizer_config.json\n",
      "Special tokens file saved in tmp_trainer/checkpoint-1500/special_tokens_map.json\n",
      "\n",
      "\n",
      "Training completed. Do not forget to share your model on huggingface.co/models =)\n",
      "\n",
      "\n"
     ]
    },
    {
     "data": {
      "text/plain": [
       "TrainOutput(global_step=1500, training_loss=0.48549241638183593, metrics={'train_runtime': 5655.8907, 'train_samples_per_second': 2.122, 'train_steps_per_second': 0.265, 'total_flos': 385139271457152.0, 'train_loss': 0.48549241638183593, 'epoch': 3.0})"
      ]
     },
     "execution_count": 196,
     "metadata": {},
     "output_type": "execute_result"
    }
   ],
   "source": [
    "trainer.train()"
   ]
  },
  {
   "cell_type": "code",
   "execution_count": 197,
   "id": "1a237702",
   "metadata": {},
   "outputs": [
    {
     "name": "stderr",
     "output_type": "stream",
     "text": [
      "***** Running Evaluation *****\n",
      "  Num examples = 500\n",
      "  Batch size = 8\n"
     ]
    },
    {
     "data": {
      "text/html": [
       "\n",
       "    <div>\n",
       "      \n",
       "      <progress value='315' max='63' style='width:300px; height:20px; vertical-align: middle;'></progress>\n",
       "      [63/63 2:08:20]\n",
       "    </div>\n",
       "    "
      ],
      "text/plain": [
       "<IPython.core.display.HTML object>"
      ]
     },
     "metadata": {},
     "output_type": "display_data"
    },
    {
     "name": "stderr",
     "output_type": "stream",
     "text": [
      "Trainer is attempting to log a value of \"[0.60773481 0.69166667 0.4556962 ]\" of type <class 'numpy.ndarray'> for key \"eval/f1\" as a scalar. This invocation of Tensorboard's writer.add_scalar() is incorrect so we dropped this attribute.\n",
      "Trainer is attempting to log a value of \"[0.61111111 0.66135458 0.52173913]\" of type <class 'numpy.ndarray'> for key \"eval/precision\" as a scalar. This invocation of Tensorboard's writer.add_scalar() is incorrect so we dropped this attribute.\n",
      "Trainer is attempting to log a value of \"[0.6043956  0.72489083 0.40449438]\" of type <class 'numpy.ndarray'> for key \"eval/recall\" as a scalar. This invocation of Tensorboard's writer.add_scalar() is incorrect so we dropped this attribute.\n"
     ]
    },
    {
     "data": {
      "text/plain": [
       "{'eval_loss': 1.367005467414856,\n",
       " 'eval_accuracy': 0.624,\n",
       " 'eval_f1': array([0.60773481, 0.69166667, 0.4556962 ]),\n",
       " 'eval_precision': array([0.61111111, 0.66135458, 0.52173913]),\n",
       " 'eval_recall': array([0.6043956 , 0.72489083, 0.40449438]),\n",
       " 'eval_runtime': 46.0903,\n",
       " 'eval_samples_per_second': 10.848,\n",
       " 'eval_steps_per_second': 1.367,\n",
       " 'epoch': 3.0}"
      ]
     },
     "execution_count": 197,
     "metadata": {},
     "output_type": "execute_result"
    }
   ],
   "source": [
    "trainer.evaluate()"
   ]
  },
  {
   "cell_type": "code",
   "execution_count": 224,
   "id": "d81dd99b",
   "metadata": {},
   "outputs": [
    {
     "name": "stderr",
     "output_type": "stream",
     "text": [
      "***** Running Prediction *****\n",
      "  Num examples = 500\n",
      "  Batch size = 8\n"
     ]
    }
   ],
   "source": [
    "preds_data = trainer.predict(tokenized_test)"
   ]
  },
  {
   "cell_type": "code",
   "execution_count": 225,
   "id": "99fac9b1",
   "metadata": {},
   "outputs": [
    {
     "data": {
      "text/plain": [
       "{'test_loss': 1.0312914848327637,\n",
       " 'test_accuracy': 0.71,\n",
       " 'test_f1': array([0.51851852, 0.81322314, 0.59217877]),\n",
       " 'test_precision': array([0.46666667, 0.80392157, 0.71621622]),\n",
       " 'test_recall': array([0.58333333, 0.82274247, 0.5047619 ]),\n",
       " 'test_runtime': 53.3258,\n",
       " 'test_samples_per_second': 9.376,\n",
       " 'test_steps_per_second': 1.181}"
      ]
     },
     "execution_count": 225,
     "metadata": {},
     "output_type": "execute_result"
    }
   ],
   "source": [
    "preds_data.metrics"
   ]
  },
  {
   "cell_type": "code",
   "execution_count": 206,
   "id": "a14605fc",
   "metadata": {},
   "outputs": [],
   "source": [
    "#trainer.save_model(output_dir=\"final-model\")"
   ]
  }
 ],
 "metadata": {
  "kernelspec": {
   "display_name": "Python 3 (ipykernel)",
   "language": "python",
   "name": "python3"
  },
  "language_info": {
   "codemirror_mode": {
    "name": "ipython",
    "version": 3
   },
   "file_extension": ".py",
   "mimetype": "text/x-python",
   "name": "python",
   "nbconvert_exporter": "python",
   "pygments_lexer": "ipython3",
   "version": "3.9.6"
  }
 },
 "nbformat": 4,
 "nbformat_minor": 5
}
