{
 "cells": [
  {
   "cell_type": "code",
   "execution_count": 1,
   "id": "76c98aab",
   "metadata": {},
   "outputs": [],
   "source": [
    "from matplotlib.pyplot import figure\n",
    "from scipy import stats\n",
    "import networkx as nx\n",
    "import matplotlib.pyplot as plt\n",
    "import pandas as pd"
   ]
  },
  {
   "cell_type": "markdown",
   "id": "ecb5599d",
   "metadata": {},
   "source": [
    "### Load and Preview GoodReads Genres Dataset"
   ]
  },
  {
   "cell_type": "markdown",
   "id": "09c036bc",
   "metadata": {},
   "source": [
    "The GoodReads dataset collection scraped by UC San Diego in 2017 is an expansive compilation of data, which includes various publicly available information from GoodReads.com. The data collection includes CSVs and JSONs files of books, users' shelves, and reviews. One of the datasets of particular interest, and one I have analyzed for Data 607, is the user-generated book genres dataset. I use the term “user-generated” and UCSD researchers use the term “fuzzy” to describe the genre dataset, since GoodReads does not assign genres to books but instead lists the genres users have associated the books with. After intensive data manipulation, the format that precedes the adjacency matrix can be previewed below."
   ]
  },
  {
   "cell_type": "code",
   "execution_count": 2,
   "id": "234e6e44",
   "metadata": {},
   "outputs": [],
   "source": [
    "df_books_raw = pd.read_csv(\"goodreads_book_genres_2k.csv\")"
   ]
  },
  {
   "cell_type": "code",
   "execution_count": 3,
   "id": "32c22839",
   "metadata": {},
   "outputs": [
    {
     "data": {
      "text/plain": [
       "Index(['Unnamed: 0', 'title', 'book_id', 'publication_year', 'ratings_count',\n",
       "       'language_code', 'average_rating', 'economics', 'politics', 'sociology',\n",
       "       'society', 'political-science', 'government', 'history', 'philosophy',\n",
       "       'theory'],\n",
       "      dtype='object')"
      ]
     },
     "execution_count": 3,
     "metadata": {},
     "output_type": "execute_result"
    }
   ],
   "source": [
    "df_books_raw.columns"
   ]
  },
  {
   "cell_type": "code",
   "execution_count": 4,
   "id": "a280e100",
   "metadata": {},
   "outputs": [],
   "source": [
    "df_books = df_books_raw[['book_id', 'economics', 'politics', 'sociology', 'society', \n",
    "                         'political-science', 'government', 'history', 'philosophy','theory']]"
   ]
  },
  {
   "cell_type": "code",
   "execution_count": 5,
   "id": "69c55f23",
   "metadata": {},
   "outputs": [
    {
     "data": {
      "text/html": [
       "<div>\n",
       "<style scoped>\n",
       "    .dataframe tbody tr th:only-of-type {\n",
       "        vertical-align: middle;\n",
       "    }\n",
       "\n",
       "    .dataframe tbody tr th {\n",
       "        vertical-align: top;\n",
       "    }\n",
       "\n",
       "    .dataframe thead th {\n",
       "        text-align: right;\n",
       "    }\n",
       "</style>\n",
       "<table border=\"1\" class=\"dataframe\">\n",
       "  <thead>\n",
       "    <tr style=\"text-align: right;\">\n",
       "      <th></th>\n",
       "      <th>book_id</th>\n",
       "      <th>economics</th>\n",
       "      <th>politics</th>\n",
       "      <th>sociology</th>\n",
       "      <th>society</th>\n",
       "      <th>political-science</th>\n",
       "      <th>government</th>\n",
       "      <th>history</th>\n",
       "      <th>philosophy</th>\n",
       "      <th>theory</th>\n",
       "    </tr>\n",
       "  </thead>\n",
       "  <tbody>\n",
       "    <tr>\n",
       "      <th>0</th>\n",
       "      <td>287149</td>\n",
       "      <td>0</td>\n",
       "      <td>0</td>\n",
       "      <td>0</td>\n",
       "      <td>0</td>\n",
       "      <td>0</td>\n",
       "      <td>0</td>\n",
       "      <td>0</td>\n",
       "      <td>1</td>\n",
       "      <td>0</td>\n",
       "    </tr>\n",
       "    <tr>\n",
       "      <th>1</th>\n",
       "      <td>89376</td>\n",
       "      <td>0</td>\n",
       "      <td>0</td>\n",
       "      <td>0</td>\n",
       "      <td>0</td>\n",
       "      <td>0</td>\n",
       "      <td>0</td>\n",
       "      <td>0</td>\n",
       "      <td>1</td>\n",
       "      <td>0</td>\n",
       "    </tr>\n",
       "    <tr>\n",
       "      <th>2</th>\n",
       "      <td>6158967</td>\n",
       "      <td>0</td>\n",
       "      <td>1</td>\n",
       "      <td>0</td>\n",
       "      <td>1</td>\n",
       "      <td>0</td>\n",
       "      <td>0</td>\n",
       "      <td>0</td>\n",
       "      <td>0</td>\n",
       "      <td>0</td>\n",
       "    </tr>\n",
       "    <tr>\n",
       "      <th>3</th>\n",
       "      <td>25166650</td>\n",
       "      <td>0</td>\n",
       "      <td>0</td>\n",
       "      <td>0</td>\n",
       "      <td>0</td>\n",
       "      <td>0</td>\n",
       "      <td>0</td>\n",
       "      <td>1</td>\n",
       "      <td>1</td>\n",
       "      <td>0</td>\n",
       "    </tr>\n",
       "    <tr>\n",
       "      <th>4</th>\n",
       "      <td>20924358</td>\n",
       "      <td>0</td>\n",
       "      <td>0</td>\n",
       "      <td>0</td>\n",
       "      <td>0</td>\n",
       "      <td>0</td>\n",
       "      <td>0</td>\n",
       "      <td>1</td>\n",
       "      <td>0</td>\n",
       "      <td>0</td>\n",
       "    </tr>\n",
       "  </tbody>\n",
       "</table>\n",
       "</div>"
      ],
      "text/plain": [
       "    book_id  economics  politics  sociology  society  political-science  \\\n",
       "0    287149          0         0          0        0                  0   \n",
       "1     89376          0         0          0        0                  0   \n",
       "2   6158967          0         1          0        1                  0   \n",
       "3  25166650          0         0          0        0                  0   \n",
       "4  20924358          0         0          0        0                  0   \n",
       "\n",
       "   government  history  philosophy  theory  \n",
       "0           0        0           1       0  \n",
       "1           0        0           1       0  \n",
       "2           0        0           0       0  \n",
       "3           0        1           1       0  \n",
       "4           0        1           0       0  "
      ]
     },
     "execution_count": 5,
     "metadata": {},
     "output_type": "execute_result"
    }
   ],
   "source": [
    "df_books.head()"
   ]
  },
  {
   "cell_type": "code",
   "execution_count": 6,
   "id": "7280f1fc",
   "metadata": {},
   "outputs": [],
   "source": [
    "df_books = df_books.set_index('book_id')"
   ]
  },
  {
   "cell_type": "markdown",
   "id": "e2e80640",
   "metadata": {},
   "source": [
    "### Affiliation Matrix "
   ]
  },
  {
   "cell_type": "markdown",
   "id": "0d63f9a4",
   "metadata": {},
   "source": [
    "Generate affiliation matrix as specified [here](https://dshizuka.github.io/networkanalysis/02_dataformats.html), where we perform matrix multiplication on the transpose of the df_books dataframe."
   ]
  },
  {
   "cell_type": "code",
   "execution_count": 7,
   "id": "e05f89e1",
   "metadata": {},
   "outputs": [],
   "source": [
    "df_books_transpose = df_books.transpose()\n",
    "df_aff = df_books.dot(df_books_transpose);"
   ]
  },
  {
   "cell_type": "markdown",
   "id": "1c55f8f1",
   "metadata": {},
   "source": [
    "Preview data"
   ]
  },
  {
   "cell_type": "code",
   "execution_count": 8,
   "id": "711a8370",
   "metadata": {},
   "outputs": [
    {
     "data": {
      "text/html": [
       "<div>\n",
       "<style scoped>\n",
       "    .dataframe tbody tr th:only-of-type {\n",
       "        vertical-align: middle;\n",
       "    }\n",
       "\n",
       "    .dataframe tbody tr th {\n",
       "        vertical-align: top;\n",
       "    }\n",
       "\n",
       "    .dataframe thead th {\n",
       "        text-align: right;\n",
       "    }\n",
       "</style>\n",
       "<table border=\"1\" class=\"dataframe\">\n",
       "  <thead>\n",
       "    <tr style=\"text-align: right;\">\n",
       "      <th>book_id</th>\n",
       "      <th>287149</th>\n",
       "      <th>89376</th>\n",
       "      <th>6158967</th>\n",
       "      <th>25166650</th>\n",
       "      <th>20924358</th>\n",
       "      <th>828180</th>\n",
       "      <th>18498572</th>\n",
       "      <th>33022718</th>\n",
       "      <th>18908446</th>\n",
       "      <th>11731786</th>\n",
       "      <th>...</th>\n",
       "      <th>1035010</th>\n",
       "      <th>34150849</th>\n",
       "      <th>1326</th>\n",
       "      <th>13538716</th>\n",
       "      <th>7815110</th>\n",
       "      <th>871243</th>\n",
       "      <th>386783</th>\n",
       "      <th>16241152</th>\n",
       "      <th>2437975</th>\n",
       "      <th>16194</th>\n",
       "    </tr>\n",
       "    <tr>\n",
       "      <th>book_id</th>\n",
       "      <th></th>\n",
       "      <th></th>\n",
       "      <th></th>\n",
       "      <th></th>\n",
       "      <th></th>\n",
       "      <th></th>\n",
       "      <th></th>\n",
       "      <th></th>\n",
       "      <th></th>\n",
       "      <th></th>\n",
       "      <th></th>\n",
       "      <th></th>\n",
       "      <th></th>\n",
       "      <th></th>\n",
       "      <th></th>\n",
       "      <th></th>\n",
       "      <th></th>\n",
       "      <th></th>\n",
       "      <th></th>\n",
       "      <th></th>\n",
       "      <th></th>\n",
       "    </tr>\n",
       "  </thead>\n",
       "  <tbody>\n",
       "    <tr>\n",
       "      <th>287149</th>\n",
       "      <td>1</td>\n",
       "      <td>1</td>\n",
       "      <td>0</td>\n",
       "      <td>1</td>\n",
       "      <td>0</td>\n",
       "      <td>0</td>\n",
       "      <td>0</td>\n",
       "      <td>0</td>\n",
       "      <td>1</td>\n",
       "      <td>0</td>\n",
       "      <td>...</td>\n",
       "      <td>0</td>\n",
       "      <td>0</td>\n",
       "      <td>1</td>\n",
       "      <td>0</td>\n",
       "      <td>0</td>\n",
       "      <td>0</td>\n",
       "      <td>0</td>\n",
       "      <td>0</td>\n",
       "      <td>0</td>\n",
       "      <td>0</td>\n",
       "    </tr>\n",
       "    <tr>\n",
       "      <th>89376</th>\n",
       "      <td>1</td>\n",
       "      <td>1</td>\n",
       "      <td>0</td>\n",
       "      <td>1</td>\n",
       "      <td>0</td>\n",
       "      <td>0</td>\n",
       "      <td>0</td>\n",
       "      <td>0</td>\n",
       "      <td>1</td>\n",
       "      <td>0</td>\n",
       "      <td>...</td>\n",
       "      <td>0</td>\n",
       "      <td>0</td>\n",
       "      <td>1</td>\n",
       "      <td>0</td>\n",
       "      <td>0</td>\n",
       "      <td>0</td>\n",
       "      <td>0</td>\n",
       "      <td>0</td>\n",
       "      <td>0</td>\n",
       "      <td>0</td>\n",
       "    </tr>\n",
       "    <tr>\n",
       "      <th>6158967</th>\n",
       "      <td>0</td>\n",
       "      <td>0</td>\n",
       "      <td>2</td>\n",
       "      <td>0</td>\n",
       "      <td>0</td>\n",
       "      <td>0</td>\n",
       "      <td>1</td>\n",
       "      <td>1</td>\n",
       "      <td>0</td>\n",
       "      <td>1</td>\n",
       "      <td>...</td>\n",
       "      <td>0</td>\n",
       "      <td>1</td>\n",
       "      <td>0</td>\n",
       "      <td>0</td>\n",
       "      <td>1</td>\n",
       "      <td>0</td>\n",
       "      <td>0</td>\n",
       "      <td>0</td>\n",
       "      <td>0</td>\n",
       "      <td>1</td>\n",
       "    </tr>\n",
       "    <tr>\n",
       "      <th>25166650</th>\n",
       "      <td>1</td>\n",
       "      <td>1</td>\n",
       "      <td>0</td>\n",
       "      <td>2</td>\n",
       "      <td>1</td>\n",
       "      <td>1</td>\n",
       "      <td>1</td>\n",
       "      <td>0</td>\n",
       "      <td>1</td>\n",
       "      <td>0</td>\n",
       "      <td>...</td>\n",
       "      <td>1</td>\n",
       "      <td>1</td>\n",
       "      <td>1</td>\n",
       "      <td>1</td>\n",
       "      <td>1</td>\n",
       "      <td>1</td>\n",
       "      <td>1</td>\n",
       "      <td>1</td>\n",
       "      <td>1</td>\n",
       "      <td>1</td>\n",
       "    </tr>\n",
       "    <tr>\n",
       "      <th>20924358</th>\n",
       "      <td>0</td>\n",
       "      <td>0</td>\n",
       "      <td>0</td>\n",
       "      <td>1</td>\n",
       "      <td>1</td>\n",
       "      <td>1</td>\n",
       "      <td>1</td>\n",
       "      <td>0</td>\n",
       "      <td>0</td>\n",
       "      <td>0</td>\n",
       "      <td>...</td>\n",
       "      <td>1</td>\n",
       "      <td>1</td>\n",
       "      <td>0</td>\n",
       "      <td>1</td>\n",
       "      <td>1</td>\n",
       "      <td>1</td>\n",
       "      <td>1</td>\n",
       "      <td>1</td>\n",
       "      <td>1</td>\n",
       "      <td>1</td>\n",
       "    </tr>\n",
       "  </tbody>\n",
       "</table>\n",
       "<p>5 rows × 2000 columns</p>\n",
       "</div>"
      ],
      "text/plain": [
       "book_id   287149    89376     6158967   25166650  20924358  828180    \\\n",
       "book_id                                                                \n",
       "287149           1         1         0         1         0         0   \n",
       "89376            1         1         0         1         0         0   \n",
       "6158967          0         0         2         0         0         0   \n",
       "25166650         1         1         0         2         1         1   \n",
       "20924358         0         0         0         1         1         1   \n",
       "\n",
       "book_id   18498572  33022718  18908446  11731786  ...  1035010   34150849  \\\n",
       "book_id                                           ...                       \n",
       "287149           0         0         1         0  ...         0         0   \n",
       "89376            0         0         1         0  ...         0         0   \n",
       "6158967          1         1         0         1  ...         0         1   \n",
       "25166650         1         0         1         0  ...         1         1   \n",
       "20924358         1         0         0         0  ...         1         1   \n",
       "\n",
       "book_id   1326      13538716  7815110   871243    386783    16241152  \\\n",
       "book_id                                                                \n",
       "287149           1         0         0         0         0         0   \n",
       "89376            1         0         0         0         0         0   \n",
       "6158967          0         0         1         0         0         0   \n",
       "25166650         1         1         1         1         1         1   \n",
       "20924358         0         1         1         1         1         1   \n",
       "\n",
       "book_id   2437975   16194     \n",
       "book_id                       \n",
       "287149           0         0  \n",
       "89376            0         0  \n",
       "6158967          0         1  \n",
       "25166650         1         1  \n",
       "20924358         1         1  \n",
       "\n",
       "[5 rows x 2000 columns]"
      ]
     },
     "execution_count": 8,
     "metadata": {},
     "output_type": "execute_result"
    }
   ],
   "source": [
    "df_aff.head()"
   ]
  },
  {
   "cell_type": "markdown",
   "id": "649ad8f4",
   "metadata": {},
   "source": [
    "Normalize the weights. Nine is the number of genres included in the analysis."
   ]
  },
  {
   "cell_type": "code",
   "execution_count": 9,
   "id": "06c53e8f",
   "metadata": {},
   "outputs": [],
   "source": [
    "df_aff = df_aff.div(9).round(4)"
   ]
  },
  {
   "cell_type": "markdown",
   "id": "b0ade25e",
   "metadata": {},
   "source": [
    "Preview data"
   ]
  },
  {
   "cell_type": "code",
   "execution_count": 10,
   "id": "3c8a0acd",
   "metadata": {},
   "outputs": [
    {
     "data": {
      "text/html": [
       "<div>\n",
       "<style scoped>\n",
       "    .dataframe tbody tr th:only-of-type {\n",
       "        vertical-align: middle;\n",
       "    }\n",
       "\n",
       "    .dataframe tbody tr th {\n",
       "        vertical-align: top;\n",
       "    }\n",
       "\n",
       "    .dataframe thead th {\n",
       "        text-align: right;\n",
       "    }\n",
       "</style>\n",
       "<table border=\"1\" class=\"dataframe\">\n",
       "  <thead>\n",
       "    <tr style=\"text-align: right;\">\n",
       "      <th>book_id</th>\n",
       "      <th>287149</th>\n",
       "      <th>89376</th>\n",
       "      <th>6158967</th>\n",
       "      <th>25166650</th>\n",
       "      <th>20924358</th>\n",
       "      <th>828180</th>\n",
       "      <th>18498572</th>\n",
       "      <th>33022718</th>\n",
       "      <th>18908446</th>\n",
       "      <th>11731786</th>\n",
       "      <th>...</th>\n",
       "      <th>1035010</th>\n",
       "      <th>34150849</th>\n",
       "      <th>1326</th>\n",
       "      <th>13538716</th>\n",
       "      <th>7815110</th>\n",
       "      <th>871243</th>\n",
       "      <th>386783</th>\n",
       "      <th>16241152</th>\n",
       "      <th>2437975</th>\n",
       "      <th>16194</th>\n",
       "    </tr>\n",
       "    <tr>\n",
       "      <th>book_id</th>\n",
       "      <th></th>\n",
       "      <th></th>\n",
       "      <th></th>\n",
       "      <th></th>\n",
       "      <th></th>\n",
       "      <th></th>\n",
       "      <th></th>\n",
       "      <th></th>\n",
       "      <th></th>\n",
       "      <th></th>\n",
       "      <th></th>\n",
       "      <th></th>\n",
       "      <th></th>\n",
       "      <th></th>\n",
       "      <th></th>\n",
       "      <th></th>\n",
       "      <th></th>\n",
       "      <th></th>\n",
       "      <th></th>\n",
       "      <th></th>\n",
       "      <th></th>\n",
       "    </tr>\n",
       "  </thead>\n",
       "  <tbody>\n",
       "    <tr>\n",
       "      <th>287149</th>\n",
       "      <td>0.1111</td>\n",
       "      <td>0.1111</td>\n",
       "      <td>0.0000</td>\n",
       "      <td>0.1111</td>\n",
       "      <td>0.0000</td>\n",
       "      <td>0.0000</td>\n",
       "      <td>0.0000</td>\n",
       "      <td>0.0000</td>\n",
       "      <td>0.1111</td>\n",
       "      <td>0.0000</td>\n",
       "      <td>...</td>\n",
       "      <td>0.0000</td>\n",
       "      <td>0.0000</td>\n",
       "      <td>0.1111</td>\n",
       "      <td>0.0000</td>\n",
       "      <td>0.0000</td>\n",
       "      <td>0.0000</td>\n",
       "      <td>0.0000</td>\n",
       "      <td>0.0000</td>\n",
       "      <td>0.0000</td>\n",
       "      <td>0.0000</td>\n",
       "    </tr>\n",
       "    <tr>\n",
       "      <th>89376</th>\n",
       "      <td>0.1111</td>\n",
       "      <td>0.1111</td>\n",
       "      <td>0.0000</td>\n",
       "      <td>0.1111</td>\n",
       "      <td>0.0000</td>\n",
       "      <td>0.0000</td>\n",
       "      <td>0.0000</td>\n",
       "      <td>0.0000</td>\n",
       "      <td>0.1111</td>\n",
       "      <td>0.0000</td>\n",
       "      <td>...</td>\n",
       "      <td>0.0000</td>\n",
       "      <td>0.0000</td>\n",
       "      <td>0.1111</td>\n",
       "      <td>0.0000</td>\n",
       "      <td>0.0000</td>\n",
       "      <td>0.0000</td>\n",
       "      <td>0.0000</td>\n",
       "      <td>0.0000</td>\n",
       "      <td>0.0000</td>\n",
       "      <td>0.0000</td>\n",
       "    </tr>\n",
       "    <tr>\n",
       "      <th>6158967</th>\n",
       "      <td>0.0000</td>\n",
       "      <td>0.0000</td>\n",
       "      <td>0.2222</td>\n",
       "      <td>0.0000</td>\n",
       "      <td>0.0000</td>\n",
       "      <td>0.0000</td>\n",
       "      <td>0.1111</td>\n",
       "      <td>0.1111</td>\n",
       "      <td>0.0000</td>\n",
       "      <td>0.1111</td>\n",
       "      <td>...</td>\n",
       "      <td>0.0000</td>\n",
       "      <td>0.1111</td>\n",
       "      <td>0.0000</td>\n",
       "      <td>0.0000</td>\n",
       "      <td>0.1111</td>\n",
       "      <td>0.0000</td>\n",
       "      <td>0.0000</td>\n",
       "      <td>0.0000</td>\n",
       "      <td>0.0000</td>\n",
       "      <td>0.1111</td>\n",
       "    </tr>\n",
       "    <tr>\n",
       "      <th>25166650</th>\n",
       "      <td>0.1111</td>\n",
       "      <td>0.1111</td>\n",
       "      <td>0.0000</td>\n",
       "      <td>0.2222</td>\n",
       "      <td>0.1111</td>\n",
       "      <td>0.1111</td>\n",
       "      <td>0.1111</td>\n",
       "      <td>0.0000</td>\n",
       "      <td>0.1111</td>\n",
       "      <td>0.0000</td>\n",
       "      <td>...</td>\n",
       "      <td>0.1111</td>\n",
       "      <td>0.1111</td>\n",
       "      <td>0.1111</td>\n",
       "      <td>0.1111</td>\n",
       "      <td>0.1111</td>\n",
       "      <td>0.1111</td>\n",
       "      <td>0.1111</td>\n",
       "      <td>0.1111</td>\n",
       "      <td>0.1111</td>\n",
       "      <td>0.1111</td>\n",
       "    </tr>\n",
       "    <tr>\n",
       "      <th>20924358</th>\n",
       "      <td>0.0000</td>\n",
       "      <td>0.0000</td>\n",
       "      <td>0.0000</td>\n",
       "      <td>0.1111</td>\n",
       "      <td>0.1111</td>\n",
       "      <td>0.1111</td>\n",
       "      <td>0.1111</td>\n",
       "      <td>0.0000</td>\n",
       "      <td>0.0000</td>\n",
       "      <td>0.0000</td>\n",
       "      <td>...</td>\n",
       "      <td>0.1111</td>\n",
       "      <td>0.1111</td>\n",
       "      <td>0.0000</td>\n",
       "      <td>0.1111</td>\n",
       "      <td>0.1111</td>\n",
       "      <td>0.1111</td>\n",
       "      <td>0.1111</td>\n",
       "      <td>0.1111</td>\n",
       "      <td>0.1111</td>\n",
       "      <td>0.1111</td>\n",
       "    </tr>\n",
       "  </tbody>\n",
       "</table>\n",
       "<p>5 rows × 2000 columns</p>\n",
       "</div>"
      ],
      "text/plain": [
       "book_id   287149    89376     6158967   25166650  20924358  828180    \\\n",
       "book_id                                                                \n",
       "287149      0.1111    0.1111    0.0000    0.1111    0.0000    0.0000   \n",
       "89376       0.1111    0.1111    0.0000    0.1111    0.0000    0.0000   \n",
       "6158967     0.0000    0.0000    0.2222    0.0000    0.0000    0.0000   \n",
       "25166650    0.1111    0.1111    0.0000    0.2222    0.1111    0.1111   \n",
       "20924358    0.0000    0.0000    0.0000    0.1111    0.1111    0.1111   \n",
       "\n",
       "book_id   18498572  33022718  18908446  11731786  ...  1035010   34150849  \\\n",
       "book_id                                           ...                       \n",
       "287149      0.0000    0.0000    0.1111    0.0000  ...    0.0000    0.0000   \n",
       "89376       0.0000    0.0000    0.1111    0.0000  ...    0.0000    0.0000   \n",
       "6158967     0.1111    0.1111    0.0000    0.1111  ...    0.0000    0.1111   \n",
       "25166650    0.1111    0.0000    0.1111    0.0000  ...    0.1111    0.1111   \n",
       "20924358    0.1111    0.0000    0.0000    0.0000  ...    0.1111    0.1111   \n",
       "\n",
       "book_id   1326      13538716  7815110   871243    386783    16241152  \\\n",
       "book_id                                                                \n",
       "287149      0.1111    0.0000    0.0000    0.0000    0.0000    0.0000   \n",
       "89376       0.1111    0.0000    0.0000    0.0000    0.0000    0.0000   \n",
       "6158967     0.0000    0.0000    0.1111    0.0000    0.0000    0.0000   \n",
       "25166650    0.1111    0.1111    0.1111    0.1111    0.1111    0.1111   \n",
       "20924358    0.0000    0.1111    0.1111    0.1111    0.1111    0.1111   \n",
       "\n",
       "book_id   2437975   16194     \n",
       "book_id                       \n",
       "287149      0.0000    0.0000  \n",
       "89376       0.0000    0.0000  \n",
       "6158967     0.0000    0.1111  \n",
       "25166650    0.1111    0.1111  \n",
       "20924358    0.1111    0.1111  \n",
       "\n",
       "[5 rows x 2000 columns]"
      ]
     },
     "execution_count": 10,
     "metadata": {},
     "output_type": "execute_result"
    }
   ],
   "source": [
    "df_aff.head()"
   ]
  },
  {
   "cell_type": "markdown",
   "id": "e29a463c",
   "metadata": {},
   "source": [
    "### Load to NetworkX"
   ]
  },
  {
   "cell_type": "code",
   "execution_count": 11,
   "id": "d892d3ae",
   "metadata": {},
   "outputs": [],
   "source": [
    "G_new = nx.from_pandas_adjacency(df_aff)"
   ]
  },
  {
   "cell_type": "markdown",
   "id": "333a6fb1",
   "metadata": {},
   "source": [
    "Check weights were loaded correctly"
   ]
  },
  {
   "cell_type": "code",
   "execution_count": 12,
   "id": "549499b9",
   "metadata": {},
   "outputs": [
    {
     "data": {
      "text/plain": [
       "{'weight': 0.2222}"
      ]
     },
     "execution_count": 12,
     "metadata": {},
     "output_type": "execute_result"
    }
   ],
   "source": [
    "G_new.get_edge_data(18498572, 54270)"
   ]
  },
  {
   "cell_type": "markdown",
   "id": "f3c5259f",
   "metadata": {},
   "source": [
    "### Add categorical variables to nodes"
   ]
  },
  {
   "cell_type": "code",
   "execution_count": 13,
   "id": "c82dcbc6",
   "metadata": {},
   "outputs": [],
   "source": [
    "for book_id in G_new.nodes:\n",
    "    G_new.nodes[book_id][\"economics\"] = df_books.loc[df_books.index==book_id][\"economics\"].values[0]\n",
    "    G_new.nodes[book_id][\"politics\"] = df_books.loc[df_books.index==book_id][\"politics\"].values[0]\n",
    "    G_new.nodes[book_id][\"sociology\"] = df_books.loc[df_books.index==book_id][\"sociology\"].values[0]\n",
    "    G_new.nodes[book_id][\"society\"] = df_books.loc[df_books.index==book_id][\"society\"].values[0]\n",
    "    G_new.nodes[book_id][\"political-science\"] = df_books.loc[df_books.index==book_id][\"political-science\"].values[0]\n",
    "    G_new.nodes[book_id][\"government\"] = df_books.loc[df_books.index==book_id][\"government\"].values[0]\n",
    "    G_new.nodes[book_id][\"history\"] = df_books.loc[df_books.index==book_id][\"history\"].values[0]\n",
    "    G_new.nodes[book_id][\"philosophy\"] = df_books.loc[df_books.index==book_id][\"philosophy\"].values[0]\n",
    "    G_new.nodes[book_id][\"theory\"] = df_books.loc[df_books.index==book_id][\"theory\"].values[0]"
   ]
  },
  {
   "cell_type": "markdown",
   "id": "d4e32dcc",
   "metadata": {},
   "source": [
    "Check categorical data was added correctly"
   ]
  },
  {
   "cell_type": "code",
   "execution_count": 16,
   "id": "36a6a298",
   "metadata": {},
   "outputs": [
    {
     "data": {
      "text/plain": [
       "[(699094,\n",
       "  {'economics': 0,\n",
       "   'politics': 0,\n",
       "   'sociology': 0,\n",
       "   'society': 0,\n",
       "   'political-science': 0,\n",
       "   'government': 0,\n",
       "   'history': 1,\n",
       "   'philosophy': 0,\n",
       "   'theory': 0}),\n",
       " (849183,\n",
       "  {'economics': 1,\n",
       "   'politics': 0,\n",
       "   'sociology': 0,\n",
       "   'society': 0,\n",
       "   'political-science': 0,\n",
       "   'government': 0,\n",
       "   'history': 1,\n",
       "   'philosophy': 0,\n",
       "   'theory': 0}),\n",
       " (401993,\n",
       "  {'economics': 1,\n",
       "   'politics': 0,\n",
       "   'sociology': 0,\n",
       "   'society': 0,\n",
       "   'political-science': 0,\n",
       "   'government': 0,\n",
       "   'history': 0,\n",
       "   'philosophy': 0,\n",
       "   'theory': 0}),\n",
       " (16280867,\n",
       "  {'economics': 0,\n",
       "   'politics': 0,\n",
       "   'sociology': 0,\n",
       "   'society': 0,\n",
       "   'political-science': 0,\n",
       "   'government': 0,\n",
       "   'history': 1,\n",
       "   'philosophy': 0,\n",
       "   'theory': 0}),\n",
       " (16194,\n",
       "  {'economics': 0,\n",
       "   'politics': 1,\n",
       "   'sociology': 0,\n",
       "   'society': 0,\n",
       "   'political-science': 0,\n",
       "   'government': 0,\n",
       "   'history': 1,\n",
       "   'philosophy': 0,\n",
       "   'theory': 0})]"
      ]
     },
     "execution_count": 16,
     "metadata": {},
     "output_type": "execute_result"
    }
   ],
   "source": [
    "list(G_new.nodes.data())[:5]"
   ]
  },
  {
   "cell_type": "markdown",
   "id": "c60aa5ac",
   "metadata": {},
   "source": [
    "### Centrality Measures"
   ]
  },
  {
   "cell_type": "markdown",
   "id": "cb91442c",
   "metadata": {},
   "source": [
    "Calculate degree and eigenvector centrality for each node"
   ]
  },
  {
   "cell_type": "code",
   "execution_count": 307,
   "id": "ec28984e",
   "metadata": {},
   "outputs": [],
   "source": [
    "degree_all = nx.degree_centrality(G_new)\n",
    "degree_eigen_all = nx.eigenvector_centrality(G_new)"
   ]
  },
  {
   "cell_type": "markdown",
   "id": "be27248d",
   "metadata": {},
   "source": [
    "#### Top 10 Books by Highest Degree Centrality"
   ]
  },
  {
   "cell_type": "markdown",
   "id": "95beb90d",
   "metadata": {},
   "source": [
    "**Important:** Doznes of books are tied for the top degree centrality measure."
   ]
  },
  {
   "cell_type": "code",
   "execution_count": 336,
   "id": "76b94873",
   "metadata": {},
   "outputs": [
    {
     "data": {
      "text/plain": [
       "array(['Sincerity: How a Moral Ideal Born Five Hundred Years Ago Inspired Religious Wars, Modern Art, Hipster Chic, and the Curious Notion That We All Have Something to Say (No Matter How Dull)',\n",
       "       'Why Does E=mc²?',\n",
       "       'The Greatest Show on Earth: The Evidence for Evolution',\n",
       "       \"The Perfect Nazi: Uncovering My Grandfather's Secret Past and How Hitler Seduced a Generation\",\n",
       "       'Mastery', 'The Lessons of History',\n",
       "       'Alchemy and Mysticism: The Hermetic Museum', 'Fragments',\n",
       "       'Ayn Rand and the World She Made',\n",
       "       'The Beach Beneath the Street: The Everyday Life and Glorious Times of the Situationist International'],\n",
       "      dtype=object)"
      ]
     },
     "execution_count": 336,
     "metadata": {},
     "output_type": "execute_result"
    }
   ],
   "source": [
    "top_books_degree = sorted(degree_all.items(), key=lambda item: item[1], reverse=True)\n",
    "top_10_books_degree = [x[0] for x in top_books_degree[:10]] \n",
    "df_books_raw.loc[df_books.index.isin(top_10_books_degree)][\"title\"].values"
   ]
  },
  {
   "cell_type": "markdown",
   "id": "a988e092",
   "metadata": {},
   "source": [
    "#### Top 10 Books by Highest Eigenvector Centrality"
   ]
  },
  {
   "cell_type": "markdown",
   "id": "fcefc525",
   "metadata": {},
   "source": [
    "**Important:** Hundreds of books are tied for the top eigenvector centrality measure."
   ]
  },
  {
   "cell_type": "code",
   "execution_count": 309,
   "id": "ce4c0e75",
   "metadata": {},
   "outputs": [
    {
     "data": {
      "text/plain": [
       "array(['Sincerity: How a Moral Ideal Born Five Hundred Years Ago Inspired Religious Wars, Modern Art, Hipster Chic, and the Curious Notion That We All Have Something to Say (No Matter How Dull)',\n",
       "       'Why Does E=mc²?',\n",
       "       'The Greatest Show on Earth: The Evidence for Evolution',\n",
       "       \"The Perfect Nazi: Uncovering My Grandfather's Secret Past and How Hitler Seduced a Generation\",\n",
       "       'Mastery', 'The Lessons of History',\n",
       "       'Alchemy and Mysticism: The Hermetic Museum', 'Fragments',\n",
       "       'Ayn Rand and the World She Made',\n",
       "       'The Beach Beneath the Street: The Everyday Life and Glorious Times of the Situationist International'],\n",
       "      dtype=object)"
      ]
     },
     "execution_count": 309,
     "metadata": {},
     "output_type": "execute_result"
    }
   ],
   "source": [
    "top_books_eigen = sorted(degree_eigen_all.items(), key=lambda item: item[1], reverse=True)\n",
    "top_10_books_eigen = [x[0] for x in top_books_eigen[:10]] \n",
    "df_books_raw.loc[df_books.index.isin(top_10_books_eigen)][\"title\"].values"
   ]
  },
  {
   "cell_type": "markdown",
   "id": "31489043",
   "metadata": {},
   "source": [
    "### Compare centrality measures across categorical groups"
   ]
  },
  {
   "cell_type": "markdown",
   "id": "797b5a33",
   "metadata": {},
   "source": [
    "#### Economics Degree Centrality"
   ]
  },
  {
   "cell_type": "code",
   "execution_count": 310,
   "id": "8085fa67",
   "metadata": {},
   "outputs": [
    {
     "name": "stdout",
     "output_type": "stream",
     "text": [
      "Avg. Degree Centrality 0.30052781492787173\n",
      "Maximum Degree Centrality 0.743871935967984\n",
      "Minimum Degree Centrality 0.07403701850925462\n"
     ]
    }
   ],
   "source": [
    "G_economics = [x for x,y in G_new.nodes(data=True) if y['economics']==1]\n",
    "degree_centrality_economics_dict = {k: v for k, v in degree_all.items() if k in G_economics}\n",
    "economics_values = [v for k, v in degree_centrality_economics_dict.items()]\n",
    "print(\"Avg. Degree Centrality\", sum(economics_values) / len(degree_centrality_economics_dict))\n",
    "print(\"Maximum Degree Centrality\", max(economics_values))\n",
    "print(\"Minimum Degree Centrality\", min(economics_values))"
   ]
  },
  {
   "cell_type": "code",
   "execution_count": 311,
   "id": "b3d7eae5",
   "metadata": {},
   "outputs": [],
   "source": [
    "# figure(figsize=(8, 6), dpi=80)\n",
    "# plt.hist([v for k, v in degree_centrality_economics_dict.items()])"
   ]
  },
  {
   "cell_type": "markdown",
   "id": "840b0693",
   "metadata": {},
   "source": [
    "#### Politics Degree Centrality"
   ]
  },
  {
   "cell_type": "code",
   "execution_count": 312,
   "id": "a42c0b13",
   "metadata": {},
   "outputs": [
    {
     "name": "stdout",
     "output_type": "stream",
     "text": [
      "Avg. Degree Centrality 0.5805390676107269\n",
      "Maximum Degree Centrality 0.7648824412206102\n",
      "Minimum Degree Centrality 0.20860430215107553\n"
     ]
    }
   ],
   "source": [
    "G_politics = [x for x,y in G_new.nodes(data=True) if y['politics']==1]\n",
    "degree_centrality_politics_dict = {k: v for k, v in degree_all.items() if k in G_politics}\n",
    "politics_values = [v for k, v in degree_centrality_politics_dict.items()]\n",
    "print(\"Avg. Degree Centrality\", sum(politics_values) / len(degree_centrality_politics_dict))\n",
    "print(\"Maximum Degree Centrality\", max(politics_values))\n",
    "print(\"Minimum Degree Centrality\", min(politics_values))"
   ]
  },
  {
   "cell_type": "markdown",
   "id": "62311773",
   "metadata": {},
   "source": [
    "#### Sociology Degree Centrality"
   ]
  },
  {
   "cell_type": "code",
   "execution_count": 313,
   "id": "b463c53c",
   "metadata": {},
   "outputs": [
    {
     "name": "stdout",
     "output_type": "stream",
     "text": [
      "Avg. Degree Centrality 0.41262769749654715\n",
      "Maximum Degree Centrality 0.7408704352176088\n",
      "Minimum Degree Centrality 0.1185592796398199\n"
     ]
    }
   ],
   "source": [
    "G_sociology = [x for x,y in G_new.nodes(data=True) if y['sociology']==1]\n",
    "degree_centrality_sociology_dict = {k: v for k, v in degree_all.items() if k in G_sociology}\n",
    "sociology_values = [v for k, v in degree_centrality_sociology_dict.items()]\n",
    "print(\"Avg. Degree Centrality\", sum(sociology_values) / len(degree_centrality_sociology_dict))\n",
    "print(\"Maximum Degree Centrality\", max(sociology_values))\n",
    "print(\"Minimum Degree Centrality\", min(sociology_values))"
   ]
  },
  {
   "cell_type": "markdown",
   "id": "d41bf91c",
   "metadata": {},
   "source": [
    "#### Society Degree Centrality"
   ]
  },
  {
   "cell_type": "code",
   "execution_count": 314,
   "id": "253c6655",
   "metadata": {},
   "outputs": [
    {
     "name": "stdout",
     "output_type": "stream",
     "text": [
      "Avg. Degree Centrality 0.27431897767065355\n",
      "Maximum Degree Centrality 0.689344672336168\n",
      "Minimum Degree Centrality 0.07903951975987994\n"
     ]
    }
   ],
   "source": [
    "G_society = [x for x,y in G_new.nodes(data=True) if y['society']==1]\n",
    "degree_centrality_society_dict = {k: v for k, v in degree_all.items() if k in G_society}\n",
    "society_values = [v for k, v in degree_centrality_society_dict.items()]\n",
    "print(\"Avg. Degree Centrality\", sum(society_values) / len(degree_centrality_society_dict))\n",
    "print(\"Maximum Degree Centrality\", max(society_values))\n",
    "print(\"Minimum Degree Centrality\", min(society_values))"
   ]
  },
  {
   "cell_type": "markdown",
   "id": "a2ebe417",
   "metadata": {},
   "source": [
    "#### Political Science Degree Centrality"
   ]
  },
  {
   "cell_type": "code",
   "execution_count": 315,
   "id": "298540a2",
   "metadata": {},
   "outputs": [
    {
     "name": "stdout",
     "output_type": "stream",
     "text": [
      "Avg. Degree Centrality 0.22086043021510757\n",
      "Maximum Degree Centrality 0.27963981990995496\n",
      "Minimum Degree Centrality 0.20910455227613806\n"
     ]
    }
   ],
   "source": [
    "G_political_science = [x for x,y in G_new.nodes(data=True) if y['political-science']==1]\n",
    "degree_centrality_political_science_dict = {k: v for k, v in degree_all.items() if k in G_political_science}\n",
    "political_science_values = [v for k, v in degree_centrality_political_science_dict.items()]\n",
    "print(\"Avg. Degree Centrality\", sum(political_science_values) / len(degree_centrality_political_science_dict))\n",
    "print(\"Maximum Degree Centrality\", max(political_science_values))\n",
    "print(\"Minimum Degree Centrality\", min(political_science_values))"
   ]
  },
  {
   "cell_type": "markdown",
   "id": "f00daa67",
   "metadata": {},
   "source": [
    "#### Government Degree Centrality"
   ]
  },
  {
   "cell_type": "code",
   "execution_count": 316,
   "id": "b0983860",
   "metadata": {},
   "outputs": [
    {
     "name": "stdout",
     "output_type": "stream",
     "text": [
      "Avg. Degree Centrality 0.20860430215107553\n",
      "Maximum Degree Centrality 0.20860430215107553\n",
      "Minimum Degree Centrality 0.20860430215107553\n"
     ]
    }
   ],
   "source": [
    "G_government = [x for x,y in G_new.nodes(data=True) if y['government']==1]\n",
    "degree_centrality_government_dict = {k: v for k, v in degree_all.items() if k in G_government}\n",
    "government_values = [v for k, v in degree_centrality_government_dict.items()]\n",
    "print(\"Avg. Degree Centrality\", sum(government_values) / len(degree_centrality_government_dict))\n",
    "print(\"Maximum Degree Centrality\", max(government_values))\n",
    "print(\"Minimum Degree Centrality\", min(government_values))"
   ]
  },
  {
   "cell_type": "markdown",
   "id": "fcae247a",
   "metadata": {},
   "source": [
    "#### History Degree Centrality"
   ]
  },
  {
   "cell_type": "code",
   "execution_count": 317,
   "id": "903f686e",
   "metadata": {},
   "outputs": [
    {
     "name": "stdout",
     "output_type": "stream",
     "text": [
      "Avg. Degree Centrality 0.7228709453483009\n",
      "Maximum Degree Centrality 0.8959479739869934\n",
      "Minimum Degree Centrality 0.6843421710855427\n"
     ]
    }
   ],
   "source": [
    "G_history = [x for x,y in G_new.nodes(data=True) if y['history']==1]\n",
    "degree_centrality_history_dict = {k: v for k, v in degree_all.items() if k in G_history}\n",
    "history_values = [v for k, v in degree_centrality_history_dict.items()]\n",
    "print(\"Avg. Degree Centrality\", sum(history_values) / len(degree_centrality_history_dict))\n",
    "print(\"Maximum Degree Centrality\", max(history_values))\n",
    "print(\"Minimum Degree Centrality\", min(history_values))"
   ]
  },
  {
   "cell_type": "markdown",
   "id": "9332af25",
   "metadata": {},
   "source": [
    "#### Philosphy Degree Centrality"
   ]
  },
  {
   "cell_type": "code",
   "execution_count": 318,
   "id": "871cf16c",
   "metadata": {},
   "outputs": [
    {
     "name": "stdout",
     "output_type": "stream",
     "text": [
      "Avg. Degree Centrality 0.4430795868096789\n",
      "Maximum Degree Centrality 0.8959479739869934\n",
      "Minimum Degree Centrality 0.2771385692846423\n"
     ]
    }
   ],
   "source": [
    "G_philosophy = [x for x,y in G_new.nodes(data=True) if y['philosophy']==1]\n",
    "degree_centrality_philosophy_dict = {k: v for k, v in degree_all.items() if k in G_philosophy}\n",
    "philosophy_values = [v for k, v in degree_centrality_philosophy_dict.items()]\n",
    "print(\"Avg. Degree Centrality\", sum(philosophy_values) / len(degree_centrality_philosophy_dict))\n",
    "print(\"Maximum Degree Centrality\", max(philosophy_values))\n",
    "print(\"Minimum Degree Centrality\", min(philosophy_values))"
   ]
  },
  {
   "cell_type": "markdown",
   "id": "bc2e9ac9",
   "metadata": {},
   "source": [
    "#### Theory Degree Centrality"
   ]
  },
  {
   "cell_type": "code",
   "execution_count": 319,
   "id": "4bf5f3ee",
   "metadata": {},
   "outputs": [
    {
     "name": "stdout",
     "output_type": "stream",
     "text": [
      "Avg. Degree Centrality 0.27281140570285145\n",
      "Maximum Degree Centrality 0.7193596798399199\n",
      "Minimum Degree Centrality 0.04052026013006503\n"
     ]
    }
   ],
   "source": [
    "G_theory = [x for x,y in G_new.nodes(data=True) if y['theory']==1]\n",
    "degree_centrality_theory_dict = {k: v for k, v in degree_all.items() if k in G_theory}\n",
    "theory_values = [v for k, v in degree_centrality_theory_dict.items()]\n",
    "print(\"Avg. Degree Centrality\", sum(theory_values) / len(degree_centrality_theory_dict))\n",
    "print(\"Maximum Degree Centrality\", max(theory_values))\n",
    "print(\"Minimum Degree Centrality\", min(theory_values))"
   ]
  },
  {
   "cell_type": "markdown",
   "id": "74b89f31",
   "metadata": {},
   "source": [
    "### T-Test of Degree Centrality"
   ]
  },
  {
   "cell_type": "code",
   "execution_count": 320,
   "id": "516f6f10",
   "metadata": {},
   "outputs": [
    {
     "name": "stdout",
     "output_type": "stream",
     "text": [
      "Ttest_indResult(statistic=-12.23879515489314, pvalue=1.080248309254653e-30)\n",
      "Ttest_indResult(statistic=-4.3303714697934454, pvalue=2.023826438082109e-05)\n",
      "Ttest_indResult(statistic=0.3628386263771928, pvalue=0.7172165748710104)\n",
      "Ttest_indResult(statistic=0.8254621391034184, pvalue=0.41041148851365783)\n",
      "Ttest_indResult(statistic=0.5499414094817107, pvalue=0.5831941648785782)\n",
      "Ttest_indResult(statistic=-50.91553790466661, pvalue=0.0)\n",
      "Ttest_indResult(statistic=-6.1123230746540065, pvalue=1.6328063724332238e-09)\n",
      "Ttest_indResult(statistic=0.8890759309560058, pvalue=0.37491181012969)\n",
      "Ttest_indResult(statistic=7.711731458213414, pvalue=5.523914521191946e-14)\n",
      "Ttest_indResult(statistic=4.216835968640366, pvalue=3.029267766114561e-05)\n",
      "Ttest_indResult(statistic=3.6749397532190486, pvalue=0.00026870745399087465)\n",
      "Ttest_indResult(statistic=2.19416694448888, pvalue=0.028775756371310333)\n",
      "Ttest_indResult(statistic=-19.751662342649052, pvalue=1.111727221422089e-78)\n",
      "Ttest_indResult(statistic=8.518568649709415, pvalue=6.125155191997926e-17)\n",
      "Ttest_indResult(statistic=2.0745265881243298, pvalue=0.03955528125295277)\n",
      "Ttest_indResult(statistic=2.1553048857231816, pvalue=0.03260537630245661)\n",
      "Ttest_indResult(statistic=1.3240612500170204, pvalue=0.18738299819383167)\n",
      "Ttest_indResult(statistic=-39.84337226704436, pvalue=1.7716990863030347e-238)\n",
      "Ttest_indResult(statistic=-1.3680763418111839, pvalue=0.17172098216885445)\n",
      "Ttest_indResult(statistic=0.8503128307403768, pvalue=0.4085194979611102)\n",
      "Ttest_indResult(statistic=0.5963672475406694, pvalue=0.5630013904266575)\n",
      "Ttest_indResult(statistic=-22.570230871317047, pvalue=3.201229343967096e-96)\n",
      "Ttest_indResult(statistic=-2.1834171349865983, pvalue=0.029417979226618138)\n",
      "Ttest_indResult(statistic=0.5710299003777273, pvalue=0.588712294594882)\n",
      "Ttest_indResult(statistic=-19.014925410741455, pvalue=9.760873660733247e-72)\n",
      "Ttest_indResult(statistic=-2.1298752384251967, pvalue=0.03361962600095275)\n",
      "Ttest_indResult(statistic=-11.250359062086071, pvalue=3.811019081281145e-28)\n",
      "Ttest_indResult(statistic=-1.2975631744156026, pvalue=0.19497848871017326)\n",
      "Ttest_indResult(statistic=37.65658269377677, pvalue=8.35003301200469e-233)\n"
     ]
    }
   ],
   "source": [
    "print(stats.ttest_ind(economics_values, politics_values))\n",
    "print(stats.ttest_ind(economics_values, sociology_values))\n",
    "print(stats.ttest_ind(economics_values, society_values))\n",
    "print(stats.ttest_ind(economics_values, political_science_values))\n",
    "print(stats.ttest_ind(economics_values, government_values))\n",
    "print(stats.ttest_ind(economics_values, history_values))\n",
    "print(stats.ttest_ind(economics_values, philosophy_values))\n",
    "print(stats.ttest_ind(economics_values, theory_values))\n",
    "\n",
    "print(stats.ttest_ind(politics_values, sociology_values))\n",
    "print(stats.ttest_ind(politics_values, society_values))\n",
    "print(stats.ttest_ind(politics_values, political_science_values))\n",
    "print(stats.ttest_ind(politics_values, government_values))\n",
    "print(stats.ttest_ind(politics_values, history_values))\n",
    "print(stats.ttest_ind(politics_values, philosophy_values))\n",
    "\n",
    "print(stats.ttest_ind(sociology_values, society_values))\n",
    "print(stats.ttest_ind(sociology_values, political_science_values))\n",
    "print(stats.ttest_ind(sociology_values, government_values))\n",
    "print(stats.ttest_ind(sociology_values, history_values))\n",
    "print(stats.ttest_ind(sociology_values, philosophy_values))\n",
    "\n",
    "print(stats.ttest_ind(society_values, political_science_values))\n",
    "print(stats.ttest_ind(society_values, government_values))\n",
    "print(stats.ttest_ind(society_values, history_values))\n",
    "print(stats.ttest_ind(society_values, philosophy_values))\n",
    "\n",
    "print(stats.ttest_ind(political_science_values, government_values))\n",
    "print(stats.ttest_ind(political_science_values, history_values))\n",
    "print(stats.ttest_ind(political_science_values, philosophy_values))\n",
    "\n",
    "print(stats.ttest_ind(government_values, history_values))\n",
    "print(stats.ttest_ind(government_values, philosophy_values))\n",
    "\n",
    "print(stats.ttest_ind(history_values, philosophy_values))"
   ]
  },
  {
   "cell_type": "markdown",
   "id": "02199390",
   "metadata": {},
   "source": [
    "History's higher mean is statistically significant at a 95% confidence level compared to all other categories. Politics's higher mean is statistically significant compared to all other categories, except history. We can interpret this as history and politics books are frequently associated with multiple genres."
   ]
  },
  {
   "cell_type": "markdown",
   "id": "e7bef9a7",
   "metadata": {},
   "source": [
    "#### Economics Eigenvector centrality"
   ]
  },
  {
   "cell_type": "code",
   "execution_count": 321,
   "id": "178879b1",
   "metadata": {},
   "outputs": [
    {
     "name": "stdout",
     "output_type": "stream",
     "text": [
      "Avg. Degree Centrality 0.008068759224304847\n",
      "Maximum Degree Centrality 0.026830342539652895\n",
      "Minimum Degree Centrality 0.0008575968291232949\n"
     ]
    }
   ],
   "source": [
    "G_economics = [x for x,y in G_new.nodes(data=True) if y['economics']==1]\n",
    "degree_centrality_economics_dict = {k: v for k, v in degree_eigen_all.items() if k in G_economics}\n",
    "economics_values = [v for k, v in degree_centrality_economics_dict.items()]\n",
    "print(\"Avg. Degree Centrality\", sum(economics_values) / len(degree_centrality_economics_dict))\n",
    "print(\"Maximum Degree Centrality\", max(economics_values))\n",
    "print(\"Minimum Degree Centrality\", min(economics_values))"
   ]
  },
  {
   "cell_type": "markdown",
   "id": "6a5eca56",
   "metadata": {},
   "source": [
    "#### Politics Eigenvector centrality"
   ]
  },
  {
   "cell_type": "code",
   "execution_count": 322,
   "id": "d6e71882",
   "metadata": {},
   "outputs": [
    {
     "name": "stdout",
     "output_type": "stream",
     "text": [
      "Avg. Degree Centrality 0.019490252388889132\n",
      "Maximum Degree Centrality 0.027337859145921312\n",
      "Minimum Degree Centrality 0.005862137384790679\n"
     ]
    }
   ],
   "source": [
    "G_politics = [x for x,y in G_new.nodes(data=True) if y['politics']==1]\n",
    "degree_centrality_politics_dict = {k: v for k, v in degree_eigen_all.items() if k in G_politics}\n",
    "politics_values = [v for k, v in degree_centrality_politics_dict.items()]\n",
    "print(\"Avg. Degree Centrality\", sum(politics_values) / len(degree_centrality_politics_dict))\n",
    "print(\"Maximum Degree Centrality\", max(politics_values))\n",
    "print(\"Minimum Degree Centrality\", min(politics_values))"
   ]
  },
  {
   "cell_type": "markdown",
   "id": "fa9cfd39",
   "metadata": {},
   "source": [
    "#### Sociology Eigenvector centrality"
   ]
  },
  {
   "cell_type": "code",
   "execution_count": 323,
   "id": "387c3138",
   "metadata": {},
   "outputs": [
    {
     "name": "stdout",
     "output_type": "stream",
     "text": [
      "Avg. Degree Centrality 0.011550996814168534\n",
      "Maximum Degree Centrality 0.026947623621686376\n",
      "Minimum Degree Centrality 0.001674331004439736\n"
     ]
    }
   ],
   "source": [
    "G_sociology = [x for x,y in G_new.nodes(data=True) if y['sociology']==1]\n",
    "degree_centrality_sociology_dict = {k: v for k, v in degree_eigen_all.items() if k in G_sociology}\n",
    "sociology_values = [v for k, v in degree_centrality_sociology_dict.items()]\n",
    "print(\"Avg. Degree Centrality\", sum(sociology_values) / len(degree_centrality_sociology_dict))\n",
    "print(\"Maximum Degree Centrality\", max(sociology_values))\n",
    "print(\"Minimum Degree Centrality\", min(sociology_values))"
   ]
  },
  {
   "cell_type": "markdown",
   "id": "8e0b6a72",
   "metadata": {},
   "source": [
    "#### Society Eigenvector centrality"
   ]
  },
  {
   "cell_type": "code",
   "execution_count": 324,
   "id": "e6b0cfa5",
   "metadata": {},
   "outputs": [
    {
     "name": "stdout",
     "output_type": "stream",
     "text": [
      "Avg. Degree Centrality 0.006507056767977155\n",
      "Maximum Degree Centrality 0.02654846432864323\n",
      "Minimum Degree Centrality 0.000908696418895413\n"
     ]
    }
   ],
   "source": [
    "G_society = [x for x,y in G_new.nodes(data=True) if y['society']==1]\n",
    "degree_centrality_society_dict = {k: v for k, v in degree_eigen_all.items() if k in G_society}\n",
    "society_values = [v for k, v in degree_centrality_society_dict.items()]\n",
    "print(\"Avg. Degree Centrality\", sum(society_values) / len(degree_centrality_society_dict))\n",
    "print(\"Maximum Degree Centrality\", max(society_values))\n",
    "print(\"Minimum Degree Centrality\", min(society_values))"
   ]
  },
  {
   "cell_type": "markdown",
   "id": "9ce91522",
   "metadata": {},
   "source": [
    "#### Political Science Eigenvector centrality"
   ]
  },
  {
   "cell_type": "code",
   "execution_count": 325,
   "id": "83cf3e1c",
   "metadata": {},
   "outputs": [
    {
     "name": "stdout",
     "output_type": "stream",
     "text": [
      "Avg. Degree Centrality 0.005569399819167789\n",
      "Maximum Degree Centrality 0.005865096208143843\n",
      "Minimum Degree Centrality 0.004090917874287527\n"
     ]
    }
   ],
   "source": [
    "G_political_science = [x for x,y in G_new.nodes(data=True) if y['political-science']==1]\n",
    "degree_centrality_political_science_dict = {k: v for k, v in degree_eigen_all.items() if k in G_political_science}\n",
    "political_science_values = [v for k, v in degree_centrality_political_science_dict.items()]\n",
    "print(\"Avg. Degree Centrality\", sum(political_science_values) / len(degree_centrality_political_science_dict))\n",
    "print(\"Maximum Degree Centrality\", max(political_science_values))\n",
    "print(\"Minimum Degree Centrality\", min(political_science_values))"
   ]
  },
  {
   "cell_type": "markdown",
   "id": "3cb62af2",
   "metadata": {},
   "source": [
    "#### Government Eigenvector centrality"
   ]
  },
  {
   "cell_type": "code",
   "execution_count": 326,
   "id": "14c4ff50",
   "metadata": {},
   "outputs": [
    {
     "name": "stdout",
     "output_type": "stream",
     "text": [
      "Avg. Degree Centrality 0.005862137384790679\n",
      "Maximum Degree Centrality 0.005862137384790679\n",
      "Minimum Degree Centrality 0.005862137384790679\n"
     ]
    }
   ],
   "source": [
    "G_government = [x for x,y in G_new.nodes(data=True) if y['government']==1]\n",
    "degree_centrality_government_dict = {k: v for k, v in degree_eigen_all.items() if k in G_government}\n",
    "government_values = [v for k, v in degree_centrality_government_dict.items()]\n",
    "print(\"Avg. Degree Centrality\", sum(government_values) / len(degree_centrality_government_dict))\n",
    "print(\"Maximum Degree Centrality\", max(government_values))\n",
    "print(\"Minimum Degree Centrality\", min(government_values))"
   ]
  },
  {
   "cell_type": "markdown",
   "id": "8b1d8fd0",
   "metadata": {},
   "source": [
    "#### History Eigenvector centrality"
   ]
  },
  {
   "cell_type": "code",
   "execution_count": 327,
   "id": "845c52ff",
   "metadata": {},
   "outputs": [
    {
     "name": "stdout",
     "output_type": "stream",
     "text": [
      "Avg. Degree Centrality 0.026828489398341208\n",
      "Maximum Degree Centrality 0.027957747794059285\n",
      "Minimum Degree Centrality 0.026515902262961813\n"
     ]
    }
   ],
   "source": [
    "G_history = [x for x,y in G_new.nodes(data=True) if y['history']==1]\n",
    "degree_centrality_history_dict = {k: v for k, v in degree_eigen_all.items() if k in G_history}\n",
    "history_values = [v for k, v in degree_centrality_history_dict.items()]\n",
    "print(\"Avg. Degree Centrality\", sum(history_values) / len(degree_centrality_history_dict))\n",
    "print(\"Maximum Degree Centrality\", max(history_values))\n",
    "print(\"Minimum Degree Centrality\", min(history_values))"
   ]
  },
  {
   "cell_type": "markdown",
   "id": "0fdb45f7",
   "metadata": {},
   "source": [
    "#### Philosophy Eigenvector centrality"
   ]
  },
  {
   "cell_type": "code",
   "execution_count": 328,
   "id": "872dfe4c",
   "metadata": {},
   "outputs": [
    {
     "name": "stdout",
     "output_type": "stream",
     "text": [
      "Avg. Degree Centrality 0.010177430727676044\n",
      "Maximum Degree Centrality 0.027957747794059285\n",
      "Minimum Degree Centrality 0.004069715024565239\n"
     ]
    }
   ],
   "source": [
    "G_philosophy = [x for x,y in G_new.nodes(data=True) if y['philosophy']==1]\n",
    "degree_centrality_philosophy_dict = {k: v for k, v in degree_eigen_all.items() if k in G_philosophy}\n",
    "philosophy_values = [v for k, v in degree_centrality_philosophy_dict.items()]\n",
    "print(\"Avg. Degree Centrality\", sum(philosophy_values) / len(degree_centrality_philosophy_dict))\n",
    "print(\"Maximum Degree Centrality\", max(philosophy_values))\n",
    "print(\"Minimum Degree Centrality\", min(philosophy_values))"
   ]
  },
  {
   "cell_type": "markdown",
   "id": "eda03dfa",
   "metadata": {},
   "source": [
    "#### Theory Eigenvector centrality"
   ]
  },
  {
   "cell_type": "code",
   "execution_count": 329,
   "id": "a96fa4e0",
   "metadata": {},
   "outputs": [
    {
     "name": "stdout",
     "output_type": "stream",
     "text": [
      "Avg. Degree Centrality 0.00605045796289653\n",
      "Maximum Degree Centrality 0.02667306401816896\n",
      "Minimum Degree Centrality 0.0003500093601677809\n"
     ]
    }
   ],
   "source": [
    "G_theory = [x for x,y in G_new.nodes(data=True) if y['theory']==1]\n",
    "degree_centrality_theory_dict = {k: v for k, v in degree_eigen_all.items() if k in G_theory}\n",
    "theory_values = [v for k, v in degree_centrality_theory_dict.items()]\n",
    "print(\"Avg. Degree Centrality\", sum(theory_values) / len(degree_centrality_theory_dict))\n",
    "print(\"Maximum Degree Centrality\", max(theory_values))\n",
    "print(\"Minimum Degree Centrality\", min(theory_values))"
   ]
  },
  {
   "cell_type": "markdown",
   "id": "e4ed93fa",
   "metadata": {},
   "source": [
    "### T-Test of Eigenvector Centrality"
   ]
  },
  {
   "cell_type": "code",
   "execution_count": 330,
   "id": "e3a1b738",
   "metadata": {},
   "outputs": [
    {
     "name": "stdout",
     "output_type": "stream",
     "text": [
      "Ttest_indResult(statistic=-12.157717545651884, pvalue=2.372711406920101e-30)\n",
      "Ttest_indResult(statistic=-3.1414258640904684, pvalue=0.001846851561455689)\n",
      "Ttest_indResult(statistic=0.5399377492890215, pvalue=0.5900098904658916)\n",
      "Ttest_indResult(statistic=0.6493581491491186, pvalue=0.5170934205450233)\n",
      "Ttest_indResult(statistic=0.33097090493091497, pvalue=0.7411377697489745)\n",
      "Ttest_indResult(statistic=-73.10923670285607, pvalue=0.0)\n",
      "Ttest_indResult(statistic=-2.3098949021531765, pvalue=0.021184854177983388)\n",
      "Ttest_indResult(statistic=1.6234441346778679, pvalue=0.10589466027504946)\n",
      "Ttest_indResult(statistic=8.573372254887618, pvalue=9.375600567075415e-17)\n",
      "Ttest_indResult(statistic=4.308985196793514, pvalue=2.03964062943989e-05)\n",
      "Ttest_indResult(statistic=3.431304740749102, pvalue=0.0006602060641716995)\n",
      "Ttest_indResult(statistic=1.9394235040069574, pvalue=0.05312551873787997)\n",
      "Ttest_indResult(statistic=-27.245809863968546, pvalue=6.300040318365448e-137)\n",
      "Ttest_indResult(statistic=14.435817390064988, pvalue=6.352023790725988e-43)\n",
      "Ttest_indResult(statistic=1.652545571670091, pvalue=0.10029104887367365)\n",
      "Ttest_indResult(statistic=1.4682659396293125, pvalue=0.14395910547594815)\n",
      "Ttest_indResult(statistic=0.8061620742736489, pvalue=0.4213534931959627)\n",
      "Ttest_indResult(statistic=-56.34327315511662, pvalue=0.0)\n",
      "Ttest_indResult(statistic=1.5340211960085095, pvalue=0.12546989956514118)\n",
      "Ttest_indResult(statistic=0.3314974504427648, pvalue=0.7448549480411868)\n",
      "Ttest_indResult(statistic=0.12927379086533547, pvalue=0.8994744908106249)\n",
      "Ttest_indResult(statistic=-88.94065088228864, pvalue=0.0)\n",
      "Ttest_indResult(statistic=-1.2171308393356535, pvalue=0.22406528202012563)\n",
      "Ttest_indResult(statistic=-0.5422418876200449, pvalue=0.607187631365818)\n",
      "Ttest_indResult(statistic=-107.01963508215353, pvalue=0.0)\n",
      "Ttest_indResult(statistic=-1.1332797627894964, pvalue=0.2575843433583491)\n",
      "Ttest_indResult(statistic=-61.18567737765879, pvalue=0.0)\n",
      "Ttest_indResult(statistic=-0.6127400212489635, pvalue=0.5403001460626378)\n",
      "Ttest_indResult(statistic=61.71132041458958, pvalue=0.0)\n"
     ]
    }
   ],
   "source": [
    "print(stats.ttest_ind(economics_values, politics_values))\n",
    "print(stats.ttest_ind(economics_values, sociology_values))\n",
    "print(stats.ttest_ind(economics_values, society_values))\n",
    "print(stats.ttest_ind(economics_values, political_science_values))\n",
    "print(stats.ttest_ind(economics_values, government_values))\n",
    "print(stats.ttest_ind(economics_values, history_values))\n",
    "print(stats.ttest_ind(economics_values, philosophy_values))\n",
    "print(stats.ttest_ind(economics_values, theory_values))\n",
    "\n",
    "print(stats.ttest_ind(politics_values, sociology_values))\n",
    "print(stats.ttest_ind(politics_values, society_values))\n",
    "print(stats.ttest_ind(politics_values, political_science_values))\n",
    "print(stats.ttest_ind(politics_values, government_values))\n",
    "print(stats.ttest_ind(politics_values, history_values))\n",
    "print(stats.ttest_ind(politics_values, philosophy_values))\n",
    "\n",
    "print(stats.ttest_ind(sociology_values, society_values))\n",
    "print(stats.ttest_ind(sociology_values, political_science_values))\n",
    "print(stats.ttest_ind(sociology_values, government_values))\n",
    "print(stats.ttest_ind(sociology_values, history_values))\n",
    "print(stats.ttest_ind(sociology_values, philosophy_values))\n",
    "\n",
    "print(stats.ttest_ind(society_values, political_science_values))\n",
    "print(stats.ttest_ind(society_values, government_values))\n",
    "print(stats.ttest_ind(society_values, history_values))\n",
    "print(stats.ttest_ind(society_values, philosophy_values))\n",
    "\n",
    "print(stats.ttest_ind(political_science_values, government_values))\n",
    "print(stats.ttest_ind(political_science_values, history_values))\n",
    "print(stats.ttest_ind(political_science_values, philosophy_values))\n",
    "\n",
    "print(stats.ttest_ind(government_values, history_values))\n",
    "print(stats.ttest_ind(government_values, philosophy_values))\n",
    "\n",
    "print(stats.ttest_ind(history_values, philosophy_values))"
   ]
  },
  {
   "cell_type": "markdown",
   "id": "68ec36a5",
   "metadata": {},
   "source": [
    "Again, history's higher mean is statistically significant at a 95% confidence level compared to all other categories. Politics's higher mean is statistically significant compared to all other categories (government is on the threshold), except history. We can interpret this as history and politics books are frequently associated with other nodes with high centrality measures."
   ]
  },
  {
   "cell_type": "markdown",
   "id": "31d962e9",
   "metadata": {},
   "source": [
    "### Visualize Network"
   ]
  },
  {
   "cell_type": "code",
   "execution_count": 122,
   "id": "56ce0573",
   "metadata": {},
   "outputs": [
    {
     "data": {
      "image/png": "[encoded data removed]",
      "text/plain": [
       "<Figure size 432x288 with 1 Axes>"
      ]
     },
     "metadata": {},
     "output_type": "display_data"
    }
   ],
   "source": [
    "nx.draw(G_new)"
   ]
  },
  {
   "cell_type": "markdown",
   "id": "ad2522ef",
   "metadata": {},
   "source": [
    "### References"
   ]
  },
  {
   "cell_type": "markdown",
   "id": "dab574c1",
   "metadata": {},
   "source": [
    "*Social Network Analysis for Startups* by Maksim Tsvetovat, Alexander Kouznetsov <br> \n",
    "Data Formats for Networks by Dai Shizuka: https://dshizuka.github.io/networkanalysis/02_dataformats.html <br>\n",
    "NetworkX Official Documentation: https://networkx.org/documentation/stable/index.html <br>\n",
    "Differing Views Recommender System: https://github.com/mattlucich/Differing-Views-Recommender-System  <br>\n",
    "StackOverflow: https://stackoverflow.com/questions/613183/how-do-i-sort-a-dictionary-by-value"
   ]
  }
 ],
 "metadata": {
  "kernelspec": {
   "display_name": "Python 3 (ipykernel)",
   "language": "python",
   "name": "python3"
  },
  "language_info": {
   "codemirror_mode": {
    "name": "ipython",
    "version": 3
   },
   "file_extension": ".py",
   "mimetype": "text/x-python",
   "name": "python",
   "nbconvert_exporter": "python",
   "pygments_lexer": "ipython3",
   "version": "3.9.6"
  }
 },
 "nbformat": 4,
 "nbformat_minor": 5
}
