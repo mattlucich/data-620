{
 "cells": [
  {
   "cell_type": "code",
   "execution_count": 2,
   "id": "47c00adb",
   "metadata": {},
   "outputs": [],
   "source": [
    "import nltk\n",
    "import requests\n",
    "import matplotlib.pyplot as plt\n",
    "from matplotlib.pyplot import figure"
   ]
  },
  {
   "cell_type": "markdown",
   "id": "95e2b1d7",
   "metadata": {},
   "source": [
    "**By Matthew Lucich**"
   ]
  },
  {
   "cell_type": "markdown",
   "id": "e1a293d3",
   "metadata": {},
   "source": [
    "### 1) Choose a corpus of interest."
   ]
  },
  {
   "cell_type": "markdown",
   "id": "ac8e0657",
   "metadata": {},
   "source": [
    "Choose the John Maynard Keynes book *The Economic Consequences of the Peace* to act as my corpus of text, since I interested in economics and the book is in the public domain (I have yet to read it though)."
   ]
  },
  {
   "cell_type": "code",
   "execution_count": 3,
   "id": "25433942",
   "metadata": {},
   "outputs": [],
   "source": [
    "r = requests.get('https://www.gutenberg.org/cache/epub/15776/pg15776.txt')"
   ]
  },
  {
   "cell_type": "markdown",
   "id": "5e33467d",
   "metadata": {},
   "source": [
    "Skipping the first 1,115 characters since it is not text apart of the book. "
   ]
  },
  {
   "cell_type": "code",
   "execution_count": 4,
   "id": "ef031e12",
   "metadata": {},
   "outputs": [],
   "source": [
    "economic_corpus = r.text[1115:]"
   ]
  },
  {
   "cell_type": "markdown",
   "id": "499ae669",
   "metadata": {},
   "source": [
    "Tokenizing the data and only selecting alpha numeric tokens (removing punctuation)."
   ]
  },
  {
   "cell_type": "code",
   "execution_count": 6,
   "id": "cd16946e",
   "metadata": {},
   "outputs": [],
   "source": [
    "tokenizer = nltk.RegexpTokenizer(r'\\w+')\n",
    "words = tokenizer.tokenize(economic_corpus)"
   ]
  },
  {
   "cell_type": "markdown",
   "id": "b1ea7e4d",
   "metadata": {},
   "source": [
    "### 2) How many total unique words are in the corpus?"
   ]
  },
  {
   "cell_type": "markdown",
   "id": "ada7f97e",
   "metadata": {},
   "source": [
    "First, count of total words is:"
   ]
  },
  {
   "cell_type": "code",
   "execution_count": 7,
   "id": "a7d1e41c",
   "metadata": {},
   "outputs": [
    {
     "data": {
      "text/plain": [
       "74780"
      ]
     },
     "execution_count": 7,
     "metadata": {},
     "output_type": "execute_result"
    }
   ],
   "source": [
    "len(words)"
   ]
  },
  {
   "cell_type": "markdown",
   "id": "f28d94ab",
   "metadata": {},
   "source": [
    "Total **unique** words is:"
   ]
  },
  {
   "cell_type": "code",
   "execution_count": 8,
   "id": "322c36fe",
   "metadata": {},
   "outputs": [
    {
     "data": {
      "text/plain": [
       "7582"
      ]
     },
     "execution_count": 8,
     "metadata": {},
     "output_type": "execute_result"
    }
   ],
   "source": [
    "len(set(words))"
   ]
  },
  {
   "cell_type": "markdown",
   "id": "9088a02e",
   "metadata": {},
   "source": [
    "### 3) Taking the most common words, how many unique words represent half of the total words in the corpus?"
   ]
  },
  {
   "cell_type": "code",
   "execution_count": 9,
   "id": "9a50a548",
   "metadata": {},
   "outputs": [
    {
     "name": "stdout",
     "output_type": "stream",
     "text": [
      "37390\n"
     ]
    }
   ],
   "source": [
    "half_words = len(words) / 2\n",
    "print(round(half_words))"
   ]
  },
  {
   "cell_type": "markdown",
   "id": "3eb99ac1",
   "metadata": {},
   "source": [
    "Creating a frequency distribution of the words in the text."
   ]
  },
  {
   "cell_type": "code",
   "execution_count": 10,
   "id": "1e126038",
   "metadata": {},
   "outputs": [],
   "source": [
    "words_freq_dist = nltk.FreqDist(w.lower() for w in words)"
   ]
  },
  {
   "cell_type": "code",
   "execution_count": 11,
   "id": "52dc00ea",
   "metadata": {},
   "outputs": [],
   "source": [
    "def half_total_words(word_dist, half_words):\n",
    "    \"\"\" Calculate the number of unique words that represent half of total words\n",
    "    word_dist: top unique word distribution descending (counter)\n",
    "    half_words: number that signifies count of half of the total words in a corpus\"\"\"\n",
    "    word_count = []\n",
    "    i = 1\n",
    "    for word, freq in word_dist.most_common():\n",
    "        if sum(word_count) >= half_words:\n",
    "            print(f\"The most frequent {i} words represent half of the total words in the corpus.\")\n",
    "            break\n",
    "        word_count.append(freq)\n",
    "        i+=1"
   ]
  },
  {
   "cell_type": "code",
   "execution_count": 12,
   "id": "32179e48",
   "metadata": {},
   "outputs": [
    {
     "name": "stdout",
     "output_type": "stream",
     "text": [
      "The most frequent 77 words represent half of the total words in the corpus.\n"
     ]
    }
   ],
   "source": [
    "half_total_words(words_freq_dist, half_words)"
   ]
  },
  {
   "cell_type": "markdown",
   "id": "5e90298d",
   "metadata": {},
   "source": [
    "### 4) Identify the 200 highest frequency words in this corpus."
   ]
  },
  {
   "cell_type": "markdown",
   "id": "a9d0c21e",
   "metadata": {},
   "source": [
    "Including stopwords"
   ]
  },
  {
   "cell_type": "code",
   "execution_count": 13,
   "id": "202b1753",
   "metadata": {},
   "outputs": [
    {
     "data": {
      "text/plain": [
       "[('the', 6008),\n",
       " ('of', 4136),\n",
       " ('to', 2276),\n",
       " ('and', 2133),\n",
       " ('in', 1618),\n",
       " ('a', 1183),\n",
       " ('is', 827),\n",
       " ('000', 792),\n",
       " ('be', 744),\n",
       " ('for', 739),\n",
       " ('as', 650),\n",
       " ('that', 642),\n",
       " ('which', 614),\n",
       " ('by', 584),\n",
       " ('it', 567),\n",
       " ('not', 544),\n",
       " ('germany', 511),\n",
       " ('on', 476),\n",
       " ('this', 475),\n",
       " ('or', 458),\n",
       " ('was', 421),\n",
       " ('but', 391),\n",
       " ('from', 389),\n",
       " ('with', 384),\n",
       " ('are', 374),\n",
       " ('at', 367),\n",
       " ('her', 328),\n",
       " ('have', 296),\n",
       " ('an', 293),\n",
       " ('their', 280),\n",
       " ('will', 279),\n",
       " ('all', 268),\n",
       " ('german', 245),\n",
       " ('any', 230),\n",
       " ('s', 228),\n",
       " ('war', 225),\n",
       " ('if', 219),\n",
       " ('would', 219),\n",
       " ('they', 211),\n",
       " ('no', 198),\n",
       " ('were', 198),\n",
       " ('i', 197),\n",
       " ('has', 193),\n",
       " ('may', 187),\n",
       " ('had', 186),\n",
       " ('he', 185),\n",
       " ('we', 184),\n",
       " ('so', 184),\n",
       " ('been', 184),\n",
       " ('these', 183),\n",
       " ('his', 183),\n",
       " ('other', 177),\n",
       " ('1', 176),\n",
       " ('treaty', 174),\n",
       " ('its', 170),\n",
       " ('one', 166),\n",
       " ('there', 166),\n",
       " ('europe', 157),\n",
       " ('france', 156),\n",
       " ('allies', 156),\n",
       " ('can', 152),\n",
       " ('than', 147),\n",
       " ('more', 144),\n",
       " ('such', 142),\n",
       " ('reparation', 141),\n",
       " ('must', 139),\n",
       " ('economic', 136),\n",
       " ('only', 127),\n",
       " ('them', 123),\n",
       " ('part', 123),\n",
       " ('commission', 123),\n",
       " ('could', 120),\n",
       " ('some', 119),\n",
       " ('states', 118),\n",
       " ('great', 115),\n",
       " ('united', 115),\n",
       " ('what', 113),\n",
       " ('she', 112),\n",
       " ('years', 104),\n",
       " ('much', 103),\n",
       " ('very', 101),\n",
       " ('allied', 101),\n",
       " ('should', 100),\n",
       " ('property', 99),\n",
       " ('value', 98),\n",
       " ('2', 96),\n",
       " ('coal', 96),\n",
       " ('you', 96),\n",
       " ('president', 93),\n",
       " ('gutenberg', 93),\n",
       " ('those', 92),\n",
       " ('under', 92),\n",
       " ('out', 92),\n",
       " ('about', 89),\n",
       " ('even', 89),\n",
       " ('peace', 88),\n",
       " ('5', 88),\n",
       " ('before', 87),\n",
       " ('our', 87),\n",
       " ('project', 87),\n",
       " ('per', 85),\n",
       " ('into', 83),\n",
       " ('over', 82),\n",
       " ('therefore', 82),\n",
       " ('without', 82),\n",
       " ('government', 81),\n",
       " ('up', 80),\n",
       " ('who', 80),\n",
       " ('between', 80),\n",
       " ('pay', 80),\n",
       " ('far', 79),\n",
       " ('countries', 78),\n",
       " ('present', 77),\n",
       " ('whole', 76),\n",
       " ('might', 76),\n",
       " ('now', 76),\n",
       " ('do', 76),\n",
       " ('sum', 76),\n",
       " ('time', 75),\n",
       " ('tons', 75),\n",
       " ('population', 74),\n",
       " ('made', 74),\n",
       " ('most', 73),\n",
       " ('french', 73),\n",
       " ('figure', 73),\n",
       " ('1919', 72),\n",
       " ('world', 72),\n",
       " ('being', 72),\n",
       " ('terms', 70),\n",
       " ('first', 69),\n",
       " ('case', 69),\n",
       " ('cent', 69),\n",
       " ('claims', 69),\n",
       " ('own', 68),\n",
       " ('work', 66),\n",
       " ('general', 66),\n",
       " ('after', 65),\n",
       " ('500', 65),\n",
       " ('however', 64),\n",
       " ('amount', 64),\n",
       " ('governments', 64),\n",
       " ('also', 63),\n",
       " ('foreign', 63),\n",
       " ('new', 62),\n",
       " ('us', 61),\n",
       " ('less', 61),\n",
       " ('russia', 61),\n",
       " ('future', 61),\n",
       " ('above', 61),\n",
       " ('powers', 60),\n",
       " ('certain', 60),\n",
       " ('payment', 60),\n",
       " ('damage', 60),\n",
       " ('when', 59),\n",
       " ('life', 59),\n",
       " ('cannot', 59),\n",
       " ('3', 59),\n",
       " ('yet', 58),\n",
       " ('exports', 58),\n",
       " ('total', 58),\n",
       " ('4', 58),\n",
       " ('european', 57),\n",
       " ('many', 57),\n",
       " ('enemy', 57),\n",
       " ('trade', 57),\n",
       " ('tm', 57),\n",
       " ('power', 56),\n",
       " ('further', 56),\n",
       " ('country', 56),\n",
       " ('territory', 55),\n",
       " ('against', 55),\n",
       " ('financial', 54),\n",
       " ('little', 54),\n",
       " ('during', 53),\n",
       " ('make', 53),\n",
       " ('position', 53),\n",
       " ('loss', 53),\n",
       " ('large', 52),\n",
       " ('league', 52),\n",
       " ('chapter', 51),\n",
       " ('state', 51),\n",
       " ('same', 51),\n",
       " ('within', 51),\n",
       " ('interest', 51),\n",
       " ('two', 50),\n",
       " ('belgium', 50),\n",
       " ('thus', 49),\n",
       " ('possible', 49),\n",
       " ('him', 49),\n",
       " ('system', 49),\n",
       " ('take', 48),\n",
       " ('nations', 48),\n",
       " ('italy', 47),\n",
       " ('year', 47),\n",
       " ('conditions', 47),\n",
       " ('armistice', 46),\n",
       " ('annual', 46),\n",
       " ('shall', 46),\n",
       " ('imports', 46),\n",
       " ('themselves', 45)]"
      ]
     },
     "execution_count": 13,
     "metadata": {},
     "output_type": "execute_result"
    }
   ],
   "source": [
    "words_freq_dist.most_common()[:200]"
   ]
  },
  {
   "cell_type": "markdown",
   "id": "f436ca29",
   "metadata": {},
   "source": [
    "### 5) Create a graph that shows the relative frequency of these 200 words."
   ]
  },
  {
   "cell_type": "markdown",
   "id": "6d3ac8e0",
   "metadata": {},
   "source": [
    "Store the top 200 words and their frequencies in lists."
   ]
  },
  {
   "cell_type": "code",
   "execution_count": 14,
   "id": "4d5d2f39",
   "metadata": {},
   "outputs": [],
   "source": [
    "top_words = [word[0] for word in words_freq_dist.most_common()[:200]]\n",
    "top_freq = [word[1] for word in words_freq_dist.most_common()[:200]]"
   ]
  },
  {
   "cell_type": "code",
   "execution_count": 15,
   "id": "e1b27231",
   "metadata": {},
   "outputs": [
    {
     "data": {
      "text/plain": [
       "<BarContainer object of 200 artists>"
      ]
     },
     "execution_count": 15,
     "metadata": {},
     "output_type": "execute_result"
    },
    {
     "data": {
      "image/png": "[encoded data removed]",
      "text/plain": [
       "<Figure size 1152x432 with 1 Axes>"
      ]
     },
     "metadata": {
      "needs_background": "light"
     },
     "output_type": "display_data"
    }
   ],
   "source": [
    "figure(figsize=(16, 6), tight_layout=True)\n",
    "plt.xticks(rotation=45, ha='right')\n",
    "plt.bar(top_words, top_freq)"
   ]
  },
  {
   "cell_type": "markdown",
   "id": "17577965",
   "metadata": {},
   "source": [
    "### 6) Does the observed relative frequency of these words follow Zipf’s law? Explain."
   ]
  },
  {
   "cell_type": "markdown",
   "id": "c592768c",
   "metadata": {},
   "source": [
    "There appears to be various definitions of Zipf's law, however, a consistent theme among the interpretations is that many phenomena exhibit special power-law distributions. Zipf's law is often specified as $ f(r) \\alpha \\frac{1}{r^\\alpha} $, where $r$ is the frequency rank of a word and $f(r)$ is its frequency in a natural corpus. Based on comparing the frequency distribution plot above with the plots in this [article](https://medium.com/@devalshah1619/a-mysterious-law-so-simple-and-yet-so-universal-aa9f1c8903d1) and my general understanding of power law distributions, it does appear that the frequecy of the most common words in *The Economic Consequences of the Peace* approximately follow Zipf's law."
   ]
  },
  {
   "cell_type": "markdown",
   "id": "b4193091",
   "metadata": {},
   "source": [
    "### 7) In what ways do you think the frequency of the words in this corpus differ from “all words in all corpora.”"
   ]
  },
  {
   "cell_type": "markdown",
   "id": "12a68092",
   "metadata": {},
   "source": [
    "Based on the word frequency plots I have reviewed for other corpora, the word frequency distribution of *The Economic Consequences of the Peace* does not appear to be noticeably different than other texts. This is not too surprising as the book makes for a large corpus which may have an impact on how closely frequency distributions follow Zipf's law."
   ]
  }
 ],
 "metadata": {
  "kernelspec": {
   "display_name": "Python 3 (ipykernel)",
   "language": "python",
   "name": "python3"
  },
  "language_info": {
   "codemirror_mode": {
    "name": "ipython",
    "version": 3
   },
   "file_extension": ".py",
   "mimetype": "text/x-python",
   "name": "python",
   "nbconvert_exporter": "python",
   "pygments_lexer": "ipython3",
   "version": "3.9.6"
  }
 },
 "nbformat": 4,
 "nbformat_minor": 5
}
