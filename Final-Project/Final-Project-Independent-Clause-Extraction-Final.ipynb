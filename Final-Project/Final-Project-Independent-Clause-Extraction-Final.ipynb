{
 "cells": [
  {
   "cell_type": "code",
   "execution_count": 2,
   "id": "ed3a6a7a",
   "metadata": {},
   "outputs": [],
   "source": [
    "import re\n",
    "import coreferee, spacy\n",
    "import nltk.data\n",
    "import numpy as np\n",
    "import itertools\n",
    "import pandas as pd\n",
    "from spacy import displacy\n",
    "from nltk.tokenize import word_tokenize\n",
    "from sentence_transformers import SentenceTransformer, util\n",
    "from sklearn.cluster import AgglomerativeClustering\n",
    "from rouge_score import rouge_scorer"
   ]
  },
  {
   "cell_type": "code",
   "execution_count": 2,
   "id": "79d8412b",
   "metadata": {},
   "outputs": [
    {
     "data": {
      "text/html": [
       "<style>.container { width:100% !important; }</style>"
      ],
      "text/plain": [
       "<IPython.core.display.HTML object>"
      ]
     },
     "metadata": {},
     "output_type": "display_data"
    }
   ],
   "source": [
    "from IPython.display import display, HTML\n",
    "display(HTML(\"<style>.container { width:100% !important; }</style>\"))"
   ]
  },
  {
   "cell_type": "markdown",
   "id": "4d0301a2",
   "metadata": {},
   "source": [
    "# Data 620: Final Project"
   ]
  },
  {
   "cell_type": "markdown",
   "id": "97de1343",
   "metadata": {},
   "source": [
    "**by Matthew Lucich**"
   ]
  },
  {
   "cell_type": "markdown",
   "id": "8c0206b1",
   "metadata": {},
   "source": [
    "## Data Preprocessing (code sourced from my master's capstone)"
   ]
  },
  {
   "cell_type": "markdown",
   "id": "0858a10a",
   "metadata": {},
   "source": [
    "Here article data is being loaded that is already grouped into events (articles covering the same story) via the cluster number. I chose the cluster below due to the high number of outlets covering the story."
   ]
  },
  {
   "cell_type": "code",
   "execution_count": 3,
   "id": "059c4743",
   "metadata": {},
   "outputs": [],
   "source": [
    "df_clusters_raw = pd.read_csv(\"good_clusters_1.csv\")"
   ]
  },
  {
   "cell_type": "code",
   "execution_count": 4,
   "id": "0195c3df",
   "metadata": {},
   "outputs": [],
   "source": [
    "df_clusters = df_clusters_raw.drop_duplicates(subset=['lead'], keep='last')\n",
    "df_clusters = df_clusters.drop_duplicates(subset=['headline'], keep='last')"
   ]
  },
  {
   "cell_type": "code",
   "execution_count": 384,
   "id": "742f1829",
   "metadata": {},
   "outputs": [],
   "source": [
    "cnum = 69\n",
    "df_clust = df_clusters.loc[df_clusters[\"cluster\"]==cnum]"
   ]
  },
  {
   "cell_type": "code",
   "execution_count": 385,
   "id": "1cfa98fe",
   "metadata": {},
   "outputs": [
    {
     "data": {
      "text/html": [
       "<div>\n",
       "<style scoped>\n",
       "    .dataframe tbody tr th:only-of-type {\n",
       "        vertical-align: middle;\n",
       "    }\n",
       "\n",
       "    .dataframe tbody tr th {\n",
       "        vertical-align: top;\n",
       "    }\n",
       "\n",
       "    .dataframe thead th {\n",
       "        text-align: right;\n",
       "    }\n",
       "</style>\n",
       "<table border=\"1\" class=\"dataframe\">\n",
       "  <thead>\n",
       "    <tr style=\"text-align: right;\">\n",
       "      <th></th>\n",
       "      <th>date_publish</th>\n",
       "      <th>outlet</th>\n",
       "      <th>headline</th>\n",
       "      <th>lead</th>\n",
       "      <th>body</th>\n",
       "    </tr>\n",
       "  </thead>\n",
       "  <tbody>\n",
       "    <tr>\n",
       "      <th>170</th>\n",
       "      <td>2019-08-29 00:00:00</td>\n",
       "      <td>The New York Times</td>\n",
       "      <td>Joe Biden Dismisses Report That He Told False ...</td>\n",
       "      <td>After The Washington Post reported that Mr. Bi...</td>\n",
       "      <td>Joseph R. Biden Jr., whose habit of verbal mis...</td>\n",
       "    </tr>\n",
       "    <tr>\n",
       "      <th>171</th>\n",
       "      <td>2019-08-29 14:12:49</td>\n",
       "      <td>Fox News</td>\n",
       "      <td>Joe Biden told moving military story at campai...</td>\n",
       "      <td>Former Vice President Joe Biden's campaign has...</td>\n",
       "      <td>Former Vice President Joe Biden's campaign has...</td>\n",
       "    </tr>\n",
       "    <tr>\n",
       "      <th>172</th>\n",
       "      <td>2019-08-29 14:27:19</td>\n",
       "      <td>National Review</td>\n",
       "      <td>Joe Biden's War Story -- 2020 Democrat Fabrica...</td>\n",
       "      <td>During a campaign stop in New Hampshire on Fri...</td>\n",
       "      <td>Joe Biden speaks in Des Moines, Iowa, August 1...</td>\n",
       "    </tr>\n",
       "    <tr>\n",
       "      <th>173</th>\n",
       "      <td>2019-08-29 15:45:00</td>\n",
       "      <td>ABC News</td>\n",
       "      <td>Biden misstated details of war story on the ca...</td>\n",
       "      <td>Former Vice President Joe Biden is facing ques...</td>\n",
       "      <td>Former Vice President Joe Biden is facing ques...</td>\n",
       "    </tr>\n",
       "    <tr>\n",
       "      <th>174</th>\n",
       "      <td>2019-08-29 16:37:57</td>\n",
       "      <td>The Washington Post</td>\n",
       "      <td>As he campaigns for president, Joe Biden tells...</td>\n",
       "      <td>Biden’s tale of heroism, an emotional highligh...</td>\n",
       "      <td>Joe Biden painted a vivid scene for the 400 pe...</td>\n",
       "    </tr>\n",
       "    <tr>\n",
       "      <th>175</th>\n",
       "      <td>2019-08-29 16:50:27</td>\n",
       "      <td>Fox News</td>\n",
       "      <td>CNN pundit defends Biden for war story by comp...</td>\n",
       "      <td>CNN political commentator Paul Begala went to ...</td>\n",
       "      <td>CNN political commentator Paul Begala went to ...</td>\n",
       "    </tr>\n",
       "    <tr>\n",
       "      <th>176</th>\n",
       "      <td>2019-08-29 20:25:12</td>\n",
       "      <td>Breitbart</td>\n",
       "      <td>Report: Joe Biden Fabricated Emotional Story A...</td>\n",
       "      <td>Joe Biden is under fire for fabricating an emo...</td>\n",
       "      <td>Former Vice President Joe Biden is under fire ...</td>\n",
       "    </tr>\n",
       "    <tr>\n",
       "      <th>177</th>\n",
       "      <td>2019-08-29 21:49:16</td>\n",
       "      <td>Fox News</td>\n",
       "      <td>Mark Steyn: Biden's war story controversy late...</td>\n",
       "      <td>Former Vice President Joe Biden's emotional ye...</td>\n",
       "      <td>Former Vice President Joe Biden's emotional ye...</td>\n",
       "    </tr>\n",
       "    <tr>\n",
       "      <th>178</th>\n",
       "      <td>2019-08-29 22:00:03</td>\n",
       "      <td>Fox News</td>\n",
       "      <td>Biden pushes back on report refuting disputed ...</td>\n",
       "      <td>Former Vice President Joe Biden responded Thur...</td>\n",
       "      <td>Former Vice President Joe Biden responded Thur...</td>\n",
       "    </tr>\n",
       "    <tr>\n",
       "      <th>180</th>\n",
       "      <td>2019-08-29 22:16:00</td>\n",
       "      <td>NBC News</td>\n",
       "      <td>Biden defends his telling of a harrowing war s...</td>\n",
       "      <td>Former Vice President Joe Biden defended a war...</td>\n",
       "      <td>Biden defends his telling of a harrowing war s...</td>\n",
       "    </tr>\n",
       "    <tr>\n",
       "      <th>181</th>\n",
       "      <td>2019-08-29 23:59:23</td>\n",
       "      <td>USA Today</td>\n",
       "      <td>Biden denies conflating details of war story</td>\n",
       "      <td>The former vice president has denied in that h...</td>\n",
       "      <td>CLOSE On the second night of the second Democr...</td>\n",
       "    </tr>\n",
       "    <tr>\n",
       "      <th>182</th>\n",
       "      <td>2019-08-30 18:32:36</td>\n",
       "      <td>Fox News</td>\n",
       "      <td>Donna Brazile defends Biden over disputed war ...</td>\n",
       "      <td>Former DNC Chairwoman Donna Brazile defended D...</td>\n",
       "      <td>Former Democratic National Committee (DNC) Cha...</td>\n",
       "    </tr>\n",
       "    <tr>\n",
       "      <th>183</th>\n",
       "      <td>2019-08-30 20:15:19</td>\n",
       "      <td>Breitbart</td>\n",
       "      <td>Joe Biden Unapologetic for Fabricating Afghan ...</td>\n",
       "      <td>Former Vice President Joe Biden claimed the “e...</td>\n",
       "      <td>Former Vice President Joe Biden is unapologeti...</td>\n",
       "    </tr>\n",
       "  </tbody>\n",
       "</table>\n",
       "</div>"
      ],
      "text/plain": [
       "            date_publish               outlet  \\\n",
       "170  2019-08-29 00:00:00   The New York Times   \n",
       "171  2019-08-29 14:12:49             Fox News   \n",
       "172  2019-08-29 14:27:19      National Review   \n",
       "173  2019-08-29 15:45:00             ABC News   \n",
       "174  2019-08-29 16:37:57  The Washington Post   \n",
       "175  2019-08-29 16:50:27             Fox News   \n",
       "176  2019-08-29 20:25:12            Breitbart   \n",
       "177  2019-08-29 21:49:16             Fox News   \n",
       "178  2019-08-29 22:00:03             Fox News   \n",
       "180  2019-08-29 22:16:00             NBC News   \n",
       "181  2019-08-29 23:59:23            USA Today   \n",
       "182  2019-08-30 18:32:36             Fox News   \n",
       "183  2019-08-30 20:15:19            Breitbart   \n",
       "\n",
       "                                              headline  \\\n",
       "170  Joe Biden Dismisses Report That He Told False ...   \n",
       "171  Joe Biden told moving military story at campai...   \n",
       "172  Joe Biden's War Story -- 2020 Democrat Fabrica...   \n",
       "173  Biden misstated details of war story on the ca...   \n",
       "174  As he campaigns for president, Joe Biden tells...   \n",
       "175  CNN pundit defends Biden for war story by comp...   \n",
       "176  Report: Joe Biden Fabricated Emotional Story A...   \n",
       "177  Mark Steyn: Biden's war story controversy late...   \n",
       "178  Biden pushes back on report refuting disputed ...   \n",
       "180  Biden defends his telling of a harrowing war s...   \n",
       "181       Biden denies conflating details of war story   \n",
       "182  Donna Brazile defends Biden over disputed war ...   \n",
       "183  Joe Biden Unapologetic for Fabricating Afghan ...   \n",
       "\n",
       "                                                  lead  \\\n",
       "170  After The Washington Post reported that Mr. Bi...   \n",
       "171  Former Vice President Joe Biden's campaign has...   \n",
       "172  During a campaign stop in New Hampshire on Fri...   \n",
       "173  Former Vice President Joe Biden is facing ques...   \n",
       "174  Biden’s tale of heroism, an emotional highligh...   \n",
       "175  CNN political commentator Paul Begala went to ...   \n",
       "176  Joe Biden is under fire for fabricating an emo...   \n",
       "177  Former Vice President Joe Biden's emotional ye...   \n",
       "178  Former Vice President Joe Biden responded Thur...   \n",
       "180  Former Vice President Joe Biden defended a war...   \n",
       "181  The former vice president has denied in that h...   \n",
       "182  Former DNC Chairwoman Donna Brazile defended D...   \n",
       "183  Former Vice President Joe Biden claimed the “e...   \n",
       "\n",
       "                                                  body  \n",
       "170  Joseph R. Biden Jr., whose habit of verbal mis...  \n",
       "171  Former Vice President Joe Biden's campaign has...  \n",
       "172  Joe Biden speaks in Des Moines, Iowa, August 1...  \n",
       "173  Former Vice President Joe Biden is facing ques...  \n",
       "174  Joe Biden painted a vivid scene for the 400 pe...  \n",
       "175  CNN political commentator Paul Begala went to ...  \n",
       "176  Former Vice President Joe Biden is under fire ...  \n",
       "177  Former Vice President Joe Biden's emotional ye...  \n",
       "178  Former Vice President Joe Biden responded Thur...  \n",
       "180  Biden defends his telling of a harrowing war s...  \n",
       "181  CLOSE On the second night of the second Democr...  \n",
       "182  Former Democratic National Committee (DNC) Cha...  \n",
       "183  Former Vice President Joe Biden is unapologeti...  "
      ]
     },
     "execution_count": 385,
     "metadata": {},
     "output_type": "execute_result"
    }
   ],
   "source": [
    "df_clust[['date_publish', 'outlet', 'headline', 'lead', 'body']]"
   ]
  },
  {
   "cell_type": "markdown",
   "id": "4dca6660",
   "metadata": {},
   "source": [
    "#### Remove duplicate headlines"
   ]
  },
  {
   "cell_type": "code",
   "execution_count": 386,
   "id": "edbb95a9",
   "metadata": {},
   "outputs": [],
   "source": [
    "model = SentenceTransformer('sentence-transformers/multi-qa-MiniLM-L6-cos-v1')"
   ]
  },
  {
   "cell_type": "markdown",
   "id": "a3e93ed0",
   "metadata": {},
   "source": [
    "Here I remove duplicate headlines via a sentence similarity transformer model. If a sentence pair's similarity score is above .95 (heuristic chosen based on manual review), only the second (most recent) instance is kept. Some of the duplicate_headlines function code sourced from [Huggingface](https://huggingface.co/sentence-transformers/multi-qa-MiniLM-L6-cos-v1)."
   ]
  },
  {
   "cell_type": "code",
   "execution_count": 387,
   "id": "2abb88a0",
   "metadata": {},
   "outputs": [],
   "source": [
    "def duplicate_headlines(df_clust):\n",
    "    duplicate_headlines = []\n",
    "    for i in itertools.combinations(df_clust[\"headline\"].to_list(), 2):\n",
    "        sent_one = model.encode(i[0])\n",
    "        sent_two = model.encode(i[1])\n",
    "\n",
    "        # Compute dot score between query and all document embeddings\n",
    "        scores = util.dot_score(sent_one, sent_two)[0].cpu().tolist()\n",
    "\n",
    "        sen_tup1 = (i[0],\"str\")\n",
    "        sen_tup2 = (i[1], \"str\")\n",
    "\n",
    "        # Combine docs & scores\n",
    "        doc_score_pairs = list(zip(sen_tup1, sen_tup2, scores))\n",
    "\n",
    "        # Sort by decreasing score\n",
    "        doc_score_pairs = sorted(doc_score_pairs, key=lambda x: x[1], reverse=True)\n",
    "\n",
    "        # Output passages & scores\n",
    "        for doc, doc2, score in doc_score_pairs:\n",
    "            if score > .95:\n",
    "                print(score, doc, \"####\", doc2)\n",
    "                duplicate_headlines.append(doc)\n",
    "    return duplicate_headlines"
   ]
  },
  {
   "cell_type": "code",
   "execution_count": 388,
   "id": "fb1f86ab",
   "metadata": {},
   "outputs": [],
   "source": [
    "duplicate_headlines = duplicate_headlines(df_clust)"
   ]
  },
  {
   "cell_type": "code",
   "execution_count": 389,
   "id": "ba24f885",
   "metadata": {},
   "outputs": [],
   "source": [
    "df_clust = df_clust.loc[~df_clust[\"headline\"].isin(duplicate_headlines)]"
   ]
  },
  {
   "cell_type": "markdown",
   "id": "95226241",
   "metadata": {},
   "source": [
    "#### Tokenize articles into sentences"
   ]
  },
  {
   "cell_type": "code",
   "execution_count": 390,
   "id": "e7fbdbdb",
   "metadata": {},
   "outputs": [],
   "source": [
    "tokenizer = nltk.data.load('tokenizers/punkt/english.pickle')"
   ]
  },
  {
   "cell_type": "code",
   "execution_count": 391,
   "id": "26713bc1",
   "metadata": {},
   "outputs": [],
   "source": [
    "def sentence_df(df_clust):\n",
    "    df_sentences = pd.DataFrame(columns=[\"outlet\", \"sentence\"])\n",
    "    for index, row in df_clust.iterrows():\n",
    "        sentence_list = tokenizer.tokenize(row['body']) \n",
    "        for sent in sentence_list:\n",
    "            df_sentences = df_sentences.append({\"outlet\": row['outlet'], \"sentence\": sent}, ignore_index=True)\n",
    "    return df_sentences"
   ]
  },
  {
   "cell_type": "code",
   "execution_count": 392,
   "id": "0770075e",
   "metadata": {},
   "outputs": [],
   "source": [
    "df_sentences = sentence_df(df_clust)"
   ]
  },
  {
   "cell_type": "markdown",
   "id": "1b2d618f",
   "metadata": {},
   "source": [
    "#### Remove duplicate sentences"
   ]
  },
  {
   "cell_type": "markdown",
   "id": "6009dad9",
   "metadata": {},
   "source": [
    "Similar to the duplicate headline function, we remove duplicate sentences as determined by a sentence similairity score. This is necessary since some outlets are apart of associations which allow for text to be borrowed by outlets within their networks. Additionally, sometimes an outlet has published multiple stories on the same event and reuse certain sentences. Some of the remove_duplicate_sentences function code sourced from [Huggingface](https://huggingface.co/sentence-transformers/multi-qa-MiniLM-L6-cos-v1)."
   ]
  },
  {
   "cell_type": "code",
   "execution_count": 393,
   "id": "1acea60d",
   "metadata": {},
   "outputs": [],
   "source": [
    "def remove_duplicate_sentences(df_sentences):\n",
    "    duplicate_sentences = []\n",
    "\n",
    "    for i in itertools.combinations(df_sentences[\"sentence\"].to_list(), 2):\n",
    "        sent_one = model.encode(i[0])\n",
    "        sent_two = model.encode(i[1])\n",
    "\n",
    "        # Compute dot score between query and all document embeddings\n",
    "        scores = util.dot_score(sent_one, sent_two)[0].cpu().tolist()\n",
    "\n",
    "        sen_tup1 = (i[0],\"str\")\n",
    "        sen_tup2 = (i[1], \"str\")\n",
    "\n",
    "        # Combine docs & scores\n",
    "        doc_score_pairs = list(zip(sen_tup1, sen_tup2, scores))\n",
    "\n",
    "        # Sort by decreasing score\n",
    "        doc_score_pairs = sorted(doc_score_pairs, key=lambda x: x[1], reverse=True)\n",
    "\n",
    "        # Output passages & scores\n",
    "        for doc, doc2, score in doc_score_pairs:\n",
    "            if score > .98:\n",
    "                print(score, doc, \"####\", doc2)\n",
    "                duplicate_sentences.append(doc)\n",
    "    return duplicate_sentences"
   ]
  },
  {
   "cell_type": "code",
   "execution_count": 394,
   "id": "6b1c41c9",
   "metadata": {},
   "outputs": [
    {
     "name": "stdout",
     "output_type": "stream",
     "text": [
      "0.9999998807907104 “We can lose a vice president,” he said, recounting his words to a crowd during an event on Friday. #### “We can lose a vice president,” he said, recounting his words to a crowd during an event on Friday.\n",
      "0.9999998807907104 “We can lose a vice president,” he said, recounting his words to a crowd during an event on Friday. #### “We can lose a vice president,” he said, recounting his words to a crowd during an event on Friday.\n",
      "0.9999998807907104 “We can’t lose many more of these kids. #### “We can’t lose many more of these kids.\n",
      "0.9999998807907104 “We can’t lose many more of these kids. #### “We can’t lose many more of these kids.\n",
      "0.9999998807907104 “We can’t lose many more of these kids. #### “We can’t lose many more of these kids.\n",
      "0.9999998807907104 “We can’t lose many more of these kids. #### “We can’t lose many more of these kids.\n",
      "0.9999997019767761 Not a joke.” His story involved the captain dramatically telling Biden he didn't want the medal because his comrade ended up dying. #### Not a joke.” His story involved the captain dramatically telling Biden he didn't want the medal because his comrade ended up dying.\n",
      "0.9999997019767761 Not a joke.” His story involved the captain dramatically telling Biden he didn't want the medal because his comrade ended up dying. #### Not a joke.” His story involved the captain dramatically telling Biden he didn't want the medal because his comrade ended up dying.\n",
      "0.9999998807907104 \"It appears as though the former vice president has jumbled elements of at least three actual events into one story,\" the Post's Matt Viser and Greg Jaffe wrote. #### \"It appears as though the former vice president has jumbled elements of at least three actual events into one story,\" The Post's Matt Viser and Greg Jaffe wrote.\n",
      "0.9999998807907104 \"It appears as though the former vice president has jumbled elements of at least three actual events into one story,\" the Post's Matt Viser and Greg Jaffe wrote. #### \"It appears as though the former vice president has jumbled elements of at least three actual events into one story,\" The Post's Matt Viser and Greg Jaffe wrote.\n",
      "1.0 Workman told the vice president that he didn’t want the medal. #### Workman told the vice president that he didn’t want the medal.\n",
      "0.999999463558197 “’Do not pin it on me, sir! #### “’Do not pin it on me, Sir!\n",
      "0.999999463558197 “’Do not pin it on me, sir! #### “’Do not pin it on me, Sir!\n",
      "1.0000003576278687 Please, sir. #### Please, Sir.\n",
      "1.0000003576278687 Please, sir. #### Please, Sir.\n",
      "0.9999999403953552 Do not do that! #### Do not do that!\n",
      "0.9999999403953552 Do not do that! #### Do not do that!\n",
      "0.9999995231628418 He died. #### He died.\n",
      "0.9999995231628418 He died. #### He died.\n",
      "0.9999995231628418 He died. #### He died.\n",
      "0.9999995231628418 He died. #### He died.\n",
      "0.9999995231628418 He died. #### He died.\n",
      "0.9999995231628418 He died. #### He died.\n",
      "0.9999995231628418 He died. #### He died.\n",
      "0.9999995231628418 He died. #### He died.\n",
      "0.9999995231628418 He died. #### He died.\n",
      "0.9999995231628418 He died. #### He died.\n",
      "0.9999995231628418 He died. #### He died.\n",
      "0.9999995231628418 He died. #### He died.\n",
      "0.9999995231628418 He died. #### He died.\n",
      "0.9999995231628418 He died. #### He died.\n",
      "0.9999997615814209 “He died. #### “He died.\n",
      "0.9999997615814209 “He died. #### “He died.\n",
      "1.0000004768371582 He died, Mr. Vice President,” Biden recalled the officer saying. #### He died, Mr. Vice President,” Biden recalled the officer saying.\n",
      "1.0000001192092896 \"And everybody got concerned a vice president going up in the middle of this, but we can lose a vice president, we can't lose many more of these kids, not a joke. #### \"And everybody got concerned a vice president going up in the middle of this, but we can lose a vice president, we can't lose many more of these kids, not a joke.\n",
      "1.0 This guy climbed down a ravine. #### This guy climbed down a ravine.\n",
      "0.9999999403953552 Carried his guy up on his back under fire, and the general wanted me to pin the Silver Star on him.\" #### Carried his guy up on his back under fire, and the general wanted me to pin the Silver Star on him.\"\n",
      "0.9999995231628418 He died. #### He died.\n",
      "0.9999995231628418 He died. #### He died.\n",
      "0.9999995231628418 He died. #### He died.\n",
      "0.9999995231628418 He died. #### He died.\n",
      "0.9999995231628418 He died. #### He died.\n",
      "0.9999995231628418 He died. #### He died.\n",
      "0.9999995231628418 He died. #### He died.\n",
      "0.9999995231628418 He died. #### He died.\n",
      "0.9999995231628418 He died. #### He died.\n",
      "0.9999995231628418 He died. #### He died.\n",
      "0.9999995231628418 He died. #### He died.\n",
      "0.9999995231628418 He died. #### He died.\n",
      "0.9999995231628418 He died. #### He died.\n",
      "1.0000001192092896 He died.'\" #### He died.'\"\n",
      "1.0000001192092896 He died.'\" #### He died.'\"\n",
      "0.9808753728866577 According to the report, Biden visited Kunar province as a U.S. senator in 2008, not as vice president, and the soldier involved was not an older Navy captain, but a 20-year-old Army specialist named Kyle White. #### According to the Post’s reporting, Biden visited the Kunar province in 2008 as a senator, not as the vice president, and the soldier in the story was the 20-year-old Army specialist named Kyle White, not an older Navy captain.\n",
      "0.9999996423721313 I don’t want it. #### I don’t want it.\n",
      "0.9999996423721313 I don’t want it. #### I don’t want it.\n",
      "0.9999995231628418 He died. #### He died.\n",
      "0.9999995231628418 He died. #### He died.\n",
      "0.9999995231628418 He died. #### He died.\n",
      "0.9999995231628418 He died. #### He died.\n",
      "0.9999995231628418 He died. #### He died.\n",
      "0.9999995231628418 He died. #### He died.\n",
      "0.9999995231628418 He died. #### He died.\n",
      "0.9999995231628418 He died. #### He died.\n",
      "0.9999995231628418 He died. #### He died.\n",
      "0.9999995231628418 He died. #### He died.\n",
      "0.9999995231628418 He died. #### He died.\n",
      "0.9999995231628418 He died. #### He died.\n",
      "0.9999995231628418 He died. #### He died.\n",
      "0.9999995231628418 He died. #### He died.\n",
      "0.9999995231628418 He died. #### He died.\n",
      "0.9999995231628418 He died. #### He died.\n",
      "0.9999995231628418 He died. #### He died.\n",
      "0.9999995231628418 He died. #### He died.\n",
      "0.9999995231628418 He died. #### He died.\n",
      "0.9999995231628418 He died. #### He died.\n",
      "0.9999995231628418 He died. #### He died.\n",
      "0.9999995231628418 He died. #### He died.\n",
      "0.9999995231628418 He died. #### He died.\n",
      "0.9999998807907104 I didn’t do my job, sir. #### I didn’t do my job, sir.\n",
      "1.0000001192092896 He died.'\" #### He died.'\"\n",
      "1.0 “In Afghanistan, he was moved by Staff Sgt. #### “In Afghanistan, he was moved by Staff Sgt.\n",
      "0.9884476065635681 Workman’s valor and selflessness, which is emblematic of the duty and sacrifice of the 9/11 generation of veterans who have given so much across countless deployments,” Andrew Bates, a spokesman for the Biden campaign, said in a statement given to the Post. #### Workman’s valor and selflessness, which is emblematic of the duty and sacrifice of the 9/11 generation of veterans who have given so much across countless deployments,” Andrew Bates, a Biden campaign spokesman, said in a statement.\n",
      "1.0000001192092896 “He refused the medal. #### “He refused the medal.\n",
      "1.0000001192092896 “He refused the medal. #### “He refused the medal.\n",
      "1.0000004768371582 I put it on him, he said, ‘Don’t do that to me, sir. #### I put it on him, he said, ‘Don’t do that to me, sir.\n",
      "1.0000004768371582 I put it on him, he said, ‘Don’t do that to me, sir. #### I put it on him, he said, ‘Don’t do that to me, sir.\n",
      "0.9999995231628418 He died. #### He died.\n",
      "0.9999995231628418 He died. #### He died.\n",
      "0.9999995231628418 He died. #### He died.\n",
      "0.9999995231628418 He died. #### He died.\n",
      "0.9999995231628418 He died. #### He died.\n",
      "0.9999995231628418 He died. #### He died.\n",
      "0.9999995231628418 He died. #### He died.\n",
      "0.9999995231628418 He died. #### He died.\n",
      "0.9999995231628418 He died. #### He died.\n",
      "0.9999995231628418 He died. #### He died.\n",
      "0.9865749478340149 A four-star general had asked the then-vice president to travel to Kunar province in Afghanistan, a dangerous foray into “godforsaken country” to recognize the remarkable heroism of a Navy captain. #### “A four-star general had asked the then-vice president to travel to Kunar province in Afghanistan, a dangerous foray into ‘godforsaken country’ to recognize the remarkable heroism of a Navy captain,” the Washington Post reported on Thursday.\n"
     ]
    },
    {
     "name": "stdout",
     "output_type": "stream",
     "text": [
      "0.9999998807907104 “We can’t lose many more of these kids. #### “We can’t lose many more of these kids.\n",
      "0.9999998807907104 “We can’t lose many more of these kids. #### “We can’t lose many more of these kids.\n",
      "0.9999998807907104 “We can’t lose many more of these kids. #### “We can’t lose many more of these kids.\n",
      "0.999999463558197 “’Do not pin it on me, Sir! #### “’Do not pin it on me, Sir!\n",
      "1.0000003576278687 Please, Sir. #### Please, Sir.\n",
      "0.9999999403953552 Do not do that! #### Do not do that!\n",
      "0.9999995231628418 He died. #### He died.\n",
      "0.9999995231628418 He died. #### He died.\n",
      "0.9999995231628418 He died. #### He died.\n",
      "0.9999995231628418 He died. #### He died.\n",
      "0.9999995231628418 He died. #### He died.\n",
      "0.9999995231628418 He died. #### He died.\n",
      "0.9999995231628418 He died. #### He died.\n",
      "0.9999995231628418 He died. #### He died.\n",
      "0.9999995231628418 He died. #### He died.\n",
      "1.0000001192092896 Biden visited Kunar province in 2008 as a U.S. senator, not as vice president. #### Biden visited Kunar province in 2008 as a U.S. senator, not as vice president.\n",
      "1.0000004768371582 The service member who performed the celebrated rescue that Biden described was a 20-year-old Army specialist, not a much older Navy captain. #### The service member who performed the celebrated rescue that Biden described was a 20-year-old Army specialist, not a much older Navy captain.\n",
      "1.0000004768371582 The service member who performed the celebrated rescue that Biden described was a 20-year-old Army specialist, not a much older Navy captain. #### The service member who performed the celebrated rescue that Biden described was a 20-year-old Army specialist, not a much older Navy captain.\n",
      "0.9999995231628418 And that soldier, Kyle J. #### And that soldier, Kyle J.\n",
      "0.9999995231628418 And that soldier, Kyle J. #### And that soldier, Kyle J.\n",
      "0.9999999403953552 White, never had a Silver Star, or any other medal, pinned on him by Biden. #### White, never had a Silver Star, or any other medal, pinned on him by Biden.\n",
      "0.9999999403953552 White, never had a Silver Star, or any other medal, pinned on him by Biden. #### White, never had a Silver Star, or any other medal, pinned on him by Biden.\n",
      "1.0000001192092896 At a White House ceremony six years after Biden’s visit, White stood at attention as President Barack Obama placed a Medal of Honor, the nation’s highest award for valor, around his neck. #### At a White House ceremony six years after Biden’s visit, White stood at attention as President Barack Obama placed a Medal of Honor, the nation’s highest award for valor, around his neck.\n",
      "1.0000001192092896 At a White House ceremony six years after Biden’s visit, White stood at attention as President Barack Obama placed a Medal of Honor, the nation’s highest award for valor, around his neck. #### At a White House ceremony six years after Biden’s visit, White stood at attention as President Barack Obama placed a Medal of Honor, the nation’s highest award for valor, around his neck.\n",
      "0.9999997615814209 “He died. #### “He died.\n",
      "0.9999995231628418 He died. #### He died.\n",
      "0.9999995231628418 He died. #### He died.\n",
      "0.9999995231628418 He died. #### He died.\n",
      "0.9999995231628418 He died. #### He died.\n",
      "0.9999995231628418 He died. #### He died.\n",
      "0.9999995231628418 He died. #### He died.\n",
      "0.9999995231628418 He died. #### He died.\n",
      "0.9999995231628418 He died. #### He died.\n",
      "0.9999995231628418 He died. #### He died.\n",
      "0.9999995231628418 He died. #### He died.\n",
      "0.9999995231628418 He died. #### He died.\n",
      "0.9999995231628418 He died. #### He died.\n",
      "0.9999995231628418 He died. #### He died.\n",
      "0.9999995231628418 He died. #### He died.\n",
      "0.9999995231628418 He died. #### He died.\n",
      "0.9999996423721313 I don’t want it. #### I don’t want it.\n",
      "0.9999995231628418 He died. #### He died.\n",
      "0.9999995231628418 He died. #### He died.\n",
      "0.9999995231628418 He died. #### He died.\n",
      "0.9999995231628418 He died. #### He died.\n",
      "0.9999995231628418 He died. #### He died.\n",
      "0.9999995231628418 He died. #### He died.\n",
      "0.9999996423721313 He recalled Biden meeting his gaze. #### He recalled Biden meeting his gaze.\n",
      "1.0 Eight years later, Workman still remembers how Biden looked at him. #### Eight years later, Workman still remembers how Biden looked at him.\n",
      "1.0000001192092896 “He has that look where his eyes can see into your eyes,” Workman said. #### “He has that look where his eyes can see into your eyes,” Workman said.\n",
      "1.0000001192092896 Biden offered an emotional account of his decision to travel to Afghanistan, despite concerns about visiting a war-torn area, in order to honor a Navy captain for retrieving the body of his dead comrade during battle. #### Biden offered an emotional account of his decision to travel to Afghanistan, despite concerns about visiting a war-torn area, in order to honor a Navy captain for retrieving the body of his dead comrade during battle.\n",
      "1.0000003576278687 According to Biden, he brushed off concerns about the risk of him traveling to the deadly area. #### According to Biden, he brushed off concerns about the risk of him traveling to the deadly area.\n",
      "0.9999998807907104 “We can lose a vice president,” he said, recounting his words to a crowd during an event on Friday. #### “We can lose a vice president,” he said, recounting his words to a crowd during an event on Friday.\n",
      "0.9999998807907104 “We can’t lose many more of these kids. #### “We can’t lose many more of these kids.\n",
      "0.9999998807907104 “We can’t lose many more of these kids. #### “We can’t lose many more of these kids.\n",
      "0.9999997019767761 Not a joke.” His story involved the captain dramatically telling Biden he didn't want the medal because his comrade ended up dying. #### Not a joke.” His story involved the captain dramatically telling Biden he didn't want the medal because his comrade ended up dying.\n",
      "0.9999998807907104 \"It appears as though the former vice president has jumbled elements of at least three actual events into one story,\" The Post's Matt Viser and Greg Jaffe wrote. #### \"It appears as though the former vice president has jumbled elements of at least three actual events into one story,\" The Post's Matt Viser and Greg Jaffe wrote.\n",
      "0.9999998807907104 “We can’t lose many more of these kids. #### “We can’t lose many more of these kids.\n",
      "0.9999995231628418 He died. #### He died.\n",
      "0.9999995231628418 He died. #### He died.\n",
      "0.9999995231628418 He died. #### He died.\n",
      "0.9999995231628418 He died. #### He died.\n",
      "0.9999995231628418 He died. #### He died.\n",
      "1.0000004768371582 The service member who performed the celebrated rescue that Biden described was a 20-year-old Army specialist, not a much older Navy captain. #### The service member who performed the celebrated rescue that Biden described was a 20-year-old Army specialist, not a much older Navy captain.\n",
      "0.9999995231628418 And that soldier, Kyle J. #### And that soldier, Kyle J.\n",
      "0.9999999403953552 White, never had a Silver Star, or any other medal, pinned on him by Biden. #### White, never had a Silver Star, or any other medal, pinned on him by Biden.\n",
      "1.0000001192092896 At a White House ceremony six years after Biden’s visit, White stood at attention as President Barack Obama placed a Medal of Honor, the nation’s highest award for valor, around his neck. #### At a White House ceremony six years after Biden’s visit, White stood at attention as President Barack Obama placed a Medal of Honor, the nation’s highest award for valor, around his neck.\n",
      "0.9990187883377075 Chad Workman, who didn’t believe he deserved the award.”\n",
      "“In the space of three minutes, Biden got the time period, the location, the heroic act, the type of medal, the military branch and the rank of the recipient wrong, as well as his own role in the ceremony,” the Post elaborated. #### Chad Workman, who didn’t believe he deserved the award.”\n",
      "“In the space of three minutes, Biden got the time period, the location, the heroic act, the type of medal, the military branch and the rank of the recipient wrong, as well as his own role in the ceremony,” the paper elaborated.\n",
      "0.9999995231628418 He died. #### He died.\n",
      "0.9999995231628418 He died. #### He died.\n",
      "0.9999995231628418 He died. #### He died.\n",
      "0.9999995231628418 He died. #### He died.\n",
      "0.9882231950759888 It appears as though the former vice president has jumbled elements of at least three actual events into one story of bravery, compassion, and regret that never happened.\" #### According to the Post, \"it appears as though the former vice president has jumbled elements of at least three actual events into one story of bravery, compassion and regret that never happened.\"\n"
     ]
    },
    {
     "name": "stdout",
     "output_type": "stream",
     "text": [
      "0.9999995231628418 He died. #### He died.\n",
      "0.9999995231628418 He died. #### He died.\n",
      "0.9999995231628418 He died. #### He died.\n",
      "0.9999995231628418 He died. #### He died.\n",
      "0.9999995231628418 He died. #### He died.\n",
      "1.0000001192092896 “He refused the medal. #### “He refused the medal.\n",
      "1.0000004768371582 I put it on him, he said, ‘Don’t do that to me, sir. #### I put it on him, he said, ‘Don’t do that to me, sir.\n",
      "0.9999995231628418 He died. #### He died.\n"
     ]
    }
   ],
   "source": [
    "duplicate_sentences = remove_duplicate_sentences(df_sentences)"
   ]
  },
  {
   "cell_type": "code",
   "execution_count": 395,
   "id": "d4a459f6",
   "metadata": {},
   "outputs": [],
   "source": [
    "df_sentences = df_sentences.loc[~df_sentences[\"sentence\"].isin(duplicate_sentences)]"
   ]
  },
  {
   "cell_type": "code",
   "execution_count": 396,
   "id": "50e93d8c",
   "metadata": {},
   "outputs": [],
   "source": [
    "sentences_all_embed = df_sentences[\"sentence\"].to_list()\n"
   ]
  },
  {
   "cell_type": "markdown",
   "id": "70637131",
   "metadata": {},
   "source": [
    "# New Method (code written for Data 620 final)"
   ]
  },
  {
   "cell_type": "markdown",
   "id": "ee4d4f3d",
   "metadata": {},
   "source": [
    "## Coreference Resolution"
   ]
  },
  {
   "cell_type": "markdown",
   "id": "1c556e79",
   "metadata": {},
   "source": [
    "Load model and add conreference library to pipeline."
   ]
  },
  {
   "cell_type": "code",
   "execution_count": 397,
   "id": "cf94b065",
   "metadata": {},
   "outputs": [
    {
     "data": {
      "text/plain": [
       "<coreferee.manager.CorefereeBroker at 0x7fe66e785370>"
      ]
     },
     "execution_count": 397,
     "metadata": {},
     "output_type": "execute_result"
    }
   ],
   "source": [
    "nlp = spacy.load('en_core_web_sm')\n",
    "nlp.add_pipe('coreferee')"
   ]
  },
  {
   "cell_type": "markdown",
   "id": "b0c718f8",
   "metadata": {},
   "source": [
    "In order to properly apply Coreference Resolution, the article bodies need to first be reassembled."
   ]
  },
  {
   "cell_type": "code",
   "execution_count": 398,
   "id": "382521a2",
   "metadata": {},
   "outputs": [],
   "source": [
    "def reassemble_articles(df_sentences):\n",
    "    articles = []\n",
    "    # Generate set, but retain order\n",
    "    order = df_sentences[\"outlet\"].to_list()\n",
    "    # Loop outlets and reassemble articles from sentences\n",
    "    for outlet in sorted(set(order), key=order.index):\n",
    "        sent_list = df_sentences.loc[df_sentences[\"outlet\"]==outlet][\"sentence\"].to_list()\n",
    "        article_text = \". \".join(sent_list)\n",
    "        articles.append(article_text)\n",
    "    return articles"
   ]
  },
  {
   "cell_type": "code",
   "execution_count": 399,
   "id": "0649a57e",
   "metadata": {},
   "outputs": [],
   "source": [
    "article_list_new = reassemble_articles(df_sentences)"
   ]
  },
  {
   "cell_type": "markdown",
   "id": "45ab1848",
   "metadata": {},
   "source": [
    "Through the entity_list_tuples function Coreference Resolution recommendations are generated, then since SpaCy's NLP object cannot be edited, we must convert back to text, then resolve the coreferences. "
   ]
  },
  {
   "cell_type": "code",
   "execution_count": 568,
   "id": "cf6ef452",
   "metadata": {},
   "outputs": [],
   "source": [
    "articles_recompiled = []\n",
    "\n",
    "def article_recompile(doc, token_nums, tuple_dict):\n",
    "    doc_to_text = []\n",
    "    # Loop spaCy NLP object and append string sentences to list\n",
    "    for i, token in enumerate(doc):\n",
    "        if i in token_nums:\n",
    "            token = tuple_dict[i]\n",
    "        doc_to_text.append(token)\n",
    "    # Join sentences into one article body\n",
    "    article_recompiled = ' '.join(str(v) for v in doc_to_text)\n",
    "    articles_recompiled.append(article_recompiled)"
   ]
  },
  {
   "cell_type": "code",
   "execution_count": 569,
   "id": "da632c52",
   "metadata": {},
   "outputs": [],
   "source": [
    "def entity_list_tuples(doc):\n",
    "    entity_list_of_tuples = []\n",
    "    # Loop coreference chain and extract first instance in chain (assuming it is proper form)\n",
    "    for entity in doc._.coref_chains.serialize_obj()[\"__coreferee_chain_holder__\"]:\n",
    "        try:\n",
    "            main_entity = re.findall(r\"(?<!\\()\\b\\w+\\b(?![\\)])\", entity[0][0][1])[0]\n",
    "        except IndexError:\n",
    "            continue\n",
    "        for ref in entity[0]:\n",
    "            entity_list_of_tuples.append((main_entity, ref[0][0]))\n",
    "    token_nums = [token_tuple[1] for token_tuple in entity_list_of_tuples]\n",
    "    tuple_dict = dict((y, x) for x, y in entity_list_of_tuples)\n",
    "    article_recompile(doc, token_nums, tuple_dict)"
   ]
  },
  {
   "cell_type": "code",
   "execution_count": 570,
   "id": "cec1b7f7",
   "metadata": {},
   "outputs": [
    {
     "name": "stdout",
     "output_type": "stream",
     "text": [
      "NEW ARTICLE\n",
      "NEW ARTICLE\n",
      "NEW ARTICLE\n",
      "NEW ARTICLE\n",
      "NEW ARTICLE\n",
      "NEW ARTICLE\n",
      "NEW ARTICLE\n",
      "NEW ARTICLE\n"
     ]
    }
   ],
   "source": [
    "for article in article_list_new:\n",
    "    print(\"NEW ARTICLE\")\n",
    "    doc = nlp(article)\n",
    "    articles_recompiled.append(entity_list_tuples(doc))"
   ]
  },
  {
   "cell_type": "code",
   "execution_count": 403,
   "id": "6d55b26f",
   "metadata": {},
   "outputs": [],
   "source": [
    "articles_recompiled_clean = [i for i in articles_recompiled if i]"
   ]
  },
  {
   "cell_type": "markdown",
   "id": "42ab05c6",
   "metadata": {},
   "source": [
    "### Compare Article Versions with and without Coreference Resolution"
   ]
  },
  {
   "cell_type": "markdown",
   "id": "0f4630d1",
   "metadata": {},
   "source": [
    "#### With Coreference Resolution"
   ]
  },
  {
   "cell_type": "markdown",
   "id": "cc123e48",
   "metadata": {},
   "source": [
    "One example of Coreference Resolution seen below is seen in \"who says he was then vice president\", where \"he\" is replaced with \"Biden\". This will potentially help with similarity scores when the sentences are broken out into to clauses and retain the proper name of the subject."
   ]
  },
  {
   "cell_type": "code",
   "execution_count": 566,
   "id": "eceb1acc",
   "metadata": {},
   "outputs": [
    {
     "data": {
      "text/plain": [
       "'Former Vice President Joe Biden is facing questions about a harrowing war story Biden tells on the campaign trail after a report in the Washington Post pointed out multiple inaccuracies in Biden account .. Interested in Joe Biden ? . Add Joe Biden as an interest to stay up to date on the latest Joe Biden news , video , and analysis from ABC News .. Add Interest \\n The story , which Biden most recently told during a town hall event in Hanover , New Hampshire last week , details the story of a \" young Navy captain , \" as Biden puts story , stoically trying to reject a military medal from Biden -- who says Biden was then vice president -- after the captain failed to recover a fellow soldier on the battlefield .. As Biden tells story , the Navy captain rappelled down a 60 - foot ravine in the mountains in the Kunar province of Afghanistan to try to retrieve the fellow soldier but was unsuccessful .. Biden says that afterward , a general wanted Biden to fly to Afghanistan to pin a Silver Star on the captain , a medal the captain refused .. Meg Kinnard / AP \\n \" One of captain buddies got shot , fell down a ravine about 60 feet .. A four - star general asked me whether I ’d go up in the FOB , \" Biden told a hushed crowd during a town hall last week on the campus of Dartmouth College , using the military shorthand for forward operating base .. \" God \\'s truth , my word as a Biden , \" captain continued .. \" captain stood at attention , I went to pin captain , captain said : \\' Sir , I do'"
      ]
     },
     "execution_count": 566,
     "metadata": {},
     "output_type": "execute_result"
    }
   ],
   "source": [
    "articles_recompiled_clean[3][:1500]"
   ]
  },
  {
   "cell_type": "markdown",
   "id": "420ceccc",
   "metadata": {},
   "source": [
    "#### Without Coreference Resolution (original text)"
   ]
  },
  {
   "cell_type": "code",
   "execution_count": 567,
   "id": "355853fe",
   "metadata": {},
   "outputs": [
    {
     "data": {
      "text/plain": [
       "'Former Vice President Joe Biden is facing questions about a harrowing war story he tells on the campaign trail after a report in the Washington Post pointed out multiple inaccuracies in his account.. Interested in Joe Biden?. Add Joe Biden as an interest to stay up to date on the latest Joe Biden news, video, and analysis from ABC News.. Add Interest\\nThe story, which he most recently told during a town hall event in Hanover, New Hampshire last week, details the story of a \"young Navy captain,\" as he puts it, stoically trying to reject a military medal from Biden -- who says he was then vice president -- after the captain failed to recover a fellow soldier on the battlefield.. As Biden tells it, the Navy captain rappelled down a 60-foot ravine in the mountains in the Kunar province of Afghanistan to try to retrieve the fellow soldier but was unsuccessful.. Biden says that afterward, a general wanted him to fly to Afghanistan to pin a Silver Star on the captain, a medal the captain refused.. Meg Kinnard/AP\\n\"One of his buddies got shot, fell down a ravine about 60 feet.. A four-star general asked me whether I’d go up in the FOB,\" Biden told a hushed crowd during a town hall last week on the campus of Dartmouth College, using the military shorthand for forward operating base.. \"God\\'s truth, my word as a Biden,\" he continued.. \"He stood at attention, I went to pin him, he said: \\'Sir, I don’t want the damn thing.. Do not pin it on me sir, please.. Do not do that.. However, accordin'"
      ]
     },
     "execution_count": 567,
     "metadata": {},
     "output_type": "execute_result"
    }
   ],
   "source": [
    "article_list_new[3][:1500]"
   ]
  },
  {
   "cell_type": "markdown",
   "id": "b01b88b1",
   "metadata": {},
   "source": [
    "## Dependency Parsing"
   ]
  },
  {
   "cell_type": "markdown",
   "id": "9a978486",
   "metadata": {},
   "source": [
    "The original sentence..."
   ]
  },
  {
   "cell_type": "code",
   "execution_count": 551,
   "id": "07836f85",
   "metadata": {},
   "outputs": [
    {
     "data": {
      "text/plain": [
       "'Some told him it was too risky, but Biden said he brushed off their concerns.'"
      ]
     },
     "execution_count": 551,
     "metadata": {},
     "output_type": "execute_result"
    }
   ],
   "source": [
    "df_sentences.loc[df_sentences.index == 111][\"sentence\"].values[0]"
   ]
  },
  {
   "cell_type": "markdown",
   "id": "6c55861b",
   "metadata": {},
   "source": [
    "...is broken into independent clauses, based around verb. In this example, only the below clause is retained. We can see \"he\" was replaced with \"Biden\" due to Conreference Resolution and that the clause is specific aspect of the story that will likely make for more accurate comparisons with aspects from other news articles."
   ]
  },
  {
   "cell_type": "code",
   "execution_count": 552,
   "id": "f82ca762",
   "metadata": {},
   "outputs": [
    {
     "data": {
      "text/plain": [
       "'Biden brushed off people concerns'"
      ]
     },
     "execution_count": 552,
     "metadata": {},
     "output_type": "execute_result"
    }
   ],
   "source": [
    "df_sentences_new.loc[df_sentences_new[\"sentence\"].str.contains(\"brushed off\")][\"sentence\"].values[0]"
   ]
  },
  {
   "cell_type": "code",
   "execution_count": 494,
   "id": "47cfd6d6",
   "metadata": {},
   "outputs": [
    {
     "data": {
      "text/html": [
       "<span class=\"tex2jax_ignore\"><svg xmlns=\"http://www.w3.org/2000/svg\" xmlns:xlink=\"http://www.w3.org/1999/xlink\" xml:lang=\"en\" id=\"c81eef001bc04f3998786541cd4cc362-0\" class=\"displacy\" width=\"2675\" height=\"574.5\" direction=\"ltr\" style=\"max-width: none; height: 574.5px; color: #000000; background: #ffffff; font-family: Arial; direction: ltr\">\n",
       "<text class=\"displacy-token\" fill=\"currentColor\" text-anchor=\"middle\" y=\"484.5\">\n",
       "    <tspan class=\"displacy-word\" fill=\"currentColor\" x=\"50\">Some</tspan>\n",
       "    <tspan class=\"displacy-tag\" dy=\"2em\" fill=\"currentColor\" x=\"50\">PRON</tspan>\n",
       "</text>\n",
       "\n",
       "<text class=\"displacy-token\" fill=\"currentColor\" text-anchor=\"middle\" y=\"484.5\">\n",
       "    <tspan class=\"displacy-word\" fill=\"currentColor\" x=\"225\">told</tspan>\n",
       "    <tspan class=\"displacy-tag\" dy=\"2em\" fill=\"currentColor\" x=\"225\">VERB</tspan>\n",
       "</text>\n",
       "\n",
       "<text class=\"displacy-token\" fill=\"currentColor\" text-anchor=\"middle\" y=\"484.5\">\n",
       "    <tspan class=\"displacy-word\" fill=\"currentColor\" x=\"400\">him</tspan>\n",
       "    <tspan class=\"displacy-tag\" dy=\"2em\" fill=\"currentColor\" x=\"400\">PRON</tspan>\n",
       "</text>\n",
       "\n",
       "<text class=\"displacy-token\" fill=\"currentColor\" text-anchor=\"middle\" y=\"484.5\">\n",
       "    <tspan class=\"displacy-word\" fill=\"currentColor\" x=\"575\">it</tspan>\n",
       "    <tspan class=\"displacy-tag\" dy=\"2em\" fill=\"currentColor\" x=\"575\">PRON</tspan>\n",
       "</text>\n",
       "\n",
       "<text class=\"displacy-token\" fill=\"currentColor\" text-anchor=\"middle\" y=\"484.5\">\n",
       "    <tspan class=\"displacy-word\" fill=\"currentColor\" x=\"750\">was</tspan>\n",
       "    <tspan class=\"displacy-tag\" dy=\"2em\" fill=\"currentColor\" x=\"750\">AUX</tspan>\n",
       "</text>\n",
       "\n",
       "<text class=\"displacy-token\" fill=\"currentColor\" text-anchor=\"middle\" y=\"484.5\">\n",
       "    <tspan class=\"displacy-word\" fill=\"currentColor\" x=\"925\">too</tspan>\n",
       "    <tspan class=\"displacy-tag\" dy=\"2em\" fill=\"currentColor\" x=\"925\">ADV</tspan>\n",
       "</text>\n",
       "\n",
       "<text class=\"displacy-token\" fill=\"currentColor\" text-anchor=\"middle\" y=\"484.5\">\n",
       "    <tspan class=\"displacy-word\" fill=\"currentColor\" x=\"1100\">risky,</tspan>\n",
       "    <tspan class=\"displacy-tag\" dy=\"2em\" fill=\"currentColor\" x=\"1100\">ADJ</tspan>\n",
       "</text>\n",
       "\n",
       "<text class=\"displacy-token\" fill=\"currentColor\" text-anchor=\"middle\" y=\"484.5\">\n",
       "    <tspan class=\"displacy-word\" fill=\"currentColor\" x=\"1275\">but</tspan>\n",
       "    <tspan class=\"displacy-tag\" dy=\"2em\" fill=\"currentColor\" x=\"1275\">CCONJ</tspan>\n",
       "</text>\n",
       "\n",
       "<text class=\"displacy-token\" fill=\"currentColor\" text-anchor=\"middle\" y=\"484.5\">\n",
       "    <tspan class=\"displacy-word\" fill=\"currentColor\" x=\"1450\">Biden</tspan>\n",
       "    <tspan class=\"displacy-tag\" dy=\"2em\" fill=\"currentColor\" x=\"1450\">PROPN</tspan>\n",
       "</text>\n",
       "\n",
       "<text class=\"displacy-token\" fill=\"currentColor\" text-anchor=\"middle\" y=\"484.5\">\n",
       "    <tspan class=\"displacy-word\" fill=\"currentColor\" x=\"1625\">said</tspan>\n",
       "    <tspan class=\"displacy-tag\" dy=\"2em\" fill=\"currentColor\" x=\"1625\">VERB</tspan>\n",
       "</text>\n",
       "\n",
       "<text class=\"displacy-token\" fill=\"currentColor\" text-anchor=\"middle\" y=\"484.5\">\n",
       "    <tspan class=\"displacy-word\" fill=\"currentColor\" x=\"1800\">he</tspan>\n",
       "    <tspan class=\"displacy-tag\" dy=\"2em\" fill=\"currentColor\" x=\"1800\">PRON</tspan>\n",
       "</text>\n",
       "\n",
       "<text class=\"displacy-token\" fill=\"currentColor\" text-anchor=\"middle\" y=\"484.5\">\n",
       "    <tspan class=\"displacy-word\" fill=\"currentColor\" x=\"1975\">brushed</tspan>\n",
       "    <tspan class=\"displacy-tag\" dy=\"2em\" fill=\"currentColor\" x=\"1975\">VERB</tspan>\n",
       "</text>\n",
       "\n",
       "<text class=\"displacy-token\" fill=\"currentColor\" text-anchor=\"middle\" y=\"484.5\">\n",
       "    <tspan class=\"displacy-word\" fill=\"currentColor\" x=\"2150\">off</tspan>\n",
       "    <tspan class=\"displacy-tag\" dy=\"2em\" fill=\"currentColor\" x=\"2150\">ADP</tspan>\n",
       "</text>\n",
       "\n",
       "<text class=\"displacy-token\" fill=\"currentColor\" text-anchor=\"middle\" y=\"484.5\">\n",
       "    <tspan class=\"displacy-word\" fill=\"currentColor\" x=\"2325\">their</tspan>\n",
       "    <tspan class=\"displacy-tag\" dy=\"2em\" fill=\"currentColor\" x=\"2325\">PRON</tspan>\n",
       "</text>\n",
       "\n",
       "<text class=\"displacy-token\" fill=\"currentColor\" text-anchor=\"middle\" y=\"484.5\">\n",
       "    <tspan class=\"displacy-word\" fill=\"currentColor\" x=\"2500\">concerns.</tspan>\n",
       "    <tspan class=\"displacy-tag\" dy=\"2em\" fill=\"currentColor\" x=\"2500\">NOUN</tspan>\n",
       "</text>\n",
       "\n",
       "<g class=\"displacy-arrow\">\n",
       "    <path class=\"displacy-arc\" id=\"arrow-c81eef001bc04f3998786541cd4cc362-0-0\" stroke-width=\"2px\" d=\"M70,439.5 C70,352.0 205.0,352.0 205.0,439.5\" fill=\"none\" stroke=\"currentColor\"/>\n",
       "    <text dy=\"1.25em\" style=\"font-size: 0.8em; letter-spacing: 1px\">\n",
       "        <textPath xlink:href=\"#arrow-c81eef001bc04f3998786541cd4cc362-0-0\" class=\"displacy-label\" startOffset=\"50%\" side=\"left\" fill=\"currentColor\" text-anchor=\"middle\">nsubj</textPath>\n",
       "    </text>\n",
       "    <path class=\"displacy-arrowhead\" d=\"M70,441.5 L62,429.5 78,429.5\" fill=\"currentColor\"/>\n",
       "</g>\n",
       "\n",
       "<g class=\"displacy-arrow\">\n",
       "    <path class=\"displacy-arc\" id=\"arrow-c81eef001bc04f3998786541cd4cc362-0-1\" stroke-width=\"2px\" d=\"M245,439.5 C245,352.0 380.0,352.0 380.0,439.5\" fill=\"none\" stroke=\"currentColor\"/>\n",
       "    <text dy=\"1.25em\" style=\"font-size: 0.8em; letter-spacing: 1px\">\n",
       "        <textPath xlink:href=\"#arrow-c81eef001bc04f3998786541cd4cc362-0-1\" class=\"displacy-label\" startOffset=\"50%\" side=\"left\" fill=\"currentColor\" text-anchor=\"middle\">dobj</textPath>\n",
       "    </text>\n",
       "    <path class=\"displacy-arrowhead\" d=\"M380.0,441.5 L388.0,429.5 372.0,429.5\" fill=\"currentColor\"/>\n",
       "</g>\n",
       "\n",
       "<g class=\"displacy-arrow\">\n",
       "    <path class=\"displacy-arc\" id=\"arrow-c81eef001bc04f3998786541cd4cc362-0-2\" stroke-width=\"2px\" d=\"M595,439.5 C595,352.0 730.0,352.0 730.0,439.5\" fill=\"none\" stroke=\"currentColor\"/>\n",
       "    <text dy=\"1.25em\" style=\"font-size: 0.8em; letter-spacing: 1px\">\n",
       "        <textPath xlink:href=\"#arrow-c81eef001bc04f3998786541cd4cc362-0-2\" class=\"displacy-label\" startOffset=\"50%\" side=\"left\" fill=\"currentColor\" text-anchor=\"middle\">nsubj</textPath>\n",
       "    </text>\n",
       "    <path class=\"displacy-arrowhead\" d=\"M595,441.5 L587,429.5 603,429.5\" fill=\"currentColor\"/>\n",
       "</g>\n",
       "\n",
       "<g class=\"displacy-arrow\">\n",
       "    <path class=\"displacy-arc\" id=\"arrow-c81eef001bc04f3998786541cd4cc362-0-3\" stroke-width=\"2px\" d=\"M245,439.5 C245,177.0 740.0,177.0 740.0,439.5\" fill=\"none\" stroke=\"currentColor\"/>\n",
       "    <text dy=\"1.25em\" style=\"font-size: 0.8em; letter-spacing: 1px\">\n",
       "        <textPath xlink:href=\"#arrow-c81eef001bc04f3998786541cd4cc362-0-3\" class=\"displacy-label\" startOffset=\"50%\" side=\"left\" fill=\"currentColor\" text-anchor=\"middle\">ccomp</textPath>\n",
       "    </text>\n",
       "    <path class=\"displacy-arrowhead\" d=\"M740.0,441.5 L748.0,429.5 732.0,429.5\" fill=\"currentColor\"/>\n",
       "</g>\n",
       "\n",
       "<g class=\"displacy-arrow\">\n",
       "    <path class=\"displacy-arc\" id=\"arrow-c81eef001bc04f3998786541cd4cc362-0-4\" stroke-width=\"2px\" d=\"M945,439.5 C945,352.0 1080.0,352.0 1080.0,439.5\" fill=\"none\" stroke=\"currentColor\"/>\n",
       "    <text dy=\"1.25em\" style=\"font-size: 0.8em; letter-spacing: 1px\">\n",
       "        <textPath xlink:href=\"#arrow-c81eef001bc04f3998786541cd4cc362-0-4\" class=\"displacy-label\" startOffset=\"50%\" side=\"left\" fill=\"currentColor\" text-anchor=\"middle\">advmod</textPath>\n",
       "    </text>\n",
       "    <path class=\"displacy-arrowhead\" d=\"M945,441.5 L937,429.5 953,429.5\" fill=\"currentColor\"/>\n",
       "</g>\n",
       "\n",
       "<g class=\"displacy-arrow\">\n",
       "    <path class=\"displacy-arc\" id=\"arrow-c81eef001bc04f3998786541cd4cc362-0-5\" stroke-width=\"2px\" d=\"M770,439.5 C770,264.5 1085.0,264.5 1085.0,439.5\" fill=\"none\" stroke=\"currentColor\"/>\n",
       "    <text dy=\"1.25em\" style=\"font-size: 0.8em; letter-spacing: 1px\">\n",
       "        <textPath xlink:href=\"#arrow-c81eef001bc04f3998786541cd4cc362-0-5\" class=\"displacy-label\" startOffset=\"50%\" side=\"left\" fill=\"currentColor\" text-anchor=\"middle\">acomp</textPath>\n",
       "    </text>\n",
       "    <path class=\"displacy-arrowhead\" d=\"M1085.0,441.5 L1093.0,429.5 1077.0,429.5\" fill=\"currentColor\"/>\n",
       "</g>\n",
       "\n",
       "<g class=\"displacy-arrow\">\n",
       "    <path class=\"displacy-arc\" id=\"arrow-c81eef001bc04f3998786541cd4cc362-0-6\" stroke-width=\"2px\" d=\"M245,439.5 C245,89.5 1270.0,89.5 1270.0,439.5\" fill=\"none\" stroke=\"currentColor\"/>\n",
       "    <text dy=\"1.25em\" style=\"font-size: 0.8em; letter-spacing: 1px\">\n",
       "        <textPath xlink:href=\"#arrow-c81eef001bc04f3998786541cd4cc362-0-6\" class=\"displacy-label\" startOffset=\"50%\" side=\"left\" fill=\"currentColor\" text-anchor=\"middle\">cc</textPath>\n",
       "    </text>\n",
       "    <path class=\"displacy-arrowhead\" d=\"M1270.0,441.5 L1278.0,429.5 1262.0,429.5\" fill=\"currentColor\"/>\n",
       "</g>\n",
       "\n",
       "<g class=\"displacy-arrow\">\n",
       "    <path class=\"displacy-arc\" id=\"arrow-c81eef001bc04f3998786541cd4cc362-0-7\" stroke-width=\"2px\" d=\"M1470,439.5 C1470,352.0 1605.0,352.0 1605.0,439.5\" fill=\"none\" stroke=\"currentColor\"/>\n",
       "    <text dy=\"1.25em\" style=\"font-size: 0.8em; letter-spacing: 1px\">\n",
       "        <textPath xlink:href=\"#arrow-c81eef001bc04f3998786541cd4cc362-0-7\" class=\"displacy-label\" startOffset=\"50%\" side=\"left\" fill=\"currentColor\" text-anchor=\"middle\">nsubj</textPath>\n",
       "    </text>\n",
       "    <path class=\"displacy-arrowhead\" d=\"M1470,441.5 L1462,429.5 1478,429.5\" fill=\"currentColor\"/>\n",
       "</g>\n",
       "\n",
       "<g class=\"displacy-arrow\">\n",
       "    <path class=\"displacy-arc\" id=\"arrow-c81eef001bc04f3998786541cd4cc362-0-8\" stroke-width=\"2px\" d=\"M245,439.5 C245,2.0 1625.0,2.0 1625.0,439.5\" fill=\"none\" stroke=\"currentColor\"/>\n",
       "    <text dy=\"1.25em\" style=\"font-size: 0.8em; letter-spacing: 1px\">\n",
       "        <textPath xlink:href=\"#arrow-c81eef001bc04f3998786541cd4cc362-0-8\" class=\"displacy-label\" startOffset=\"50%\" side=\"left\" fill=\"currentColor\" text-anchor=\"middle\">conj</textPath>\n",
       "    </text>\n",
       "    <path class=\"displacy-arrowhead\" d=\"M1625.0,441.5 L1633.0,429.5 1617.0,429.5\" fill=\"currentColor\"/>\n",
       "</g>\n",
       "\n",
       "<g class=\"displacy-arrow\">\n",
       "    <path class=\"displacy-arc\" id=\"arrow-c81eef001bc04f3998786541cd4cc362-0-9\" stroke-width=\"2px\" d=\"M1820,439.5 C1820,352.0 1955.0,352.0 1955.0,439.5\" fill=\"none\" stroke=\"currentColor\"/>\n",
       "    <text dy=\"1.25em\" style=\"font-size: 0.8em; letter-spacing: 1px\">\n",
       "        <textPath xlink:href=\"#arrow-c81eef001bc04f3998786541cd4cc362-0-9\" class=\"displacy-label\" startOffset=\"50%\" side=\"left\" fill=\"currentColor\" text-anchor=\"middle\">nsubj</textPath>\n",
       "    </text>\n",
       "    <path class=\"displacy-arrowhead\" d=\"M1820,441.5 L1812,429.5 1828,429.5\" fill=\"currentColor\"/>\n",
       "</g>\n",
       "\n",
       "<g class=\"displacy-arrow\">\n",
       "    <path class=\"displacy-arc\" id=\"arrow-c81eef001bc04f3998786541cd4cc362-0-10\" stroke-width=\"2px\" d=\"M1645,439.5 C1645,264.5 1960.0,264.5 1960.0,439.5\" fill=\"none\" stroke=\"currentColor\"/>\n",
       "    <text dy=\"1.25em\" style=\"font-size: 0.8em; letter-spacing: 1px\">\n",
       "        <textPath xlink:href=\"#arrow-c81eef001bc04f3998786541cd4cc362-0-10\" class=\"displacy-label\" startOffset=\"50%\" side=\"left\" fill=\"currentColor\" text-anchor=\"middle\">ccomp</textPath>\n",
       "    </text>\n",
       "    <path class=\"displacy-arrowhead\" d=\"M1960.0,441.5 L1968.0,429.5 1952.0,429.5\" fill=\"currentColor\"/>\n",
       "</g>\n",
       "\n",
       "<g class=\"displacy-arrow\">\n",
       "    <path class=\"displacy-arc\" id=\"arrow-c81eef001bc04f3998786541cd4cc362-0-11\" stroke-width=\"2px\" d=\"M1995,439.5 C1995,352.0 2130.0,352.0 2130.0,439.5\" fill=\"none\" stroke=\"currentColor\"/>\n",
       "    <text dy=\"1.25em\" style=\"font-size: 0.8em; letter-spacing: 1px\">\n",
       "        <textPath xlink:href=\"#arrow-c81eef001bc04f3998786541cd4cc362-0-11\" class=\"displacy-label\" startOffset=\"50%\" side=\"left\" fill=\"currentColor\" text-anchor=\"middle\">prt</textPath>\n",
       "    </text>\n",
       "    <path class=\"displacy-arrowhead\" d=\"M2130.0,441.5 L2138.0,429.5 2122.0,429.5\" fill=\"currentColor\"/>\n",
       "</g>\n",
       "\n",
       "<g class=\"displacy-arrow\">\n",
       "    <path class=\"displacy-arc\" id=\"arrow-c81eef001bc04f3998786541cd4cc362-0-12\" stroke-width=\"2px\" d=\"M2345,439.5 C2345,352.0 2480.0,352.0 2480.0,439.5\" fill=\"none\" stroke=\"currentColor\"/>\n",
       "    <text dy=\"1.25em\" style=\"font-size: 0.8em; letter-spacing: 1px\">\n",
       "        <textPath xlink:href=\"#arrow-c81eef001bc04f3998786541cd4cc362-0-12\" class=\"displacy-label\" startOffset=\"50%\" side=\"left\" fill=\"currentColor\" text-anchor=\"middle\">poss</textPath>\n",
       "    </text>\n",
       "    <path class=\"displacy-arrowhead\" d=\"M2345,441.5 L2337,429.5 2353,429.5\" fill=\"currentColor\"/>\n",
       "</g>\n",
       "\n",
       "<g class=\"displacy-arrow\">\n",
       "    <path class=\"displacy-arc\" id=\"arrow-c81eef001bc04f3998786541cd4cc362-0-13\" stroke-width=\"2px\" d=\"M1995,439.5 C1995,177.0 2490.0,177.0 2490.0,439.5\" fill=\"none\" stroke=\"currentColor\"/>\n",
       "    <text dy=\"1.25em\" style=\"font-size: 0.8em; letter-spacing: 1px\">\n",
       "        <textPath xlink:href=\"#arrow-c81eef001bc04f3998786541cd4cc362-0-13\" class=\"displacy-label\" startOffset=\"50%\" side=\"left\" fill=\"currentColor\" text-anchor=\"middle\">dobj</textPath>\n",
       "    </text>\n",
       "    <path class=\"displacy-arrowhead\" d=\"M2490.0,441.5 L2498.0,429.5 2482.0,429.5\" fill=\"currentColor\"/>\n",
       "</g>\n",
       "</svg></span>"
      ],
      "text/plain": [
       "<IPython.core.display.HTML object>"
      ]
     },
     "metadata": {},
     "output_type": "display_data"
    }
   ],
   "source": [
    "displacy.render(nlp(df_sentences.loc[df_sentences.index == 111][\"sentence\"].values[0]), style='dep')"
   ]
  },
  {
   "cell_type": "code",
   "execution_count": 406,
   "id": "11633186",
   "metadata": {},
   "outputs": [],
   "source": [
    "tokenizer = nltk.data.load('tokenizers/punkt/english.pickle')"
   ]
  },
  {
   "cell_type": "markdown",
   "id": "f1ce83af",
   "metadata": {},
   "source": [
    "### Algorithm: Parse Clauses"
   ]
  },
  {
   "cell_type": "markdown",
   "id": "af78ab34",
   "metadata": {},
   "source": [
    "The following algorithm, which needs much future improvement, is one where I assume independent clauses center around a verb. Therefore, for each verb detected, it is associated with all its children and its children's children and so on, as determined by SpaCy's dependency parser. The exceptions around what children are chosen to follow is where the core benefit of the algorithm comes in. After research and manual review, the dependencies: ccomp, advcl, punct, appos, relcl, and dep, were determined to be children of verbs that should not be followed. <br>\n",
    "\n",
    "Note, ccomp stands for clausal complement, advcl for adverbial clause modifier, punct for punctuation, appos for appositional modifier, relcl for relative clause modifier, and dep for unclassified dependent."
   ]
  },
  {
   "cell_type": "code",
   "execution_count": 540,
   "id": "920b7250",
   "metadata": {},
   "outputs": [],
   "source": [
    "word_tuple_list = []\n",
    "\n",
    "def find_children(verb, clause_num, sentence_idx, article_idx):\n",
    "    \"\"\"Loop children of verbs (if not dep in if condition) and then recursively loop through children of their children\"\"\"\n",
    "    for child in verb.children:\n",
    "        if (child.dep_ == \"ccomp\") or (child.dep_ == \"advcl\") or (child.dep_ == \"punct\") \\\n",
    "        or (child.dep_ == \"appos\") or (child.dep_ == \"relcl\") or (child.dep_ == \"dep\"):\n",
    "            continue\n",
    "        else:\n",
    "            word_tuple_list.append((child.text, child.tag_, child.dep_, child.i, clause_num, sentence_idx, article_idx))\n",
    "            find_children(child, clause_num, sentence_idx, article_idx)\n",
    "\n",
    "def find_verbs(doc, sentence_idx, article_idx):\n",
    "    \"\"\"Loop through each word in sentence until verb is found, then loop through select children.\"\"\"\n",
    "    clause_num = 0\n",
    "    for token in doc:\n",
    "            if (token.pos_ == \"VERB\"):\n",
    "                word_tuple_list.append((token.text, token.tag_, token.dep_, token.i, clause_num, sentence_idx, article_idx))\n",
    "                find_children(token, clause_num, sentence_idx, article_idx)\n",
    "                clause_num += 1"
   ]
  },
  {
   "cell_type": "code",
   "execution_count": 541,
   "id": "e031b263",
   "metadata": {},
   "outputs": [],
   "source": [
    "for article_idx, article in enumerate(articles_recompiled_clean):\n",
    "    sentence_list = tokenizer.tokenize(article)\n",
    "    for sentence_idx, sentence in enumerate(sentence_list):\n",
    "        doc = nlp(sentence)\n",
    "        find_verbs(doc, sentence_idx, article_idx)"
   ]
  },
  {
   "cell_type": "markdown",
   "id": "7644bb63",
   "metadata": {},
   "source": [
    "#### Recompile clauses from words"
   ]
  },
  {
   "cell_type": "markdown",
   "id": "42cf6282",
   "metadata": {},
   "source": [
    "Here I put words that make up individual clauses back in order. They were out of order since the previous algorithm looks for verbs, then finds their children in any direction. Note, I also use this opportunity to prune clauses with only three words or less. Finally, I add the clauses to a dataframe that reflects the format of df_sentences."
   ]
  },
  {
   "cell_type": "code",
   "execution_count": 542,
   "id": "b5e6e7ce",
   "metadata": {},
   "outputs": [],
   "source": [
    "df_clauses = pd.DataFrame.from_records(word_tuple_list, columns = [\"Text\", \"Tag\", \"Dep\", \"Position\", \\\n",
    "                                                                   \"Clause\", \"Sentence\", \"Article\"])"
   ]
  },
  {
   "cell_type": "code",
   "execution_count": 543,
   "id": "9a674424",
   "metadata": {},
   "outputs": [],
   "source": [
    "def create_sentence_df(df_clauses):\n",
    "    \"\"\"Reassemble individual words of clauses into the proper order and then join into single string clause\"\"\"\n",
    "    df_sentences_new = pd.DataFrame(columns=[\"outlet\", \"sentence\"])\n",
    "    order = df_clauses[\"Article\"].to_list()\n",
    "    for article in sorted(set(order), key=order.index):\n",
    "        order_sent = df_clauses.loc[(df_clauses[\"Article\"]==article)][\"Sentence\"].to_list()\n",
    "        for sentence in sorted(set(order_sent), key=order_sent.index):\n",
    "            order_clause = df_clauses.loc[(df_clauses[\"Article\"]==article) & (df_clauses[\"Sentence\"]==sentence)][\"Clause\"].to_list()\n",
    "            for clause in sorted(set(order_clause), key=order_clause.index):\n",
    "                clause_rows = df_clauses.loc[(df_clauses[\"Clause\"]==clause) \n",
    "                                              & (df_clauses[\"Sentence\"]==sentence)\n",
    "                                              & (df_clauses[\"Article\"]==article)].sort_values([\"Position\"])\n",
    "                # Do not include clauses with three or less words\n",
    "                if len(clause_rows[\"Text\"].to_list()) <= 3:\n",
    "                    continue\n",
    "                sentence = \" \".join(clause_rows[\"Text\"].to_list())\n",
    "                df_sentences_new = df_sentences_new.append({\"outlet\": article, \"sentence\": sentence}, ignore_index=True)\n",
    "    return df_sentences_new\n"
   ]
  },
  {
   "cell_type": "code",
   "execution_count": 544,
   "id": "c9203d0d",
   "metadata": {},
   "outputs": [],
   "source": [
    "df_sentences_new = create_sentence_df(df_clauses)"
   ]
  },
  {
   "cell_type": "code",
   "execution_count": 545,
   "id": "c04150e7",
   "metadata": {},
   "outputs": [],
   "source": [
    "df_sentences_new = df_sentences_new.loc[df_sentences_new[\"sentence\"]!=\"\"]"
   ]
  },
  {
   "cell_type": "markdown",
   "id": "153354e1",
   "metadata": {},
   "source": [
    "Associate clauses with their outlets."
   ]
  },
  {
   "cell_type": "code",
   "execution_count": 546,
   "id": "ac2b2c47",
   "metadata": {},
   "outputs": [],
   "source": [
    "ordered_outlets = df_sentences[\"outlet\"].to_list()\n",
    "outlet_list = sorted(set(ordered_outlets), key=ordered_outlets.index)\n",
    "outlet_dict = {v: k for v, k in enumerate(outlet_list)}"
   ]
  },
  {
   "cell_type": "code",
   "execution_count": 547,
   "id": "5e64b5ab",
   "metadata": {},
   "outputs": [],
   "source": [
    "df_sentences_new = df_sentences_new.replace({\"outlet\": outlet_dict})"
   ]
  },
  {
   "cell_type": "code",
   "execution_count": 571,
   "id": "66e861c9",
   "metadata": {},
   "outputs": [
    {
     "data": {
      "text/html": [
       "<div>\n",
       "<style scoped>\n",
       "    .dataframe tbody tr th:only-of-type {\n",
       "        vertical-align: middle;\n",
       "    }\n",
       "\n",
       "    .dataframe tbody tr th {\n",
       "        vertical-align: top;\n",
       "    }\n",
       "\n",
       "    .dataframe thead th {\n",
       "        text-align: right;\n",
       "    }\n",
       "</style>\n",
       "<table border=\"1\" class=\"dataframe\">\n",
       "  <thead>\n",
       "    <tr style=\"text-align: right;\">\n",
       "      <th></th>\n",
       "      <th>outlet</th>\n",
       "      <th>sentence</th>\n",
       "    </tr>\n",
       "  </thead>\n",
       "  <tbody>\n",
       "    <tr>\n",
       "      <th>0</th>\n",
       "      <td>The New York Times</td>\n",
       "      <td>whose habit of verbal missteps on the 2020 cam...</td>\n",
       "    </tr>\n",
       "    <tr>\n",
       "      <th>1</th>\n",
       "      <td>The New York Times</td>\n",
       "      <td>Jr remarks came in response to a Washington Po...</td>\n",
       "    </tr>\n",
       "    <tr>\n",
       "      <th>2</th>\n",
       "      <td>The New York Times</td>\n",
       "      <td>that I said wrong</td>\n",
       "    </tr>\n",
       "    <tr>\n",
       "      <th>3</th>\n",
       "      <td>The New York Times</td>\n",
       "      <td>that Mr. Biden pinned a medal on a military se...</td>\n",
       "    </tr>\n",
       "    <tr>\n",
       "      <th>4</th>\n",
       "      <td>The New York Times</td>\n",
       "      <td>But in the story of military heroism Biden told</td>\n",
       "    </tr>\n",
       "  </tbody>\n",
       "</table>\n",
       "</div>"
      ],
      "text/plain": [
       "               outlet                                           sentence\n",
       "0  The New York Times  whose habit of verbal missteps on the 2020 cam...\n",
       "1  The New York Times  Jr remarks came in response to a Washington Po...\n",
       "2  The New York Times                                  that I said wrong\n",
       "3  The New York Times  that Mr. Biden pinned a medal on a military se...\n",
       "4  The New York Times    But in the story of military heroism Biden told"
      ]
     },
     "execution_count": 571,
     "metadata": {},
     "output_type": "execute_result"
    }
   ],
   "source": [
    "df_sentences_new.head()"
   ]
  },
  {
   "cell_type": "code",
   "execution_count": 550,
   "id": "3b903441",
   "metadata": {},
   "outputs": [
    {
     "data": {
      "text/html": [
       "<div>\n",
       "<style scoped>\n",
       "    .dataframe tbody tr th:only-of-type {\n",
       "        vertical-align: middle;\n",
       "    }\n",
       "\n",
       "    .dataframe tbody tr th {\n",
       "        vertical-align: top;\n",
       "    }\n",
       "\n",
       "    .dataframe thead th {\n",
       "        text-align: right;\n",
       "    }\n",
       "</style>\n",
       "<table border=\"1\" class=\"dataframe\">\n",
       "  <thead>\n",
       "    <tr style=\"text-align: right;\">\n",
       "      <th></th>\n",
       "      <th>outlet</th>\n",
       "      <th>sentence</th>\n",
       "      <th>cluster</th>\n",
       "    </tr>\n",
       "  </thead>\n",
       "  <tbody>\n",
       "    <tr>\n",
       "      <th>0</th>\n",
       "      <td>The New York Times</td>\n",
       "      <td>Joseph R. Biden Jr., whose habit of verbal mis...</td>\n",
       "      <td>65</td>\n",
       "    </tr>\n",
       "    <tr>\n",
       "      <th>1</th>\n",
       "      <td>The New York Times</td>\n",
       "      <td>In two interviews released on Thursday, Mr. Bi...</td>\n",
       "      <td>13</td>\n",
       "    </tr>\n",
       "    <tr>\n",
       "      <th>2</th>\n",
       "      <td>The New York Times</td>\n",
       "      <td>His remarks came in response to a Washington P...</td>\n",
       "      <td>13</td>\n",
       "    </tr>\n",
       "    <tr>\n",
       "      <th>3</th>\n",
       "      <td>The New York Times</td>\n",
       "      <td>“I was making the point how courageous these p...</td>\n",
       "      <td>89</td>\n",
       "    </tr>\n",
       "    <tr>\n",
       "      <th>4</th>\n",
       "      <td>The New York Times</td>\n",
       "      <td>“And so, I don’t know what the problem is.</td>\n",
       "      <td>28</td>\n",
       "    </tr>\n",
       "  </tbody>\n",
       "</table>\n",
       "</div>"
      ],
      "text/plain": [
       "               outlet                                           sentence  \\\n",
       "0  The New York Times  Joseph R. Biden Jr., whose habit of verbal mis...   \n",
       "1  The New York Times  In two interviews released on Thursday, Mr. Bi...   \n",
       "2  The New York Times  His remarks came in response to a Washington P...   \n",
       "3  The New York Times  “I was making the point how courageous these p...   \n",
       "4  The New York Times         “And so, I don’t know what the problem is.   \n",
       "\n",
       "   cluster  \n",
       "0       65  \n",
       "1       13  \n",
       "2       13  \n",
       "3       89  \n",
       "4       28  "
      ]
     },
     "execution_count": 550,
     "metadata": {},
     "output_type": "execute_result"
    }
   ],
   "source": [
    "df_sentences.head()"
   ]
  },
  {
   "cell_type": "markdown",
   "id": "97e7c881",
   "metadata": {},
   "source": [
    "# Convert to Sentence Embeddings (code sourced from my master's capstone)"
   ]
  },
  {
   "cell_type": "markdown",
   "id": "33b4f863",
   "metadata": {},
   "source": [
    "Here I convert the sentence text into sentence-embeddings via the all-MiniLM-L6-v2 model from SBERT."
   ]
  },
  {
   "cell_type": "code",
   "execution_count": 418,
   "id": "5d1467c3",
   "metadata": {},
   "outputs": [],
   "source": [
    "sentences_all_embed_prev = df_sentences[\"sentence\"].to_list()\n",
    "sentences_all_embed_new = df_sentences_new[\"sentence\"].to_list()"
   ]
  },
  {
   "cell_type": "code",
   "execution_count": 419,
   "id": "5afbadf7",
   "metadata": {},
   "outputs": [],
   "source": [
    "embedder = SentenceTransformer('all-MiniLM-L6-v2')"
   ]
  },
  {
   "cell_type": "code",
   "execution_count": 420,
   "id": "47c3c8f3",
   "metadata": {},
   "outputs": [],
   "source": [
    "def text_to_embeddings(sentences_all_embed):\n",
    "    corpus_embeddings = embedder.encode(sentences_all_embed, show_progress_bar=True)\n",
    "    corpus_embeddings = corpus_embeddings / np.linalg.norm(corpus_embeddings, axis=1, keepdims=True)\n",
    "    return corpus_embeddings"
   ]
  },
  {
   "cell_type": "code",
   "execution_count": 421,
   "id": "569275f2",
   "metadata": {},
   "outputs": [
    {
     "data": {
      "application/vnd.jupyter.widget-view+json": {
       "model_id": "f61f1ad80fe24119bf4efe6865e18eda",
       "version_major": 2,
       "version_minor": 0
      },
      "text/plain": [
       "Batches:   0%|          | 0/11 [00:00<?, ?it/s]"
      ]
     },
     "metadata": {},
     "output_type": "display_data"
    },
    {
     "data": {
      "application/vnd.jupyter.widget-view+json": {
       "model_id": "b04cc405c9504f28b24ac3b101b1e703",
       "version_major": 2,
       "version_minor": 0
      },
      "text/plain": [
       "Batches:   0%|          | 0/5 [00:00<?, ?it/s]"
      ]
     },
     "metadata": {},
     "output_type": "display_data"
    }
   ],
   "source": [
    "method_embeddings_prev = text_to_embeddings(sentences_all_embed_prev)\n",
    "method_embeddings_new = text_to_embeddings(sentences_all_embed_new)"
   ]
  },
  {
   "cell_type": "markdown",
   "id": "aa7bdcc3",
   "metadata": {},
   "source": [
    "# Perform Clustering (code sourced from my master's capstone)"
   ]
  },
  {
   "cell_type": "markdown",
   "id": "bfd7a95d",
   "metadata": {},
   "source": [
    "Agglomerative clustering is used to group similar sentences and clauses (sentence-embeddings). Parameters used were chosen based on thorough testing done during my capstone research. Some code of the agglomerative_clustering function sourced from [scikit-learn](https://scikit-learn.org/stable/modules/generated/sklearn.cluster.AgglomerativeClustering.html)."
   ]
  },
  {
   "cell_type": "code",
   "execution_count": 422,
   "id": "136c105e",
   "metadata": {},
   "outputs": [],
   "source": [
    "def agglomerative_clustering(corpus_embeddings, sentences_all_embed):\n",
    "    clustering_model = AgglomerativeClustering(n_clusters=None, distance_threshold=1.05, compute_distances=True) \n",
    "    clustering_model.fit(corpus_embeddings)\n",
    "    cluster_assignment = clustering_model.labels_\n",
    "\n",
    "    clustered_sentences = {}\n",
    "    for sentence_id, cluster_id in enumerate(cluster_assignment):\n",
    "        if cluster_id not in clustered_sentences:\n",
    "            clustered_sentences[cluster_id] = []\n",
    "\n",
    "        clustered_sentences[cluster_id].append(sentences_all_embed[sentence_id] + \"777777\")\n",
    "    return clustered_sentences, clustering_model"
   ]
  },
  {
   "cell_type": "code",
   "execution_count": 450,
   "id": "3ea5bba5",
   "metadata": {},
   "outputs": [],
   "source": [
    "def print_clusters(clustered_sentences):\n",
    "    for i, cluster in clustered_sentences.items():\n",
    "        # Filter out clusters with only one sentence or clause\n",
    "        if len(cluster) < 2:\n",
    "            continue\n",
    "        else:\n",
    "            print(\"Cluster \", i)\n",
    "            for article in cluster:\n",
    "                print(article.split(\"777777\")[0])\n",
    "            print(\"\")"
   ]
  },
  {
   "cell_type": "code",
   "execution_count": 424,
   "id": "74245fcd",
   "metadata": {},
   "outputs": [],
   "source": [
    "clusters_prev, clustering_model_prev = agglomerative_clustering(method_embeddings_prev, sentences_all_embed_prev)\n",
    "clusters_new, clustering_model_new = agglomerative_clustering(method_embeddings_new, sentences_all_embed_new)\n"
   ]
  },
  {
   "cell_type": "code",
   "execution_count": 451,
   "id": "b781f1dc",
   "metadata": {},
   "outputs": [
    {
     "name": "stdout",
     "output_type": "stream",
     "text": [
      "Cluster  65\n",
      "Joseph R. Biden Jr., whose habit of verbal missteps on the 2020 campaign trail has concerned some Democrats, is again facing scrutiny after a new report that says he misstated multiple details in a war story he told last week.\n",
      "In recent days, Biden inaccurately stated the decade when Robert F. Kenndy and Martin Luther King Jr. were assassinated, said he preferred \"truth over facts,\" and misidentified New Hampshire as Vermont while campaigning in the early primary state.\n",
      "Former Vice President Joe Biden is facing questions about a harrowing war story he tells on the campaign trail after a report in the Washington Post pointed out multiple inaccuracies in his account.\n",
      "USA TODAY\n",
      "WASHINGTON -- Former Vice President Joe Biden denied Thursday that he conflated details of a gripping war story he has told on the campaign trail after a Washington Post report called into question remarks by Biden last week and in previous years.\n",
      "\n",
      "Cluster  13\n",
      "In two interviews released on Thursday, Mr. Biden, the former vice president, was defiant, insisting that the contours of the tale were accurate.\n",
      "His remarks came in response to a Washington Post article that outlined how in relaying an anecdote about a war hero, Mr. Biden appeared to combine details from several different events into one inaccurate composite story.\n",
      "Biden's retelling was perhaps the most inaccurate version of the story he had told -- although it wasn't the only time he told it, according to the Post.\n",
      "However, according to the Post, multiple details of the story Biden tells are inaccurate, including the people involved and the timing of the incident.\n",
      "The version of Biden’s story that’s true — and just as heart-rending — is one he rarely tells.\n",
      "\"This is Biden at top form, where he does this vivid, coherent, brilliant narrative, in which not a single detail is correct,\" he said.\n",
      "Biden defends his telling of a harrowing war story after report he got facts wrong\n",
      "The vice president said the \"central point\" of his tale was \"absolutely accurate.\"\n",
      "In an interview with a South Carolina newspaper, Biden also said that the \"essence of the story\" he has recounted was accurate.\n",
      "The rest of you guys can take it and do what you want with it.”\n",
      "When pushed whether or not he had conflated three separate stories into one, as the Post claimed, Biden replied, “No, I don’t think so.”\n",
      "This is not the first that Biden has attempted to dismiss concerns about his credibility by going on defense.\n",
      "\n",
      "Cluster  89\n",
      "“I was making the point how courageous these people are, how incredible they are, this generation of warriors, these fallen angels we’ve lost,” he told Jonathan Capehart, a Washington Post opinion columnist, in a podcast interview.\n",
      "\"I was making the point about how courageous these people are, how incredible they are, this generation of warriors, these fallen angels we lost.\n",
      "\n",
      "Cluster  28\n",
      "“And so, I don’t know what the problem is.\n",
      "And I don't know what the problem is.\n",
      "\n",
      "Cluster  36\n",
      "I mean, what is it that I said wrong?”\n",
      "It is the case, the report said, that Mr. Biden pinned a medal on a military service member who did not think he deserved it — the “essence of the story,” he told The Post and Courier during a campaign swing through South Carolina, adding that he had not read the article.\n",
      "But in the story of military heroism he told, Mr. Biden got many of the associated details wrong, the report said, such as the year, the military branch of the service member involved and the actions taken by the medal recipient, appearing to conflate different acts of bravery.\n",
      "The story Biden that tells about a solider trying to reject a medal instead is based on an incident that did take place involving Army Staff Sgt.\n",
      "Upon further investigation, the paper concluded that Biden had conflated three separate stories, including one in which he actually “did pin a medal on a heartbroken soldier, Army Staff Sgt.\n",
      "The paper concluded that the 76-year-old former Biden had in fact conflated three different stories, including one in which he actually “did pin a medal on a heartbroken soldier, Army Staff Sgt.\n",
      "\n",
      "Cluster  23\n",
      "Former Vice President Joe Biden's campaign has been dogged by gaffes -- but a new error could be his most damaging yet.\n",
      "Biden, 76, has struggled during his presidential campaign with gaffes and misstatements that hark back to his earlier political troubles and have put a spotlight on his age.\n",
      "Former Vice President Joe Biden's emotional yet false war story on the campaign trail is the latest in a string of gaffes, according to Mark Steyn.\n",
      "\n",
      "Cluster  51\n",
      "The controversy surrounds a moving military story -- which the former VP claimed to be the \"God's truth\" -- that Biden told at a campaign stop in New Hampshire earlier this month.\n",
      "The former vice president's latest blunder took place earlier this month when Biden recalled a military story he claimed to be the \"God's truth\"at a campaign stop in New Hampshire.\n",
      "The Democratic frontrunner's blunder took place earlier this month when Biden recounted a story he claimed to be \"God's truth\" at a campaign stop in New Hampshire.\n",
      "The anecdote in question came up earlier this month when Biden recounted a story he claimed to be \"God's truth\" at a campaign stop in New Hampshire.\n",
      "\n",
      "Cluster  22\n",
      "The only problem was that the story was not true, according to The Washington Post.\n",
      "The former vice president's story, however, wasn't entirely wrong.\n",
      "\n",
      "Cluster  32\n",
      "Biden's allegedly tall tale was an emotional account of his decision to travel to Afghanistan, despite concerns about visiting a war-torn area, in order to honor a Navy captain for retrieving the body of his dead comrade during battle.\n",
      "Biden also employed the story of the fictitious Navy captain during a World War II memorial event in Australia in 2016.\n",
      "He talked about Kunar province, the Navy captain — “Navy, Navy” he repeated for emphasis — the deep ravine, the dead friend and the moment of reckoning when Biden pinned the medal on the officer’s uniform.\n",
      "\n",
      "Cluster  74\n",
      "BIDEN TELLS VOTERS 'DON'T VOTE FOR ME' IF THEY'RE CONCERNED ABOUT HIS AGE\n",
      "According to Biden, he brushed off concerns about the risk of him traveling to the deadly area.\n",
      "BIDEN ASSURES VOTERS HE'S 'NOT GOING NUTS' DURING CAMPAIGN STOP\n",
      "The former vice president dismissed concerns about his age last weekend, telling voters not to support him if it was an issue.\n",
      "\"I say if they're concerned, don't vote for me,\" Biden said while speaking to reporters in Keene, N.H.\n",
      "\n",
      "Cluster  35\n",
      "But after speaking with more than a dozen military and campaign sources, the Post determined the event \"never happened\" and that \"almost every detail in the story appears to be incorrect.\"\n",
      "CLICK HERE TO GET THE FOX NEWS APP\n",
      "Capehart then read an excerpt from the Post's report; \"Almost every detail in this story appears to be incorrect based on interviews with more than a dozen U.S. troops, their commanders, and Biden campaign officials.\n",
      "As the Washington Post reported on Thursday, “almost every detail in the story appears to be incorrect” upon closer investigation.\n",
      "\n",
      "Cluster  63\n",
      "RECALLING MLK AND RFK DEATHS, BIDEN ASKS CAMPAIGN CROWD, WHAT IF OBAMA 'HAD BEEN ASSASSINATED' IN 2008?\n",
      "\"I have not read the article but my response is similar to a story you had about the fact that, you know, 'Joe Biden, you know talked about the assassination of Barack Obama.'\n",
      "\n",
      "Cluster  66\n",
      "They added that Biden rattled off a slew of inaccurate facts in the span of just a few minutes.\n",
      "Some told him it was too risky, but Biden said he brushed off their concerns.\n",
      "Unfortunately for Biden, however, the story’s strong impression also meant it would be heavily scrutinized for accuracy — a process it could not withstand.\n",
      "\n",
      "Cluster  99\n",
      "\"In the space of three minutes, Biden got the time period, the location, the heroic act, the type of medal, the military branch and the rank of the recipient wrong, as well as his own role in the ceremony,\" Viser and Jaffe wrote.\n",
      "“The upshot: In the space of three minutes, Biden got the time period, the location, the heroic act, the type of medal, the military branch and the rank of the recipient wrong, as well as his own role in the ceremony,” reads the Post‘s report.\n",
      "The upshot: In the space of three minutes, Biden got the time period, the location, the heroic act, the type of medal, the military branch and the rank of the recipient wrong, as well as his own role in the ceremony.\n",
      "\"In the space of three minutes, Biden got the time period, the location, the heroic act, the type of medal, the military branch and the rank of the recipient wrong, as well as his own role in the ceremony.\"\n",
      "\"Biden got the time period, the location, the heroic act, the type of medal, the military branch and the rank of the recipient wrong, as well as his own role in the ceremony,\" the Post report also reads.\n",
      "\n",
      "Cluster  94\n",
      "The Post reported that the crowd of 400 people in Hanover fell \"silent\" and the former vice president gave his \"word as a Biden\" that the story was true on Friday.\n",
      "The story, which Biden told to more than 400 voters in Hanover, New Hampshire, quickly made an impact upon everyone in the room.\n",
      "\n",
      "Cluster  20\n",
      "Biden's problems follow a long list of U.S. politicians facing accusations they fabricated military stories.\n",
      "Biden's war story was just the latest incident to cast doubt on the 2020 frontrunner's mental acuity as he ran for president of the United States.\n",
      "(Mark Wilson/Getty Images)\n",
      "Biden seemed to stop telling the story until the summer of 2016, when the presidential campaign was in full swing and Trump was surging to the top of the polls.\n",
      "The story and its inaccuracies come to light as Biden’s campaign is besieged by doubts over his fitness for the presidency after a string of perplexing gaffes.\n",
      "\n",
      "Cluster  16\n",
      "Army Staff Sgt.\n",
      "“I tried to get out of going,” recalled Workman, who has since been promoted to first sergeant.\n",
      "\n",
      "Cluster  133\n",
      "Chad Workman reportedly received a medal from Biden after attempting to retrieve a dead soldier from a burning vehicle.\n",
      "Chad Workman who felt he didn’t deserve a medal but nonetheless received a Bronze Star pinned on him by Biden.\n",
      "Chad Workman, who didn’t believe he deserved the award.”\n",
      "“In the space of three minutes, Biden got the time period, the location, the heroic act, the type of medal, the military branch and the rank of the recipient wrong, as well as his own role in the ceremony,” the paper elaborated.\n",
      "\n",
      "Cluster  84\n",
      "Workman told a similar story about the two's interactions, \"but with one added detail,\" The Post said.\n",
      "In an interview with the Post, Workman's version of the story mirrors Biden's.\n",
      "\n",
      "Cluster  14\n",
      "MIKA BRZEZINSKI CALLS OUT OBAMA WHILE DEFENDING BIDEN: 'DID HE REALLY GOVERN'\n",
      "\"He recalled Biden meeting his gaze.\n",
      "CLICK HERE TO GET THE FOX NEWS APP\n",
      "Biden appeared to be rejecting President Trump's recent claim that Russian President Vladimir Putin \"outsmarted\" Obama when he annexed Crimea in 2014.\n",
      "\n",
      "Cluster  123\n",
      "'I know you don’t,' Biden replied softly,\" the Post reported.\n",
      "“I know you don’t,” Biden replied softly.\n",
      "\n",
      "Cluster  53\n",
      "While his campaign has dismissed his gaffes as part of a press \"narrative,\" other observers have claimed that the number of verbal slip-ups is concerning.\n",
      "The gaffes appeared to have raised enough concerns that allies of the former vice president reportedly suggested he scale back the number of events he did on the campaign trail.\n",
      "\n",
      "Cluster  9\n",
      "When a reporter told Biden that voters he talked to were wondering if the former senator from Delaware had lost a step, Biden answered: \"What do you think?\"\n",
      "\"You just confirmed it happened,\" Biden shot back.\n",
      "“Quite frankly,” Biden said shortly before being forced to drop out of the race.\n",
      "\n",
      "Cluster  5\n",
      "Biden's brain surgeon has insisted that his patient was mentally healthy and had no brain damage.\n",
      "Kassell previously treated Biden for brain aneurysms and has monitored him for brain damage since his surgeries.\n",
      "\n",
      "Cluster  12\n",
      "“He is every bit as sharp as he was 31 years ago.\n",
      "\"He either can cut it or he can’t, and the only way he can prove he can is to be an active and vigorous candidate.\n",
      "\n",
      "Cluster  52\n",
      "David Axelrod, a former adviser to former President Obama, blasted that advice, arguing on Thursday that he shouldn't be cloistered as a presidential candidate.\n",
      "You can’t cloister the candidate and win,\" tweeted Axelrod, the chief strategist of Obama's 2008 and 2012 campaigns.\n",
      "\n",
      "Cluster  47\n",
      "CLICK HERE TO GET THE FOX NEWS APP\n",
      "\"This is bad advice.\n",
      "CLICK HERE TO GET THE FOX NEWS APP\n",
      "Fox News' Sam Dorman contributed to this report.\n",
      "CLICK HERE TO GET THE FOX NEWS APP\n",
      "Fox News' Joseph A. Wulfsohn contributed to this report.\n",
      "\n",
      "Cluster  48\n",
      "Joe Biden speaks in Des Moines, Iowa, August 10, 2019.\n",
      "“Where the hell is he from?” Biden asked of Trump that day in Florida.\n",
      "\n",
      "Cluster  10\n",
      "(Scott Morgan/Reuters)\n",
      "During a campaign stop in New Hampshire on Friday, Joe Biden fabricated an emotional story about pinning a medal on a reluctant Navy captain in honor of his daring attempt to rescue a downed comrade in Afghanistan.\n",
      "Add Interest\n",
      "The story, which he most recently told during a town hall event in Hanover, New Hampshire last week, details the story of a \"young Navy captain,\" as he puts it, stoically trying to reject a military medal from Biden -- who says he was then vice president -- after the captain failed to recover a fellow soldier on the battlefield.\n",
      "(Courtesy of Craig Hobbs)\n",
      "One element of Biden’s story is rooted in an actual event: The vice president did pin a medal on a heartbroken soldier, Army Staff Sgt.\n",
      "Months later, as the angry and divisive 2016 presidential campaign kicked into high gear, Biden’s story of the medal ceremony grew more harrowing and less accurate.\n",
      "Biden, whose penchant for confusing times and places has drawn worried whispers from even the staunchest of allies, told a heart wrenching story last Friday about being asked to pin a medal on a reluctant Navy officer.\n",
      "Biden, who is under fire after The Washington Post exposed a story he told about pinning a medal on a reluctant Navy officer as inaccurate, defend his conduct while campaigning in South Carolina on Thursday.\n",
      "\n",
      "Cluster  105\n",
      "Addressing a crowd of over 400, Biden recalled how the captain rappelled down a 60-foot ravine under fire to rescue the body of a fallen American soldier only to resist when then-vice president Biden tried to pin a Silver Star on his chest to honor his efforts.\n",
      "Not a joke.”\n",
      "The Navy captain, Biden recalled Friday night, had rappelled down a 60-foot ravine under fire and retrieved the body of an American comrade, carrying him on his back.\n",
      "Not a joke.”\n",
      "As Biden recollected, the Navy captain “rappelled down a 60-foot ravine under fire and retrieved the body of an American comrade, carrying him on his back.” When the captain’s superiors wanted to honor his bravery with a “Silver Star,” the officer refused as it “felt like a failure” because his comrade had died.\n",
      "As Biden recollected to more than 400 voters in New Hampshire last week, the captain “rappelled down a 60-foot ravine under fire and retrieved the body of an American comrade, carrying him on his back.” When the captain’s superiors sought to honor his bravery with a “Silver Star,” the officer refused, as his comrade had died during the mission.\n",
      "\n",
      "Cluster  64\n",
      "“He said, ‘Sir, I don’t want the damn thing!’ ” Biden shouted, recounting the apocryphal event.\n",
      "“He said, ‘Sir, I don’t want the damn thing!’ ” Biden said, his jaw clenched and his voice rising to a shout.\n",
      "“Sir, with all due respect, I do not want it,” Biden recalled the officer saying.\n",
      "Here’s how Biden remembered it: “You see the look on his face — he says, ‘Sir, I don’t want it.\n",
      "“He said, ‘Sir, I don’t want the damn thing!’” said Biden, his “jaw clenched” and “voice rising to a shout,” according to the Post.\n",
      "\n",
      "Cluster  76\n",
      "He died!’”\n",
      "“This is the God’s truth,” he added.\n",
      "“This is God’s truth.\n",
      "\n",
      "Cluster  19\n",
      "“My word as a Biden.”\n",
      "While the crowd was reportedly moved by his testimony, the incident never occurred, according to the Washington Post.\n",
      "“My word as a Biden.”\n",
      "Except almost every detail in the story appears to be incorrect.\n",
      "My word as a Biden,” Biden reportedly said as he recounted the tale last week during a campaign event.\n",
      "\n",
      "Cluster  45\n",
      "Rather, Biden conflated three separate stories: a daring rescue by a 20-year-old Army specialist who never received a Silver Star; a visit he made to Kunar province in 2008 as a U.S. senator; and a medal ceremony he presided over for an Army staff sergeant who felt he was undeserving of the award.\n",
      "“My word as a Biden.”\n",
      "The only problem, as the Post reported, was that “almost every detail in the story appears to be incorrect.”:\n",
      "Biden visited Kunar province in 2008 as a U.S. senator, not as vice president.\n",
      "According to the Post’s reporting, Biden visited the Kunar province in 2008 as a senator, not as the vice president, and the soldier in the story was the 20-year-old Army specialist named Kyle White, not an older Navy captain.\n",
      "\n",
      "Cluster  27\n",
      "In that telling, the captain “climbed down about 200 feet” into a ravine in Afghanistan to rescue a comrade.\n",
      "Meg Kinnard/AP\n",
      "\"One of his buddies got shot, fell down a ravine about 60 feet.\n",
      "\"One of his buddies got shot, fell down a ravine about 60 feet.\n",
      "\n",
      "Cluster  11\n",
      "Then, while stumping for Hillary Clinton that same year, Biden told the story of an Army captain who pulled a soldier out of a burning vehicle in Iraq but resisted the resulting medal.\n",
      "During a 2008 trip to Afghanistan, Biden did, in fact, watch Major General David Rodriguez pin a Bronze Star on a young soldier who tried to pull a wounded comrade out of a burning vehicle.\n",
      "Biden did pin a medal on Workman during a January 2011 ceremony at Forward Operating Base Airborne in Wardak Province.\n",
      "This time, Biden said he was the one who pinned the medal on the officer, not the general.\n",
      "Biden claimed during a campaign stop last week that a four-star general asked the then-vice president to travel to Konar, Afghanistan, to award a medal to a Navy captain, Steyn said Thursday on \"Tucker Carlson Tonight.\"\n",
      "Workman had tried to save a soldier from a burning vehicle in Afghanistan's Wardak province, and Biden did pin a medal on him during a January 2011 ceremony.\n",
      "\n",
      "Cluster  24\n",
      "“I don’t want the medal.”\n",
      "As the Post report notes, the Pentagon has no record of a U.S. Army captain receiving a Silver Star during the period Biden describes.\n",
      "“I don’t want the medal.”\n",
      "Biden jabbed at the air with his index finger and yelled, “How many nights does that kid go to sleep seeing that image in his head, dealing with it?”\n",
      "The Pentagon has no record of an Army captain receiving a Silver Star in Iraq during the time period Biden describes.\n",
      "No, it is 6,883 as of this morning.”\n",
      "Vice President Joe Biden awards a Bronze Star to Staff Sgt.\n",
      "\n",
      "Cluster  34\n",
      "As Biden tells it, the Navy captain rappelled down a 60-foot ravine in the mountains in the Kunar province of Afghanistan to try to retrieve the fellow soldier but was unsuccessful.\n",
      "First it was the Navy captain who rappelled down the ravine in Kunar.\n",
      "Biden’s latest version of the story, according to the Post, has a Navy captain rappelling down a 60-foot ravine in the Kunar province of Afghanistan in an unsuccessful effort to retrieve a wounded comrade who dies.\n",
      "\n",
      "Cluster  112\n",
      "Biden says that afterward, a general wanted him to fly to Afghanistan to pin a Silver Star on the captain, a medal the captain refused.\n",
      "Now the general wanted Biden to pin a Silver Star on the American hero who, despite his bravery, felt like a failure.\n",
      "Biden claims that the captain didn’t want to receive a Silver Star.\n",
      "\n",
      "Cluster  87\n",
      "A four-star general asked me whether I’d go up in the FOB,\" Biden told a hushed crowd during a town hall last week on the campus of Dartmouth College, using the military shorthand for forward operating base.\n",
      "A four-star general asked me whether I’d go up in the FOB,\" Biden said during a town hall last week at Dartmouth College.\n",
      "\n",
      "Cluster  115\n",
      "\"God's truth, my word as a Biden,\" he continued.\n",
      "“This is the God’s truth,” Biden had said as he told the story.\n",
      "“This is the God’s truth,” Biden said.\n",
      "\n",
      "Cluster  44\n",
      "\"He stood at attention, I went to pin him, he said: 'Sir, I don’t want the damn thing.\n",
      "His commander has asked me to pin a medal on him when I was in theater and when I went to do it, he said 'I don't want it, sir.\n",
      "He took it, I pinned it on him, but he said, 'He died, sir.\n",
      "\n",
      "Cluster  100\n",
      "Do not pin it on me sir, please.\n",
      "Please don’t pin that on me.\n",
      "\n",
      "Cluster  56\n",
      "White was awarded the Medal of Honor in 2014, and Biden was present at a White House ceremony when then-President Obama pinned it on his chest.\n",
      "“I know it sounds a little corny,” he said in a speech to the Council on Foreign Relations, “but I don’t think there was a dry eye in the house.”\n",
      "President Barack Obama applauds after presenting the Medal of Honor to Army Sgt.\n",
      "Additionally, White was celebrated at a White House ceremony six years after Biden’s visit and had President Barack Obama place a Medal of Honor, the nation’s highest award for valor, around his neck -- not a Silver Star\n",
      "The Post concluded that Biden did, indeed, pin a medal on a soldier: Army Staff Sgt.\n",
      "\n",
      "Cluster  59\n",
      "Chad Workman, who served in Afghanistan.\n",
      "Chad Workman at Forward Operating Base Airborne in Wardak province, Afghanistan, on Jan. 11, 2011.\n",
      "\n",
      "Cluster  1\n",
      "Workman unsuccessfully tried to save a fellow solider from a burning vehicle in the province of Wardak, just southwest of the country's capital city of Kabul.\n",
      "The medal recipient was Workman, 35, who had run into a burning vehicle to save his dying friend.\n",
      "By the time Workman had pried open the door and plunged into the flames, it was too late.\n",
      "\n",
      "Cluster  38\n",
      "\"His commander asked me to pin a Bronze Star on him,\" Biden said of the ceremony in a 2016 interview with National Geographic, \"And right before this – you see the look on his face – he says, 'Sir, I don’t want it.\n",
      "'”\n",
      "In a 2016 interview with National Geographic, Biden recalled of the ceremony, \"His commander asked me to pin a Bronze Star on him.\n",
      "\n",
      "Cluster  70\n",
      "In an interview Thursday with The Post and Courier, a South Carolina newspaper, Biden pushed back on the report, saying that the \"central point\" of the story he told is accurate.\n",
      "\"I don’t understand what they’re talking about, but the central point is it was absolutely accurate what I said,” Biden told the paper.\n",
      "“I don’t understand what they’re talking about, but the central point is it was absolutely accurate what I said,” Biden told The Post and Courier when asked about the controversy.\n",
      "\n",
      "Cluster  75\n",
      "He died.’ ”\n",
      "The report comes as Biden, 76, continues to face increased scrutiny about his recent misstatements and gaffes on the campaign trail, a criticism he acknowledged Thursday afternoon while campaigning in Rock Hill, South Carolina.\n",
      "He died!’”\n",
      "The raw emotion Biden exhibited when telling the harrowing story of bravery and loss left those in attendance “silent.”\n",
      "“This is the God’s truth,” the former vice president added.\n",
      "He died, he died' Well, it turns out that's true,\" Biden continued.\n",
      "He died,’” Biden told the newspaper responding to the Washington Post report.\n",
      "\n",
      "Cluster  93\n",
      "Biden recounted how \"the press accurately pointed out,\" a recent misstatement about the timing of a meeting he had with students of Marjory Stoneman Douglas High School in Parkland, Florida, where a 2017 shooting took the lives of 17 people.\n",
      "They did not want to face it on camera.”\n",
      "Many were quick to point out that the tragic shooting, which resulted in 17 fatalities and over a dozen injuries, actually occurred on February 14, 2018 — more than a year after Biden left office.\n",
      "\n",
      "Cluster  130\n",
      "During a news conference earlier this month in Iowa, Biden incorrectly said he was Vice President during the time of the meeting, even though it took place in 2017, after he left office.\n",
      "“He’s saying it was President — my boss — it was his fault.”\n",
      "Such lapses have become more frequent in recent weeks, with Biden at one point even claiming he was vice president during the mass shooting at Marjory Stoneman Douglas High School in Parkland Florida.\n",
      "\"Biden is doing it accidentally,\" he said of the former vice president \"throwing out\" the presidential campaign \"playbook.\"\n",
      "\n",
      "Cluster  2\n",
      "Joe Biden painted a vivid scene for the 400 people packed into a college meeting hall.\n",
      "Initially, raw emotion Biden exhibited during its telling made a significant impression on those in attendance, including members of the press.\n",
      "\n",
      "Cluster  17\n",
      "“We can lose a vice president,” he said.\n",
      "“Some told him it was too risky, but Biden said he brushed off their concerns.”\n",
      "“We can lose a vice president,” Biden claimed to have said when asked to make the trip.\n",
      "“Those kids in Parkland came up to see me when I was vice president,” Biden said earlier this month, before claiming that when the survivors visited Congress, lawmakers were “basically cowering, not wanting to see them.\n",
      "\n",
      "Cluster  60\n",
      "Based on interviews with more than a dozen U.S. troops, their commanders and Biden campaign officials, it appears as though the former vice president has jumbled elements of at least three actual events into one story of bravery, compassion and regret that never happened.\n",
      "According to the Post, \"it appears as though the former vice president has jumbled elements of at least three actual events into one story of bravery, compassion and regret that never happened.\"\n",
      "\n",
      "Cluster  104\n",
      "In January 2008 then-Sen. Joe Biden (D-Del.\n",
      "In 2008, then-Sen. Biden, along with Sens.\n",
      "\n",
      "Cluster  90\n",
      "John F. Kerry (D-Mass.\n",
      "and John F. Kerry (D-Mass.\n",
      "\n",
      "Cluster  97\n",
      "), left, and Chuck Hagel (R-Neb.)\n",
      "Chuck Hagel (R-Neb.)\n",
      "\n",
      "Cluster  127\n",
      "— visited Spec.\n",
      "Spec.\n",
      "\n",
      "Cluster  7\n",
      "Miles Foltz in Kunar province, Afghanistan, where Foltz received a Bronze Star for valor for braving Taliban fire to pull to safety a fellow soldier who had been shot in the jaw and neck.\n",
      "Miles Foltz, who braved heavy Taliban fire to rescue a wounded soldier.\n",
      "Miles Foltz receive a Bronze Star; (2) a 2008 rescue by a then-20-year-old Army specialist Kyle White who never received a Silver Star but did receive the Medal of Honor from President Barack Obama in a White House ceremony years later; and (3) a 2011 ceremony for Army Staff Sgt.\n",
      "\n",
      "Cluster  110\n",
      "Chad Workman, who didn’t believe he deserved the award.\n",
      "Chad Workman.\n",
      "\n",
      "Cluster  101\n",
      "Workman’s valor and selflessness, which is emblematic of the duty and sacrifice of the 9/11 generation of veterans who have given so much across countless deployments,” Andrew Bates, a Biden campaign spokesman, said in a statement.\n",
      "Workman’s valor and selflessness, which is emblematic of the duty and sacrifice of the 9/11 generation of veterans who have given so much across countless deployments,”\n",
      "And Biden's deputy campaign manager and communications director posted on Twitter Thursday afternoon quoting the end of the Post report but saying nothing more.\n",
      "\n",
      "Cluster  8\n",
      "Bates described “honoring and recognizing those who have served our nation in uniform” as one of Biden’s “most solemn obligations” during his long career.\n",
      "And he added that Biden has “devoted himself wholeheartedly on a multitude of overseas trips and in domestic interactions” to keeping that charge.\n",
      "Biden has used war stories to celebrate military sacrifice and attack Trump’s version of patriotism, built around ferocity and firepower.\n",
      "But Biden’s son Beau Biden, who died of brain cancer in 2015, deployed to Iraq as an Army lawyer in 2008, and the candidate ends almost all of his speeches with the refrain: “May God protect our troops.”\n",
      "Embedded in Biden’s medal story are the touchstones of his long career: foreign policy expertise, patriotism and perseverance through grief.\n",
      "“I can’t remember how I phrased it, but it’s like the medal helps hold down all the guilt for all the things I didn’t do that day.”\n",
      "Biden returned home from his trip in 2008 worried that the United States was losing the war and moved by the battlefield award ceremony.\n",
      "\n",
      "Cluster  31\n",
      "In 1987, Biden dropped out of the presidential race amid charges that he had plagiarized the speeches of a British politician and others.\n",
      "During his first presidential bid for the 1988 Democrat nomination, Biden was accused of plagiarizing speeches on the campaign trail from Neil Kinnock, at the time a leading British politician.\n",
      "When the plagiarism was brought to light, Biden responded dismissively, claiming politicians borrowed themes and “echoed” each other all of the time.\n",
      "\n",
      "Cluster  26\n",
      "One big question facing candidates and voters more than 30 years later is whether President Trump’s routine falsehoods have changed the standards by which other presidential aspirants, including Biden, should be judged.\n",
      "\"This is like Reagan, not like Trump,\" Begala told CNN's Dana Bash, later adding that it's \"fine by me\" if Biden mixes up facts in comparison to Trump.\n",
      "\n",
      "Cluster  0\n",
      "He has continued to add to that total since then.\n",
      "(His campaign later clarified that the correct number is 21.)\n",
      "\n",
      "Cluster  69\n",
      "Biden’s first public recounting of his trip to Kunar province, made shortly after his return in early 2008, was largely true, but not nearly as emotionally fraught as the versions he would later tell on the campaign trail.\n",
      "Biden first started to recount the tale of bravery in 2008, the Post reports and revived it again in 2016 during Democrat Hillary Clinton's race against then-candidate Donald Trump.\n",
      "Biden is recounting now as he runs for president.\n",
      "\n",
      "Cluster  33\n",
      "Foltz pulled Alford behind a nearby rock, stanched his bleeding and then took over his friend’s weapon.\n",
      "In this version, Foltz, a young soldier, had been replaced by the apocryphal and much older Navy captain who in Biden’s telling “climbed down about 200 feet” into a ravine and retrieved his wounded friend who died.\n",
      "\n",
      "Cluster  39\n",
      "He saved a lot of lives.”\n",
      "For Foltz, the memory of Biden’s visit and the Bronze Star remain bittersweet.\n",
      "As for Foltz, he still remembers Biden's visit and the medal he received as Biden and other senators watched.\n",
      "\n",
      "Cluster  83\n",
      "“I wrote about it for an English class when I was going through college,” he said.\n",
      "“'I wrote about it for an English class when I was going through college,'” Foltz told the Post.\n",
      "\n",
      "Cluster  57\n",
      "White during a ceremony at the White House on May 13, 2014.\n",
      "White, the Medal of Honor at a White House ceremony, the paper reported.\n",
      "\n",
      "Cluster  4\n",
      "This time, Biden shifted the setting from Afghanistan to Iraq.\n",
      "Three weeks later, stumping for Jason Kander, an Afghan War veteran running for the Senate in Missouri, Biden told both the Iraq and Afghanistan versions back to back in a single speech.\n",
      "According to the Washington Post, Biden visited that part of Afghanistan while a U.S. senator in 2008, and the soldier involved in the rescue he cited was a young Army specialist, not a Navy captain.\n",
      "'”\n",
      "In a statement provided to the Post, a spokesman for the Biden campaign said \"In Afghanistan, he was moved by Staff Sgt.\n",
      "\n",
      "Cluster  3\n",
      "Instead of rappelling down a ravine, an Army captain pulled a dead soldier out of a burning Humvee.\n",
      "Then he segued to the Army officer, the burning Humvee and Iraq.\n",
      "\"It was a young man, my recollection was, that he pulled a colleague of his out of a burning humvee and he risked his life doing it and the young man died that he tried to save.\n",
      "\n",
      "Cluster  30\n",
      "I don’t deserve it,” Biden quoted the medal recipient as saying.\n",
      "“I didn’t want that medal.” Nevertheless on Jan. 11, 2011, a cold, gray day, Workman stood at attention as Biden pinned the medal to his chest.\n",
      "Workman confirms one key element of Biden's tale -- that he did not want the medal given to him by the then-vice president.\n",
      "\n",
      "Cluster  55\n",
      ". . ‘Sir,’ he whispered to me, ‘Sir, please don’t.\n",
      "And right before this – you see the look on his face – he says, 'Sir, I don’t want it.\n",
      "\n",
      "Cluster  58\n",
      "He died, Sir.\n",
      "He died, he died, he died.'\n",
      "\n",
      "Cluster  21\n",
      "“I call every morning to the Defense Department — not a joke — to learn exactly how many women and men have been killed in Afghanistan or Iraq,” he told the crowd.\n",
      "“I’ve been in an out of Afghanistan and Iraq over 30 times,” he said.\n",
      "\n",
      "Cluster  144\n",
      "(David Lienemann/The White House)\n",
      "Then Biden told the latest, and perhaps most inaccurate, version his Afghanistan story.\n",
      "Speaking to the Post and Courier, Biden admitted there were two different stories he occasionally tells on the campaign trail about Afghanistan, but would not confirm if he’d muddled their details together.\n",
      "“There was one that relates to the forward-operating base in Afghanistan that I went to and a separate one where I went on the streets of Afghanistan where a young man pulled someone from a burning humvee,” Biden said, before adding the “essence” of the story he told in New Hampshire was true.\n",
      "\n",
      "Cluster  132\n",
      "The moment is memorialized in a White House photo and in a 2016 interview that Biden did with National Geographic.\n",
      "The Washington Post's reporting centered on three different events which share some similar features:(1) a Jan. 2008 visit Biden made to Kunar province in Afghanistan as a senator where he watched Spec.\n",
      "\n",
      "Cluster  61\n",
      "He died.’ ”\n",
      "Workman’s version is the same, but with one added detail.\n",
      "‘Workman’s version is the same, but with one added detail.\n",
      "\n",
      "Cluster  50\n",
      "“I felt like he really understood.”\n",
      "Julie Tate contributed to this report.\n",
      "“I felt like he really understood.”’ https://t.co/ubufVbDU7b — Kate Bedingfield (@KBeds) August 29, 2019\n",
      "Read or Share this story: https://www.usatoday.com/story/news/politics/elections/2019/08/29/essence-story-biden-denies-conflating-details-war-story/2155634001/\n",
      "\n",
      "Cluster  109\n",
      "CNN political commentator Paul Begala went to bat for former Vice President Joe Biden after the Democratic frontrunner told a military story that reportedly \"never happened,\" comparing him to former President Ronald Reagan.\n",
      "\"In the space of three minutes, Biden got the time period, the location, the heroic act, the type of medal, the military branch and the rank of the recipient wrong, as well as his own role in the ceremony,\"\n",
      "When asked about Biden's remarks during a panel discussion, Begala pointed to the 1944 war film \"Wing and a Prayer.\"\n",
      "\n",
      "Cluster  6\n",
      "\"In that movie, there's a scene where a B-17 bomber pilot is going down, the plane's going down, and there's a wounded crewmate, crewmate can't escape.\n",
      "The pilot reaches over and takes his hand and says, 'Never mind son, we'll ride this down together.'\n",
      "\n",
      "Cluster  54\n",
      "JOE BIDEN TOLD MOVING MILITARY STORY AT CAMPAIGN STOP - BUT IT 'NEVER HAPPENED,' REPORT SAYS\n",
      "\"Ronald Reagan told that story word for word to a room full of Congressional Medal of Honor recipients and we loved him.\"\n",
      "Former Vice President Joe Biden responded Thursday to a Washington Post report claiming that a military story he shared on the campaign trail \"never happened,\" saying in an interview \"I don't know what the problem is.\"\n",
      "CNN PUNDIT DEFENDS BIDEN FOR WAR STORY BY COMPARING HIM TO REAGAN\n",
      "The Washington Post reported Thursday that the event \"never happened,\" after speaking with a dozen military and campaign sources.\n",
      "Biden responded Thursday to a Washington Post report claiming that a military story he'd shared on the campaign trail \"never happened,\" saying in a podcast interview: \"I don't know what the problem is.\"\n",
      "CNN PUNDIT DEFENDS BIDEN FOR WAR STORY BY COMPARING HIM TO REAGAN\n",
      "The Washington Post says it appears as if Biden \"jumbled elements of at least three actual events into one story.\"\n",
      "\n",
      "Cluster  43\n",
      "He said, 'Well, I may have seen the movie,' I might have seen it in Reader's Digest'... and then he said, 'Maybe I've seen too many war movies, the heroics of which I sometimes confuse with real life.'\n",
      "\"Well maybe Biden has seen too much real-life heroics and he's conflating and confusing them.\"\n",
      "\n",
      "Cluster  25\n",
      "The former Clinton aide clarified that he isn't \"for or against\" Biden's candidacy, but urged the former VP to \"embrace it\" since he had frequently visited Afghanistan and dismissed the notion that it's a big deal.\n",
      "“Biden and his team owe it to voters to put him on a real, rigorous public campaign schedule, like everyone else,” Adam Jentleson, a one time top aide to former Senate Minority Leader Harry Reid (D-NV), said recently.\n",
      "\n",
      "Cluster  92\n",
      "Former Vice President Joe Biden is under fire for fabricating an emotional story about the war in Afghanistan while campaigning in New Hampshire last week.\n",
      "Former Vice President Joe Biden is unapologetic for fabricating an emotional story about the war in Afghanistan, claiming its “essence” is true.\n",
      "\n",
      "Cluster  49\n",
      "“A four-star general had asked the then-vice president to travel to Kunar province in Afghanistan, a dangerous foray into ‘godforsaken country’ to recognize the remarkable heroism of a Navy captain,” the Washington Post reported on Thursday.\n",
      "He died.’”\n",
      "The story, in question, entailed the former vice president being asked by a four-star general to travel to Afghanistan to honor a Navy captain who risked his life to save a downed comrade.\n",
      "\n",
      "Cluster  42\n",
      "When campaigning in South Carolina on Wednesday, Biden appeared to forget the name of his former runningmate, President Barack Obama.\n",
      "In addition, host Tucker Carlson pointed to another incident in New Hampshire in which Biden, \"appeared to lose his train of thought and forget Barack Obama's name.\"\n",
      "\n",
      "Cluster  68\n",
      "“They invaded a significant portion of another country and annexed a significant portion of it called Crimea,” Biden said when discussing Russia’s invasion of Ukraine.\n",
      "\"They invaded another country, and annexed a significant portion of it called Crimea,\" Biden said.\n",
      "\n",
      "Cluster  72\n",
      "WATCH: JOE BIDEN SAYS HE DOESN'T KNOW NEW BRITISH PRIME MINISTER, JOKES HE 'LOOKS LIKE DONALD TRUMP'\n",
      "Several years after the trip to Afghanistan, Obama awarded the serviceman, Kyle J.\n",
      "WATCH: JOE BIDEN SAYS HE DOESN'T KNOW THE NEW BRITISH PRIME MINISTER, JOKES HE 'LOOKS LIKE DONALD TRUMP'\n",
      "\"The assertion I made was there was a young man who I attempted to pin a medal on at the request of the commander and he said, 'I don't want it.\n",
      "\n",
      "Cluster  37\n",
      "During an interview on Washington Post columnist Jonathan Capehart’s Cape Up podcast, Biden acknowledged that he had not read the report but stood firm against the criticism.\n",
      "But, in an interview with Post and Courier, Biden, 76, said he did not believe he was conflating details of different events -- though the former vice president also told the South Carolina newspaper he had not read the Washington Post report.\n",
      "“I don’t understand what they’re talking about,\" Biden told the Post and Courier, \"but the central point is it was absolutely accurate what I said.”\n",
      "The Post's report comes amid questions about Biden's age and his habit of gaffes, including a string of recent factual misstatements while on the presidential campaign trail.\n",
      "\n",
      "Cluster  15\n",
      "Well, everybody understood the context.\n",
      "It was a totally different context that it was all about.\n",
      "\n",
      "Cluster  71\n",
      "Later, everybody clarified it,\" Biden began.\n",
      "Biden was prepped.\n",
      "Biden, though, did not see it along those lines.\n",
      "\n",
      "Cluster  46\n",
      "\"There was no gaffe there.\n",
      "\"There was a separate incident that occurred at a different time and a different circumstance, but what I was talking about was a young man- I mean, what was the gaffe when I said there was a young man I tried to pin a medal on and he said, 'I don't want it, sir.\n",
      "\n",
      "Cluster  29\n",
      "Biden told the Post and Courier such concerns were \"ridiculous\" and disputed the notion “that there’s anything I said about that that wasn’t the essence of the story.”\n",
      "The Biden campaign has not responded to USA TODAY's request for comment.\n",
      "Those comments echo what Biden told the Post and Courier Thursday.\n",
      "\n",
      "Cluster  18\n",
      "“'I tried to get out of going,'\" Workman recalled to the Post, 'I didn’t want that medal.\n",
      "“'I can’t remember how I phrased it, but it’s like the medal helps hold down all the guilt for all the things I didn’t do that day.\n",
      "“The story was that he refused the medal because the fella he tried to save —and risked his life saving — died,” he said.\n",
      "\n",
      "Cluster  41\n",
      "Former Democratic National Committee (DNC) Chairwoman Donna Brazile defended presidential candidate Joe Biden Friday as he faced scrutiny and criticisms over a disputed war story.\n",
      "Brazile disputed Jones, insisting that Biden \"misspoke,\" unlike President Trump, whom she said \"lies.\"\n",
      "\n",
      "Cluster  114\n",
      "\"Most people know Joe Biden's character.\n",
      "\"But this story -- the way it came across and it came out -- [was] heartfelt because people know that Joe Biden is heartfelt.\"\n",
      "\n",
      "Cluster  107\n",
      "Co-host Lawrence Jones criticized Biden for the perceived blunder, saying that he either has a memory problem or is lying.\n",
      "\"So the campaign realizes, the people that are brought to protect Joe Biden, that there is a problem going on whether it's memory or whatever it may be or he's just lying and they don't want him out there,\" Jones said.\n",
      "\n"
     ]
    }
   ],
   "source": [
    "print_clusters(clusters_prev)"
   ]
  },
  {
   "cell_type": "code",
   "execution_count": 452,
   "id": "1699cdf2",
   "metadata": {},
   "outputs": [
    {
     "name": "stdout",
     "output_type": "stream",
     "text": [
      "Cluster  2\n",
      "Jr remarks came in response to a Washington Post article\n",
      "according to The Washington Post\n",
      "According to the Washington Post\n",
      "\n",
      "Cluster  18\n",
      "that I said wrong\n",
      "that I said wrong\n",
      "\n",
      "Cluster  25\n",
      "that Mr. Biden pinned a medal on a military service member\n",
      "that tells about a solider trying to reject a medal\n",
      "Embedded in Biden ’s medal story are the touchstones of candidate long career\n",
      "\n",
      "Cluster  11\n",
      "But in the story of military heroism Biden told\n",
      "Well maybe Biden has seen too much real life heroics and Biden 's conflating and confusing heroics\n",
      "In an interview with the Post Workman 's version of the story mirrors Biden 's\n",
      "as Biden told the story\n",
      "The story and story inaccuracies come to light as Biden ’s campaign\n",
      "Unfortunately for Biden however the story ’s strong impression also meant\n",
      "that the 76 year old former Biden had in fact conflated three different stories including one Army Staff Sgt\n",
      "\n",
      "Cluster  17\n",
      "Former Vice President Joe Biden 's campaign has been dogged by gaffes but a new error could be Biden most damaging yet\n",
      "While Biden campaign has dismissed Biden gaffes as part of a press narrative\n",
      "The gaffes appeared to have raised enough concerns that allies of the former vice president reportedly suggested Biden scale back the number of events\n",
      "The Post 's report comes amid questions about Biden 's age and Biden habit of gaffes including a string of recent factual misstatements while on the presidential campaign trail\n",
      "\n",
      "Cluster  16\n",
      "The controversy surrounds a moving military story that Biden told at a campaign stop in New Hampshire earlier this month\n",
      "Former Vice President Joe Biden is facing questions about a harrowing war story pointed out multiple inaccuracies in Biden account\n",
      "Biden defends Biden telling of a harrowing war story The vice president said the central point of president tale\n",
      "\n",
      "Cluster  23\n",
      "that Biden rattled off a slew of inaccurate facts in the span of just a few minutes\n",
      "Biden brushed off people concerns\n",
      "In response to such questionable conduct an increasing number of individuals on the left have begun raising concerns over Biden ’s capacity to serve as commander in chief Biden and chief team owe president to voters to put chief on a real rigorous public campaign schedule like everyone else\n",
      "that Biden has attempted to dismiss concerns about man credibility by going on defense\n",
      "\n",
      "Cluster  20\n",
      "that the crowd of 400 people in Hanover fell silent and the former vice president gave Viser word as a Biden\n",
      "which Biden told to more than 400 voters in Hanover\n",
      "\n",
      "Cluster  35\n",
      "In recent days Biden inaccurately stated the decade\n",
      "This time Biden said\n",
      "Such lapses have become more frequent in recent weeks with Biden at one point\n",
      "Biden got the time period\n",
      "\n",
      "Cluster  26\n",
      "When a reporter told Biden\n",
      "In an interview Thursday with The Post and Courier Biden pushed back on the report\n",
      "The report comes as Biden\n",
      "In an interview with a South Carolina newspaper Biden also said\n",
      "But in an interview with Post and Courier Biden said\n",
      "\n",
      "Cluster  7\n",
      "Biden 's brain surgeon has insisted\n",
      "Someone asked a question about mental health and Biden\n",
      "\n",
      "Cluster  47\n",
      "Reagan was asked about word later\n",
      "where Reagan does this vivid coherent brilliant narrative\n",
      "\n",
      "Cluster  27\n",
      "TO GET THE FOX NEWS APP\n",
      "TO GET THE FOX NEWS APP\n",
      "TO GET THE FOX NEWS APP\n",
      "\n",
      "Cluster  12\n",
      "Former Vice President Joe Biden responded Thursday to a Washington Post report claiming\n",
      "Biden responded Thursday to a Washington Post report claiming\n",
      "The Biden campaign has not responded to USA TODAY 's request for comment\n",
      "\n",
      "Cluster  14\n",
      "that man pulled a colleague of man out of a burning humvee and man risked man life and the young man died\n",
      "who had run into a burning vehicle\n",
      "\n",
      "Cluster  6\n",
      "But this story the way story came across and story came out\n",
      "Read or Share this story\n",
      "\n",
      "Cluster  28\n",
      "In that telling the captain climbed down about 200 feet into a ravine in Afghanistan\n",
      "the Navy captain rappelled down a 60 foot ravine under fire and retrieved the body of an American comrade\n",
      "\n",
      "Cluster  71\n",
      "the Pentagon has no record of a U.S. Army captain receiving a Silver Star during the period\n",
      "The Pentagon has no record of an Army captain receiving a Silver Star in Iraq during the time period\n",
      "\n",
      "Cluster  13\n",
      "according to the Post\n",
      "as the Post reported\n",
      "According to the Post\n",
      "According to the Post ’s reporting\n",
      "\n",
      "Cluster  15\n",
      "Joe Biden painted a vivid scene\n",
      "Initially raw emotion Biden exhibited during mission telling made a significant impression on those in attendance including members of the press\n",
      "\n",
      "Cluster  1\n",
      "Biden recalled Friday night\n",
      "Biden returned home from Biden trip in 2008\n",
      "how Biden remembered Geographic\n",
      "\n",
      "Cluster  4\n",
      "comrade voice rising to a shout\n",
      "Biden officer clenched and voice rising to a shout according to the Post\n",
      "\n",
      "Cluster  10\n",
      "The upshot In the space of three minutes Biden got the time period the location\n",
      "In the space of three minutes Biden got the time period\n",
      "\n",
      "Cluster  32\n",
      "where Foltz received a Bronze Star for valor for braving Taliban fire\n",
      "For Foltz the memory of Biden ’s visit and the Bronze Star remain bittersweet\n",
      "Miles Foltz receive a Bronze Star\n",
      "\n",
      "Cluster  0\n",
      "and John F. Kerry flew by helicopter to Forward Operating Base Naray not far from Afghanistan ’s border with Pakistan\n",
      "who braved heavy Taliban fire\n",
      "\n",
      "Cluster  3\n",
      "Gen. David Rodriguez presented a Bronze Star for valor to Spec\n",
      "The Bronze Star was upgraded to a Silver Star\n",
      "\n",
      "Cluster  19\n",
      "In July of that year Biden told Trump at a World War II ceremony in Australia\n",
      "Biden asked of Trump that day in Florida\n",
      "\n",
      "Cluster  24\n",
      "This time Biden shifted the setting from Afghanistan to Iraq\n",
      "Then Biden told the latest and perhaps most inaccurate version Biden Afghanistan story\n",
      "\n",
      "Cluster  9\n",
      "rappelling down a ravine\n",
      "I do n’t deserve ravine\n",
      "\n",
      "Cluster  33\n",
      "Biden talked about Kunar province\n",
      "Biden visited Kunar province in 2008 as a U.S. senator not as vice president\n",
      "\n",
      "Cluster  5\n",
      "The moment is memorialized in a White House photo and in a 2016 interview\n",
      "In particular the former vice president has shown difficulty remembering specific events locations and individuals during public appearances\n",
      "\n",
      "Cluster  22\n",
      "fabricating an emotional story about the war in Afghanistan\n",
      "fabricating an emotional story about the war in Afghanistan\n",
      "\n",
      "Cluster  8\n",
      "We can lose a vice president\n",
      "the former vice president added\n",
      "\n",
      "Cluster  58\n",
      "When the captain ’s superiors wanted to honor captain bravery with a Silver Star\n",
      "When the captain ’s superiors sought to honor captain bravery with a Silver Star\n",
      "\n"
     ]
    }
   ],
   "source": [
    "print_clusters(clusters_new)"
   ]
  },
  {
   "cell_type": "code",
   "execution_count": 427,
   "id": "6191082c",
   "metadata": {},
   "outputs": [],
   "source": [
    "df_sentences[\"cluster\"] = clustering_model_prev.labels_\n",
    "df_sentences_new[\"cluster\"] = clustering_model_new.labels_"
   ]
  },
  {
   "cell_type": "code",
   "execution_count": 428,
   "id": "c20a2760",
   "metadata": {},
   "outputs": [
    {
     "data": {
      "text/html": [
       "<div>\n",
       "<style scoped>\n",
       "    .dataframe tbody tr th:only-of-type {\n",
       "        vertical-align: middle;\n",
       "    }\n",
       "\n",
       "    .dataframe tbody tr th {\n",
       "        vertical-align: top;\n",
       "    }\n",
       "\n",
       "    .dataframe thead th {\n",
       "        text-align: right;\n",
       "    }\n",
       "</style>\n",
       "<table border=\"1\" class=\"dataframe\">\n",
       "  <thead>\n",
       "    <tr style=\"text-align: right;\">\n",
       "      <th></th>\n",
       "      <th>outlet</th>\n",
       "      <th>sentence</th>\n",
       "      <th>cluster</th>\n",
       "    </tr>\n",
       "  </thead>\n",
       "  <tbody>\n",
       "    <tr>\n",
       "      <th>0</th>\n",
       "      <td>The New York Times</td>\n",
       "      <td>whose habit of verbal missteps on the 2020 cam...</td>\n",
       "      <td>90</td>\n",
       "    </tr>\n",
       "    <tr>\n",
       "      <th>1</th>\n",
       "      <td>The New York Times</td>\n",
       "      <td>Jr remarks came in response to a Washington Po...</td>\n",
       "      <td>2</td>\n",
       "    </tr>\n",
       "    <tr>\n",
       "      <th>2</th>\n",
       "      <td>The New York Times</td>\n",
       "      <td>that I said wrong</td>\n",
       "      <td>18</td>\n",
       "    </tr>\n",
       "    <tr>\n",
       "      <th>3</th>\n",
       "      <td>The New York Times</td>\n",
       "      <td>that Mr. Biden pinned a medal on a military se...</td>\n",
       "      <td>25</td>\n",
       "    </tr>\n",
       "    <tr>\n",
       "      <th>4</th>\n",
       "      <td>The New York Times</td>\n",
       "      <td>But in the story of military heroism Biden told</td>\n",
       "      <td>11</td>\n",
       "    </tr>\n",
       "  </tbody>\n",
       "</table>\n",
       "</div>"
      ],
      "text/plain": [
       "               outlet                                           sentence  \\\n",
       "0  The New York Times  whose habit of verbal missteps on the 2020 cam...   \n",
       "1  The New York Times  Jr remarks came in response to a Washington Po...   \n",
       "2  The New York Times                                  that I said wrong   \n",
       "3  The New York Times  that Mr. Biden pinned a medal on a military se...   \n",
       "4  The New York Times    But in the story of military heroism Biden told   \n",
       "\n",
       "   cluster  \n",
       "0       90  \n",
       "1        2  \n",
       "2       18  \n",
       "3       25  \n",
       "4       11  "
      ]
     },
     "execution_count": 428,
     "metadata": {},
     "output_type": "execute_result"
    }
   ],
   "source": [
    "df_sentences_new.head()"
   ]
  },
  {
   "cell_type": "markdown",
   "id": "cdf64621",
   "metadata": {},
   "source": [
    "### Pruning / Filters"
   ]
  },
  {
   "cell_type": "markdown",
   "id": "e1d05cba",
   "metadata": {},
   "source": [
    "Here I filter out clusters that include sentences or clauses from only one outlet, since our goal is to compare news aspects included in articles across outlets."
   ]
  },
  {
   "cell_type": "code",
   "execution_count": 572,
   "id": "04955e24",
   "metadata": {},
   "outputs": [],
   "source": [
    "def prune_clusters(df_sentences):\n",
    "    \"\"\"Returns list of clusters that only contain one outlet\"\"\"\n",
    "    one_outlet_clusters = []\n",
    "    for clust in df_sentences[\"cluster\"].to_list():\n",
    "        df_temp = df_sentences.loc[df_sentences[\"cluster\"]==clust]\n",
    "        if len(set(df_temp[\"outlet\"])) < 2:\n",
    "            one_outlet_clusters.append(clust)\n",
    "    return one_outlet_clusters"
   ]
  },
  {
   "cell_type": "code",
   "execution_count": 454,
   "id": "559fa9e0",
   "metadata": {},
   "outputs": [],
   "source": [
    "one_outlet_clusters_prev = list(set(prune_clusters(df_sentences)))\n",
    "one_outlet_clusters_new = list(set(prune_clusters(df_sentences_new)))"
   ]
  },
  {
   "cell_type": "code",
   "execution_count": 455,
   "id": "dfdbe276",
   "metadata": {},
   "outputs": [],
   "source": [
    "df_sentences_filter_prev = df_sentences.loc[~df_sentences[\"cluster\"].isin(one_outlet_clusters_prev)]\n",
    "df_sentences_filter_new = df_sentences_new.loc[~df_sentences_new[\"cluster\"].isin(one_outlet_clusters_new)]\n"
   ]
  },
  {
   "cell_type": "markdown",
   "id": "29f0ea58",
   "metadata": {},
   "source": [
    "# Evaluation (code written for Data 620 final)"
   ]
  },
  {
   "cell_type": "markdown",
   "id": "5ddd7e45",
   "metadata": {},
   "source": [
    "Once again, I use the sentence similarity model to compare sentence pairs. This time I am comparing all sentence and clause combinations and retaining only pairs with similarity scores above .7, a heuristic chosen after thorough manual review. The idea is sentence and clause pairs above .7 represent text covering the same story aspect. This will ultimately let us know what news outlets are not including the core aspects of the story. We can see from the results that while the sentence comparisons lead to more successful results (as determined by filtering criteria), the clause comparison provide incremental story aspect matches. For now, including both approaches appears to be the optimal approach. Additionally, improving the clause algorithm, which currently discards a high number of clauses, will likely improve the volume of successful results."
   ]
  },
  {
   "cell_type": "code",
   "execution_count": 456,
   "id": "286b7915",
   "metadata": {},
   "outputs": [],
   "source": [
    "def find_high_quality_aspect_matches(df_sentences_filter):\n",
    "    for clust_num in list(set(df_sentences_filter[\"cluster\"])):\n",
    "        scores_all = []\n",
    "        df_sent_clust = df_sentences_filter[df_sentences_filter[\"cluster\"]==clust_num]\n",
    "        for i in itertools.combinations(df_sent_clust[\"sentence\"].to_list(), 2):\n",
    "            sent_one = model.encode(i[0])\n",
    "            sent_two = model.encode(i[1])\n",
    "\n",
    "            # Compute dot score between query and all document embeddings\n",
    "            scores = util.dot_score(sent_one, sent_two)[0].cpu().tolist()\n",
    "\n",
    "            sen_tup1 = (i[0],\"str\")\n",
    "            sen_tup2 = (i[1], \"str\")\n",
    "\n",
    "            # Combine docs & scores\n",
    "            doc_score_pairs = list(zip(sen_tup1, sen_tup2, scores))\n",
    "\n",
    "            # Sort by decreasing score\n",
    "            doc_score_pairs = sorted(doc_score_pairs, key=lambda x: x[1], reverse=True)\n",
    "\n",
    "            # Output passages & scores\n",
    "            for doc, doc2, score in doc_score_pairs:\n",
    "                scores_all.append(score)\n",
    "        if np.mean(scores_all) > .7:\n",
    "            print(clust_num, np.mean(scores_all), scores_all)"
   ]
  },
  {
   "cell_type": "code",
   "execution_count": 457,
   "id": "270505d1",
   "metadata": {},
   "outputs": [
    {
     "name": "stdout",
     "output_type": "stream",
     "text": [
      "130 0.7140808502833048 [0.7027899026870728, 0.694469153881073, 0.7449834942817688]\n",
      "133 0.7041655977567037 [0.7004562020301819, 0.6947999596595764, 0.7172406315803528]\n",
      "10 0.7078566630681355 [0.7418990731239319, 0.7039955854415894, 0.6154731512069702, 0.7471650242805481, 0.7409366965293884, 0.7188611030578613, 0.5176450610160828, 0.7137230038642883, 0.6953073143959045, 0.6507924795150757, 0.7638155221939087, 0.7188830971717834, 0.6939267516136169, 0.7385793328285217, 0.8568467497825623]\n",
      "19 0.7423152526219686 [0.7074116468429565, 0.7488417625427246, 0.7706923484802246]\n",
      "28 0.7574264407157898 [0.7574264407157898]\n",
      "31 0.7140036026636759 [0.8055289387702942, 0.6783513426780701, 0.6581305265426636]\n",
      "34 0.7338991761207581 [0.7046188116073608, 0.8622657656669617, 0.6348129510879517]\n",
      "36 0.7432963490486145 [0.786224901676178, 0.7259458899497986, 0.7608432173728943, 0.6242493987083435, 0.7492883205413818, 0.8211634755134583, 0.6780215501785278, 0.7931594252586365, 0.656410813331604, 0.8376564979553223]\n",
      "38 0.9175558090209961 [0.9175558090209961]\n",
      "39 0.718542218208313 [0.718542218208313]\n",
      "57 0.7699702978134155 [0.7699702978134155]\n",
      "60 0.8987131118774414 [0.8987131118774414]\n",
      "64 0.7368009686470032 [0.8703036308288574, 0.6239441633224487, 0.6859841346740723, 0.8582024574279785, 0.6260049343109131, 0.7848849296569824, 0.9790590405464172, 0.5817855000495911, 0.6031762957572937, 0.7546645998954773]\n",
      "68 0.9399822950363159 [0.9399822950363159]\n",
      "70 0.7733260989189148 [0.723791778087616, 0.7031174302101135, 0.8930690884590149]\n",
      "75 0.8067123889923096 [0.761867344379425, 0.8160620927810669, 0.8929188847541809, 0.7673814296722412, 0.7452610731124878, 0.8567835092544556]\n",
      "83 0.9340170621871948 [0.9340170621871948]\n",
      "87 0.8186214566230774 [0.8186214566230774]\n",
      "89 0.9046187996864319 [0.9046187996864319]\n",
      "94 0.7368336915969849 [0.7368336915969849]\n",
      "99 0.9231092154979705 [0.9420449733734131, 0.9573326706886292, 0.9721425771713257, 0.8341306447982788, 0.9673680067062378, 0.956412672996521, 0.9004188179969788, 0.9609381556510925, 0.8598504662513733, 0.8804531693458557]\n",
      "100 0.8437021374702454 [0.8437021374702454]\n",
      "101 0.9687110185623169 [0.9687110185623169]\n",
      "105 0.7952227393786112 [0.7891979217529297, 0.7742434144020081, 0.8310468196868896, 0.875281810760498, 0.733323335647583, 0.768243134021759]\n",
      "112 0.7591598033905029 [0.7603387236595154, 0.7785717844963074, 0.738568902015686]\n",
      "115 0.8379121025403341 [0.8017549514770508, 0.7747612595558167, 0.9372200965881348]\n",
      "123 0.93657386302948 [0.93657386302948]\n"
     ]
    }
   ],
   "source": [
    "find_high_quality_aspect_matches(df_sentences_filter_prev)"
   ]
  },
  {
   "cell_type": "code",
   "execution_count": 458,
   "id": "0001b73f",
   "metadata": {
    "scrolled": true
   },
   "outputs": [
    {
     "name": "stdout",
     "output_type": "stream",
     "text": [
      "10 0.8400708436965942 [0.8400708436965942]\n",
      "12 0.7096285025278727 [0.8252482414245605, 0.6208471655845642, 0.6827901005744934]\n",
      "13 0.7280360658963522 [0.6171013116836548, 0.9999995827674866, 0.6911301612854004, 0.6171013116836548, 0.7517538666725159, 0.6911301612854004]\n",
      "17 0.7332401971022288 [0.7421143054962158, 0.7893087267875671, 0.6902952194213867, 0.7710067629814148, 0.7316427826881409, 0.6750733852386475]\n",
      "18 0.9999995827674866 [0.9999995827674866]\n",
      "71 0.9461154937744141 [0.9461154937744141]\n"
     ]
    }
   ],
   "source": [
    "find_high_quality_aspect_matches(df_sentences_filter_new)"
   ]
  },
  {
   "cell_type": "markdown",
   "id": "69f57f30",
   "metadata": {},
   "source": [
    "#### Incremental Aspects"
   ]
  },
  {
   "cell_type": "markdown",
   "id": "d1921bc1",
   "metadata": {},
   "source": [
    "Below we can see the incremental aspects provided by the clause extraction comparisons. Cluster 13 at first glance does not appear to be helpful in providing information, however, considering the importance of determining the source of the original article, it is important to highlight which outlets noted which source(s). Cluster 71 is a more prototypical example of what this analysis is trying to uncover, where the exact same story aspects are included."
   ]
  },
  {
   "cell_type": "markdown",
   "id": "da2bd937",
   "metadata": {},
   "source": [
    "**Cluster  12** <br>\n",
    "Former Vice President Joe Biden responded Thursday to a Washington Post report claiming <br>\n",
    "Biden responded Thursday to a Washington Post report claiming <br>\n",
    "The Biden campaign has not responded to USA TODAY 's request for comment\n",
    "\n",
    "\n",
    "**Cluster  13** <br>\n",
    "according to the Post <br>\n",
    "as the Post reported <br>\n",
    "According to the Post <br>\n",
    "According to the Post ’s reporting\n",
    "\n",
    "**Cluster  71** <br>\n",
    "the Pentagon has no record of a U.S. Army captain receiving a Silver Star during the period <br>\n",
    "The Pentagon has no record of an Army captain receiving a Silver Star in Iraq during the time period"
   ]
  },
  {
   "cell_type": "markdown",
   "id": "2af64ca6",
   "metadata": {},
   "source": [
    "### Compute ROUGE"
   ]
  },
  {
   "cell_type": "markdown",
   "id": "9319e357",
   "metadata": {},
   "source": [
    "ROUGE, Recall-Oriented Understudy for Gisting Evaluation, is a natural language processing metric used primarily for evaluating the quality of generated summary text compared to a reference summary. As mentioned, my process for clause comparisons still needs much improvement, though we can see moderate results are being obtained on a subset of the results."
   ]
  },
  {
   "cell_type": "code",
   "execution_count": 11,
   "id": "a37040c3",
   "metadata": {},
   "outputs": [],
   "source": [
    "scorer = rouge_scorer.RougeScorer(['rouge1'], use_stemmer=True)"
   ]
  },
  {
   "cell_type": "code",
   "execution_count": 25,
   "id": "f316d2ef",
   "metadata": {},
   "outputs": [],
   "source": [
    "test_list_according = ['according to the Post',\n",
    "                      'as the Post reported',\n",
    "                      'According to the Post',\n",
    "                      'According to the Post ’s reporting']\n",
    "\n",
    "test_list_pentagon = ['the Pentagon has no record of a U.S. Army captain receiving a Silver Star during the period',\n",
    "                      'The Pentagon has no record of an Army captain receiving a Silver Star in Iraq during the time period',]"
   ]
  },
  {
   "cell_type": "code",
   "execution_count": 26,
   "id": "b16ab295",
   "metadata": {},
   "outputs": [],
   "source": [
    "def compute_rouge(test_list):\n",
    "    all_precision = []\n",
    "    for i in itertools.combinations(test_list, 2):\n",
    "                scores = scorer.score(i[0], i[1])\n",
    "                print(scores['rouge1'])\n",
    "                all_precision.append(scores['rouge1'].precision)\n",
    "\n",
    "    print(\"Avg. Precision of Cluster\")\n",
    "    print((sum(all_precision)/len(all_precision)))"
   ]
  },
  {
   "cell_type": "code",
   "execution_count": 27,
   "id": "5cad2f9f",
   "metadata": {},
   "outputs": [
    {
     "name": "stdout",
     "output_type": "stream",
     "text": [
      "Score(precision=0.5, recall=0.5, fmeasure=0.5)\n",
      "Score(precision=1.0, recall=1.0, fmeasure=1.0)\n",
      "Score(precision=0.6666666666666666, recall=1.0, fmeasure=0.8)\n",
      "Score(precision=0.5, recall=0.5, fmeasure=0.5)\n",
      "Score(precision=0.5, recall=0.75, fmeasure=0.6)\n",
      "Score(precision=0.6666666666666666, recall=1.0, fmeasure=0.8)\n",
      "Avg. Precision of Cluster\n",
      "0.6388888888888888\n"
     ]
    }
   ],
   "source": [
    "compute_rouge(test_list_according)"
   ]
  },
  {
   "cell_type": "code",
   "execution_count": 28,
   "id": "426784e3",
   "metadata": {},
   "outputs": [
    {
     "name": "stdout",
     "output_type": "stream",
     "text": [
      "Score(precision=0.7894736842105263, recall=0.8333333333333334, fmeasure=0.8108108108108109)\n",
      "Avg. Precision of Cluster\n",
      "0.7894736842105263\n"
     ]
    }
   ],
   "source": [
    "compute_rouge(test_list_pentagon)"
   ]
  },
  {
   "cell_type": "markdown",
   "id": "584b43f4",
   "metadata": {},
   "source": [
    "# References"
   ]
  },
  {
   "cell_type": "markdown",
   "id": "238cbd78",
   "metadata": {},
   "source": [
    "spaCy: https://spacy.io/ <br>\n",
    "SentenceTransformers: https://www.sbert.net/ <br>\n",
    "Sentence similarity: https://huggingface.co/sentence-transformers/multi-qa-MiniLM-L6-cos-v1 <br>\n",
    "Coreference Resolution: https://github.com/explosion/coreferee <br>\n",
    "CS 124: From Languages to Information: http://web.stanford.edu/class/cs124/ <br>\n",
    "scikit-learn, Agglomerative Clustering: https://scikit-learn.org/stable/modules/generated/sklearn.cluster.AgglomerativeClustering.html <br>\n",
    "The Most Common Evaluation Metrics In NLP, Towards Science: https://towardsdatascience.com/the-most-common-evaluation-metrics-in-nlp-ced6a763ac8b"
   ]
  },
  {
   "cell_type": "code",
   "execution_count": null,
   "id": "386f1ddf",
   "metadata": {},
   "outputs": [],
   "source": []
  }
 ],
 "metadata": {
  "kernelspec": {
   "display_name": "Python 3 (ipykernel)",
   "language": "python",
   "name": "python3"
  },
  "language_info": {
   "codemirror_mode": {
    "name": "ipython",
    "version": 3
   },
   "file_extension": ".py",
   "mimetype": "text/x-python",
   "name": "python",
   "nbconvert_exporter": "python",
   "pygments_lexer": "ipython3",
   "version": "3.9.6"
  }
 },
 "nbformat": 4,
 "nbformat_minor": 5
}
